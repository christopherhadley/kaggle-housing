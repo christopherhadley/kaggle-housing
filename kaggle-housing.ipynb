{
 "cells": [
  {
   "cell_type": "markdown",
   "metadata": {},
   "source": [
    "# Kaggle: house prices\n",
    "https://www.kaggle.com/c/house-prices-advanced-regression-techniques"
   ]
  },
  {
   "cell_type": "markdown",
   "metadata": {},
   "source": [
    "## Import packages"
   ]
  },
  {
   "cell_type": "code",
   "execution_count": 352,
   "metadata": {
    "collapsed": true
   },
   "outputs": [],
   "source": [
    "# data analysis and wrangling\n",
    "import pandas as pd\n",
    "import numpy as np\n",
    "\n",
    "# visualization\n",
    "import seaborn as sns\n",
    "import matplotlib\n",
    "import matplotlib.pyplot as plt\n",
    "%matplotlib inline\n",
    "\n",
    "# Stats\n",
    "from scipy.stats.stats import skew\n",
    "from scipy.stats.stats import pearsonr"
   ]
  },
  {
   "cell_type": "markdown",
   "metadata": {},
   "source": [
    "## Import data"
   ]
  },
  {
   "cell_type": "code",
   "execution_count": 353,
   "metadata": {},
   "outputs": [],
   "source": [
    "# Test and training set\n",
    "train = pd.read_csv('train.csv')\n",
    "test = pd.read_csv('test.csv')\n",
    "# Combine into one dataset for the purposes of cleaning, and make sure that index continues\n",
    "data_full = pd.concat([train, test], keys = ['train', 'test'])#ignore_index = True)"
   ]
  },
  {
   "cell_type": "code",
   "execution_count": 354,
   "metadata": {},
   "outputs": [
    {
     "data": {
      "text/html": [
       "<div>\n",
       "<table border=\"1\" class=\"dataframe\">\n",
       "  <thead>\n",
       "    <tr style=\"text-align: right;\">\n",
       "      <th></th>\n",
       "      <th>Id</th>\n",
       "      <th>MSSubClass</th>\n",
       "      <th>MSZoning</th>\n",
       "      <th>LotFrontage</th>\n",
       "      <th>LotArea</th>\n",
       "      <th>Street</th>\n",
       "      <th>Alley</th>\n",
       "      <th>LotShape</th>\n",
       "      <th>LandContour</th>\n",
       "      <th>Utilities</th>\n",
       "      <th>...</th>\n",
       "      <th>PoolArea</th>\n",
       "      <th>PoolQC</th>\n",
       "      <th>Fence</th>\n",
       "      <th>MiscFeature</th>\n",
       "      <th>MiscVal</th>\n",
       "      <th>MoSold</th>\n",
       "      <th>YrSold</th>\n",
       "      <th>SaleType</th>\n",
       "      <th>SaleCondition</th>\n",
       "      <th>SalePrice</th>\n",
       "    </tr>\n",
       "  </thead>\n",
       "  <tbody>\n",
       "    <tr>\n",
       "      <th>0</th>\n",
       "      <td>1</td>\n",
       "      <td>60</td>\n",
       "      <td>RL</td>\n",
       "      <td>65.0</td>\n",
       "      <td>8450</td>\n",
       "      <td>Pave</td>\n",
       "      <td>NaN</td>\n",
       "      <td>Reg</td>\n",
       "      <td>Lvl</td>\n",
       "      <td>AllPub</td>\n",
       "      <td>...</td>\n",
       "      <td>0</td>\n",
       "      <td>NaN</td>\n",
       "      <td>NaN</td>\n",
       "      <td>NaN</td>\n",
       "      <td>0</td>\n",
       "      <td>2</td>\n",
       "      <td>2008</td>\n",
       "      <td>WD</td>\n",
       "      <td>Normal</td>\n",
       "      <td>208500</td>\n",
       "    </tr>\n",
       "    <tr>\n",
       "      <th>1</th>\n",
       "      <td>2</td>\n",
       "      <td>20</td>\n",
       "      <td>RL</td>\n",
       "      <td>80.0</td>\n",
       "      <td>9600</td>\n",
       "      <td>Pave</td>\n",
       "      <td>NaN</td>\n",
       "      <td>Reg</td>\n",
       "      <td>Lvl</td>\n",
       "      <td>AllPub</td>\n",
       "      <td>...</td>\n",
       "      <td>0</td>\n",
       "      <td>NaN</td>\n",
       "      <td>NaN</td>\n",
       "      <td>NaN</td>\n",
       "      <td>0</td>\n",
       "      <td>5</td>\n",
       "      <td>2007</td>\n",
       "      <td>WD</td>\n",
       "      <td>Normal</td>\n",
       "      <td>181500</td>\n",
       "    </tr>\n",
       "    <tr>\n",
       "      <th>2</th>\n",
       "      <td>3</td>\n",
       "      <td>60</td>\n",
       "      <td>RL</td>\n",
       "      <td>68.0</td>\n",
       "      <td>11250</td>\n",
       "      <td>Pave</td>\n",
       "      <td>NaN</td>\n",
       "      <td>IR1</td>\n",
       "      <td>Lvl</td>\n",
       "      <td>AllPub</td>\n",
       "      <td>...</td>\n",
       "      <td>0</td>\n",
       "      <td>NaN</td>\n",
       "      <td>NaN</td>\n",
       "      <td>NaN</td>\n",
       "      <td>0</td>\n",
       "      <td>9</td>\n",
       "      <td>2008</td>\n",
       "      <td>WD</td>\n",
       "      <td>Normal</td>\n",
       "      <td>223500</td>\n",
       "    </tr>\n",
       "  </tbody>\n",
       "</table>\n",
       "<p>3 rows × 81 columns</p>\n",
       "</div>"
      ],
      "text/plain": [
       "   Id  MSSubClass MSZoning  LotFrontage  LotArea Street Alley LotShape  \\\n",
       "0   1          60       RL         65.0     8450   Pave   NaN      Reg   \n",
       "1   2          20       RL         80.0     9600   Pave   NaN      Reg   \n",
       "2   3          60       RL         68.0    11250   Pave   NaN      IR1   \n",
       "\n",
       "  LandContour Utilities    ...     PoolArea PoolQC Fence MiscFeature MiscVal  \\\n",
       "0         Lvl    AllPub    ...            0    NaN   NaN         NaN       0   \n",
       "1         Lvl    AllPub    ...            0    NaN   NaN         NaN       0   \n",
       "2         Lvl    AllPub    ...            0    NaN   NaN         NaN       0   \n",
       "\n",
       "  MoSold YrSold  SaleType  SaleCondition  SalePrice  \n",
       "0      2   2008        WD         Normal     208500  \n",
       "1      5   2007        WD         Normal     181500  \n",
       "2      9   2008        WD         Normal     223500  \n",
       "\n",
       "[3 rows x 81 columns]"
      ]
     },
     "execution_count": 354,
     "metadata": {},
     "output_type": "execute_result"
    }
   ],
   "source": [
    "# What does the dataset look like?\n",
    "train.head(3)"
   ]
  },
  {
   "cell_type": "markdown",
   "metadata": {},
   "source": [
    "## Data cleansing"
   ]
  },
  {
   "cell_type": "markdown",
   "metadata": {},
   "source": [
    "### Dealing with nulls"
   ]
  },
  {
   "cell_type": "code",
   "execution_count": 355,
   "metadata": {
    "scrolled": true
   },
   "outputs": [
    {
     "name": "stdout",
     "output_type": "stream",
     "text": [
      "Col name, Number of nulls, Number of unique values % of nulls\n"
     ]
    },
    {
     "data": {
      "text/plain": [
       "[['PoolQC', 1453, 4, '0.995'],\n",
       " ['MiscFeature', 1406, 5, '0.963'],\n",
       " ['Alley', 1369, 3, '0.938'],\n",
       " ['Fence', 1179, 5, '0.808'],\n",
       " ['FireplaceQu', 690, 6, '0.473'],\n",
       " ['LotFrontage', 259, 111, '0.177'],\n",
       " ['GarageType', 81, 7, '0.055'],\n",
       " ['GarageYrBlt', 81, 98, '0.055'],\n",
       " ['GarageFinish', 81, 4, '0.055'],\n",
       " ['GarageQual', 81, 6, '0.055'],\n",
       " ['GarageCond', 81, 6, '0.055'],\n",
       " ['BsmtExposure', 38, 5, '0.026'],\n",
       " ['BsmtFinType2', 38, 7, '0.026'],\n",
       " ['BsmtQual', 37, 5, '0.025'],\n",
       " ['BsmtCond', 37, 5, '0.025'],\n",
       " ['BsmtFinType1', 37, 7, '0.025'],\n",
       " ['MasVnrType', 8, 5, '0.005'],\n",
       " ['MasVnrArea', 8, 328, '0.005'],\n",
       " ['Electrical', 1, 6, '0.001'],\n",
       " ['Id', 0, 1460, '0.000'],\n",
       " ['MSSubClass', 0, 15, '0.000'],\n",
       " ['MSZoning', 0, 5, '0.000'],\n",
       " ['LotArea', 0, 1073, '0.000'],\n",
       " ['Street', 0, 2, '0.000'],\n",
       " ['LotShape', 0, 4, '0.000'],\n",
       " ['LandContour', 0, 4, '0.000'],\n",
       " ['Utilities', 0, 2, '0.000'],\n",
       " ['LotConfig', 0, 5, '0.000'],\n",
       " ['LandSlope', 0, 3, '0.000'],\n",
       " ['Neighborhood', 0, 25, '0.000'],\n",
       " ['Condition1', 0, 9, '0.000'],\n",
       " ['Condition2', 0, 8, '0.000'],\n",
       " ['BldgType', 0, 5, '0.000'],\n",
       " ['HouseStyle', 0, 8, '0.000'],\n",
       " ['OverallQual', 0, 10, '0.000'],\n",
       " ['OverallCond', 0, 9, '0.000'],\n",
       " ['YearBuilt', 0, 112, '0.000'],\n",
       " ['YearRemodAdd', 0, 61, '0.000'],\n",
       " ['RoofStyle', 0, 6, '0.000'],\n",
       " ['RoofMatl', 0, 8, '0.000'],\n",
       " ['Exterior1st', 0, 15, '0.000'],\n",
       " ['Exterior2nd', 0, 16, '0.000'],\n",
       " ['ExterQual', 0, 4, '0.000'],\n",
       " ['ExterCond', 0, 5, '0.000'],\n",
       " ['Foundation', 0, 6, '0.000'],\n",
       " ['BsmtFinSF1', 0, 637, '0.000'],\n",
       " ['BsmtFinSF2', 0, 144, '0.000'],\n",
       " ['BsmtUnfSF', 0, 780, '0.000'],\n",
       " ['TotalBsmtSF', 0, 721, '0.000'],\n",
       " ['Heating', 0, 6, '0.000'],\n",
       " ['HeatingQC', 0, 5, '0.000'],\n",
       " ['CentralAir', 0, 2, '0.000'],\n",
       " ['1stFlrSF', 0, 753, '0.000'],\n",
       " ['2ndFlrSF', 0, 417, '0.000'],\n",
       " ['LowQualFinSF', 0, 24, '0.000'],\n",
       " ['GrLivArea', 0, 861, '0.000'],\n",
       " ['BsmtFullBath', 0, 4, '0.000'],\n",
       " ['BsmtHalfBath', 0, 3, '0.000'],\n",
       " ['FullBath', 0, 4, '0.000'],\n",
       " ['HalfBath', 0, 3, '0.000'],\n",
       " ['BedroomAbvGr', 0, 8, '0.000'],\n",
       " ['KitchenAbvGr', 0, 4, '0.000'],\n",
       " ['KitchenQual', 0, 4, '0.000'],\n",
       " ['TotRmsAbvGrd', 0, 12, '0.000'],\n",
       " ['Functional', 0, 7, '0.000'],\n",
       " ['Fireplaces', 0, 4, '0.000'],\n",
       " ['GarageCars', 0, 5, '0.000'],\n",
       " ['GarageArea', 0, 441, '0.000'],\n",
       " ['PavedDrive', 0, 3, '0.000'],\n",
       " ['WoodDeckSF', 0, 274, '0.000'],\n",
       " ['OpenPorchSF', 0, 202, '0.000'],\n",
       " ['EnclosedPorch', 0, 120, '0.000'],\n",
       " ['3SsnPorch', 0, 20, '0.000'],\n",
       " ['ScreenPorch', 0, 76, '0.000'],\n",
       " ['PoolArea', 0, 8, '0.000'],\n",
       " ['MiscVal', 0, 21, '0.000'],\n",
       " ['MoSold', 0, 12, '0.000'],\n",
       " ['YrSold', 0, 5, '0.000'],\n",
       " ['SaleType', 0, 9, '0.000'],\n",
       " ['SaleCondition', 0, 6, '0.000'],\n",
       " ['SalePrice', 0, 663, '0.000']]"
      ]
     },
     "execution_count": 355,
     "metadata": {},
     "output_type": "execute_result"
    }
   ],
   "source": [
    "# Count the uniques for each column for a given dataframe\n",
    "def df_uniques(df):\n",
    "    print('Col name,', 'Number of nulls,', 'Number of unique values', '% of nulls')\n",
    "    list_of_features = []\n",
    "    for col in df:\n",
    "        l = [col, df[col].shape[0] - df[col].count(), df[col].unique().shape[0], '%.3f' %((df[col].shape[0] - df[col].count()) / df[col].shape[0])]\n",
    "        list_of_features.append(l)\n",
    "    # Sort by the number of NULLs: \n",
    "    list_of_features = sorted(list_of_features, key = lambda x: x[1], reverse = True)\n",
    "    return list_of_features\n",
    "\n",
    "df_uniques(train)"
   ]
  },
  {
   "cell_type": "code",
   "execution_count": 356,
   "metadata": {
    "collapsed": true
   },
   "outputs": [],
   "source": [
    "# The following features have a crazy number of nulls \n",
    "# PoolQC, MiscFeature, Alley, Fence, FireplaceQu, LotFrontage \n",
    "\n",
    "# From looking at the data dictionary, these NAs are not necessarily a problem - but \"NA\" or nUll is misleading, so let's replace them\n",
    "# Alley: NA = no alley -> replace with \"None\"\n",
    "# MiscFeature: other features (e.g. tennis court) - NA = no other feature -> replace with \"None\"\n",
    "# Fence: NA = no fence -> replace with \"None\"\n",
    "# FireplaceQu: you guessed it -> replace with \"None\""
   ]
  },
  {
   "cell_type": "code",
   "execution_count": 357,
   "metadata": {
    "scrolled": true
   },
   "outputs": [
    {
     "name": "stdout",
     "output_type": "stream",
     "text": [
      "['Alley', 'BsmtCond', 'BsmtExposure', 'BsmtFinSF1', 'BsmtFinSF2', 'BsmtFinType1', 'BsmtFinType2', 'BsmtFullBath', 'BsmtHalfBath', 'BsmtQual', 'BsmtUnfSF', 'Electrical', 'Exterior1st', 'Exterior2nd', 'Fence', 'FireplaceQu', 'Functional', 'GarageArea', 'GarageCars', 'GarageCond', 'GarageFinish', 'GarageQual', 'GarageType', 'GarageYrBlt', 'KitchenQual', 'LotFrontage', 'MSZoning', 'MasVnrArea', 'MasVnrType', 'MiscFeature', 'PoolQC', 'SalePrice', 'SaleType', 'TotalBsmtSF', 'Utilities']\n"
     ]
    }
   ],
   "source": [
    "# Let's get a neat list of the null columns - need to combine both datasets for this\n",
    "null_columns = [col for col in data_full.columns if data_full[col].isnull().any()]\n",
    "print(null_columns)"
   ]
  },
  {
   "cell_type": "code",
   "execution_count": 358,
   "metadata": {},
   "outputs": [],
   "source": [
    "# Define a function to replace nulls for many columns: \n",
    "def fill_nulls(df, col_list, na_val):\n",
    "    for col in col_list:\n",
    "        df[col].fillna(value = na_val, inplace = True)\n",
    "    return df"
   ]
  },
  {
   "cell_type": "code",
   "execution_count": 359,
   "metadata": {},
   "outputs": [],
   "source": [
    "# Categorical fields with an obvious meaning NA -> 'None'\n",
    "nulls_to_none = ['PoolQC', 'Fence', 'MiscFeature', 'Alley', 'FireplaceQu', 'MasVnrType', 'BsmtCond', \n",
    "                 'BsmtExposure', 'BsmtFinType1', 'BsmtFinType2', 'Electrical', 'GarageType', 'GarageFinish', \n",
    "                 'GarageQual', 'GarageCond', 'KitchenQual']\n",
    "# Numerical fields with an obvious meaning NA -> 0\n",
    "nulls_to_zero = ['LotFrontage', 'MasVnrArea', 'BsmtQual', 'GarageYrBlt', 'BsmtFinSF1', 'BsmtFinSF2', 'BsmtFullBath', \n",
    "                 'BsmtHalfBath', 'BsmtUnfSF', 'GarageArea', 'GarageCars', 'TotalBsmtSF']\n",
    "\n",
    "# Categorical fields with a less obvious interpretation - guessing that NA means 'None' (there are very few anyway)\n",
    "nulls_to_zero_2 = ['MSZoning', 'Utilities', 'Exterior1st', 'Exterior2nd']\n",
    "nulls_to_other = ['SaleType', 'Functional']\n",
    "\n",
    "# Apply to both test and training sets:\n",
    "for df in [train, test]: \n",
    "    fill_nulls(df, nulls_to_none, 'None')\n",
    "    fill_nulls(df, nulls_to_zero, 0)\n",
    "    fill_nulls(df, nulls_to_zero_2, 0)\n",
    "    fill_nulls(df, nulls_to_other, 'Other')\n",
    "# NB we still have 'data_full' which has not been updated yet"
   ]
  },
  {
   "cell_type": "code",
   "execution_count": 360,
   "metadata": {
    "collapsed": true
   },
   "outputs": [],
   "source": [
    "# Add more here about infilling with median values for some fields...."
   ]
  },
  {
   "cell_type": "markdown",
   "metadata": {},
   "source": [
    "### Data types\n",
    "Let's make sure everything is in the correct data type.  Pandas will have a go at importing things correctly, but this is good practice to make sure that things haven't gone awry. Ultimately we'll want to use dummy variables for categorical data anyway."
   ]
  },
  {
   "cell_type": "code",
   "execution_count": 361,
   "metadata": {
    "scrolled": true
   },
   "outputs": [],
   "source": [
    "# Print out data types\n",
    "def data_types(df):\n",
    "    for col in df:\n",
    "        print(col, type(df[col][1]))   "
   ]
  },
  {
   "cell_type": "code",
   "execution_count": 362,
   "metadata": {
    "scrolled": true
   },
   "outputs": [
    {
     "name": "stdout",
     "output_type": "stream",
     "text": [
      "Id <class 'numpy.int64'>\n",
      "MSSubClass <class 'numpy.int64'>\n",
      "MSZoning <class 'str'>\n",
      "LotFrontage <class 'numpy.float64'>\n",
      "LotArea <class 'numpy.int64'>\n",
      "Street <class 'str'>\n",
      "Alley <class 'str'>\n",
      "LotShape <class 'str'>\n",
      "LandContour <class 'str'>\n",
      "Utilities <class 'str'>\n",
      "LotConfig <class 'str'>\n",
      "LandSlope <class 'str'>\n",
      "Neighborhood <class 'str'>\n",
      "Condition1 <class 'str'>\n",
      "Condition2 <class 'str'>\n",
      "BldgType <class 'str'>\n",
      "HouseStyle <class 'str'>\n",
      "OverallQual <class 'numpy.int64'>\n",
      "OverallCond <class 'numpy.int64'>\n",
      "YearBuilt <class 'numpy.int64'>\n",
      "YearRemodAdd <class 'numpy.int64'>\n",
      "RoofStyle <class 'str'>\n",
      "RoofMatl <class 'str'>\n",
      "Exterior1st <class 'str'>\n",
      "Exterior2nd <class 'str'>\n",
      "MasVnrType <class 'str'>\n",
      "MasVnrArea <class 'numpy.float64'>\n",
      "ExterQual <class 'str'>\n",
      "ExterCond <class 'str'>\n",
      "Foundation <class 'str'>\n",
      "BsmtQual <class 'str'>\n",
      "BsmtCond <class 'str'>\n",
      "BsmtExposure <class 'str'>\n",
      "BsmtFinType1 <class 'str'>\n",
      "BsmtFinSF1 <class 'numpy.int64'>\n",
      "BsmtFinType2 <class 'str'>\n",
      "BsmtFinSF2 <class 'numpy.int64'>\n",
      "BsmtUnfSF <class 'numpy.int64'>\n",
      "TotalBsmtSF <class 'numpy.int64'>\n",
      "Heating <class 'str'>\n",
      "HeatingQC <class 'str'>\n",
      "CentralAir <class 'str'>\n",
      "Electrical <class 'str'>\n",
      "1stFlrSF <class 'numpy.int64'>\n",
      "2ndFlrSF <class 'numpy.int64'>\n",
      "LowQualFinSF <class 'numpy.int64'>\n",
      "GrLivArea <class 'numpy.int64'>\n",
      "BsmtFullBath <class 'numpy.int64'>\n",
      "BsmtHalfBath <class 'numpy.int64'>\n",
      "FullBath <class 'numpy.int64'>\n",
      "HalfBath <class 'numpy.int64'>\n",
      "BedroomAbvGr <class 'numpy.int64'>\n",
      "KitchenAbvGr <class 'numpy.int64'>\n",
      "KitchenQual <class 'str'>\n",
      "TotRmsAbvGrd <class 'numpy.int64'>\n",
      "Functional <class 'str'>\n",
      "Fireplaces <class 'numpy.int64'>\n",
      "FireplaceQu <class 'str'>\n",
      "GarageType <class 'str'>\n",
      "GarageYrBlt <class 'numpy.float64'>\n",
      "GarageFinish <class 'str'>\n",
      "GarageCars <class 'numpy.int64'>\n",
      "GarageArea <class 'numpy.int64'>\n",
      "GarageQual <class 'str'>\n",
      "GarageCond <class 'str'>\n",
      "PavedDrive <class 'str'>\n",
      "WoodDeckSF <class 'numpy.int64'>\n",
      "OpenPorchSF <class 'numpy.int64'>\n",
      "EnclosedPorch <class 'numpy.int64'>\n",
      "3SsnPorch <class 'numpy.int64'>\n",
      "ScreenPorch <class 'numpy.int64'>\n",
      "PoolArea <class 'numpy.int64'>\n",
      "PoolQC <class 'str'>\n",
      "Fence <class 'str'>\n",
      "MiscFeature <class 'str'>\n",
      "MiscVal <class 'numpy.int64'>\n",
      "MoSold <class 'numpy.int64'>\n",
      "YrSold <class 'numpy.int64'>\n",
      "SaleType <class 'str'>\n",
      "SaleCondition <class 'str'>\n",
      "SalePrice <class 'numpy.int64'>\n"
     ]
    }
   ],
   "source": [
    "data_types(train)"
   ]
  },
  {
   "cell_type": "code",
   "execution_count": 363,
   "metadata": {},
   "outputs": [],
   "source": [
    "# By pasting the above list into a spreadsheet and cross checking with the data dictionary, we can \n",
    "# see which category each field should be\n",
    "\n",
    "# statsmodel requires all fieldsnames to begin with letters, so let's sort this out now.\n",
    "train = train.rename(columns = {'1stFlrSF': 'FirstFlrSF','2ndFlrSF': 'SecondFlrSF','3SsnPorch': 'ThreeSsnPorch'})\n",
    "test = test.rename(columns = {'1stFlrSF': 'FirstFlrSF','2ndFlrSF': 'SecondFlrSF','3SsnPorch': 'ThreeSsnPorch'})\n",
    "data_full = pd.concat([train, test], keys = ['train', 'test'])\n",
    "\n",
    "# Makes lists of each type\n",
    "categories = ['MSSubClass', 'MSZoning', 'Street', 'Alley', 'LotShape', 'LandContour', 'Utilities', 'LotConfig', \n",
    "              'LandSlope', 'Neighborhood', 'Condition1', 'Condition2', 'BldgType', 'HouseStyle', 'YearBuilt', \n",
    "              'YearRemodAdd', 'RoofStyle', 'RoofMatl', 'Exterior1st', 'Exterior2nd', 'MasVnrType', 'ExterQual', \n",
    "              'ExterCond', 'Foundation', 'BsmtQual', 'BsmtCond', 'BsmtExposure', 'BsmtFinType2', 'Heating', \n",
    "              'HeatingQC', 'Electrical', 'KitchenQual', 'Functional', 'FireplaceQu', 'GarageType', 'GarageYrBlt', \n",
    "              'GarageFinish', 'GarageCars', 'PoolQC', 'Fence', 'MiscFeature', 'MoSold', 'YrSold', 'SaleType', \n",
    "              'SaleCondition']\n",
    "floats = ['LotFrontage', 'LotArea', 'MasVnrArea', 'BsmtFinSF1', 'BsmtFinSF2', 'BsmtUnfSF', 'TotalBsmtSF', \n",
    "          'FirstFlrSF', 'SecondFlrSF', 'LowQualFinSF', 'GrLivArea', 'GarageArea', 'WoodDeckSF', 'OpenPorchSF', \n",
    "          'EnclosedPorch', 'ThreeSsnPorch', 'ScreenPorch', 'PoolArea', 'MiscVal']\n",
    "\n",
    "ints = ['OverallQual', 'OverallCond', 'BsmtFullBath', 'BsmtHalfBath', 'FullBath', \n",
    "         'BedroomAbvGr', 'KitchenAbvGr', 'TotRmsAbvGrd', 'Fireplaces']\n",
    "\n",
    "bools = ['CentralAir']\n",
    "\n",
    "feature_names = categories + floats + ints + bools\n",
    "\n",
    "# Define a function for converting a list of columns to a particular type: \n",
    "def convert_col_type(df, cols, type):\n",
    "    for col in cols:\n",
    "        df[col] = df[col].astype(type)"
   ]
  },
  {
   "cell_type": "code",
   "execution_count": 364,
   "metadata": {
    "scrolled": true
   },
   "outputs": [],
   "source": [
    "# Convert each column for both test and training sets:\n",
    "for df in [train, test]:\n",
    "    convert_col_type(df, categories, 'category')\n",
    "    convert_col_type(df, floats, 'float')\n",
    "    convert_col_type(df, ints, 'int')\n",
    "    convert_col_type(df, bools, 'bool')\n",
    "    \n",
    "# Re-define the full dataset\n",
    "data_full = pd.concat([train, test], keys = ['train', 'test'])"
   ]
  },
  {
   "cell_type": "code",
   "execution_count": 365,
   "metadata": {
    "scrolled": true
   },
   "outputs": [
    {
     "name": "stdout",
     "output_type": "stream",
     "text": [
      "Id <class 'numpy.int64'>\n",
      "MSSubClass <class 'numpy.int64'>\n",
      "MSZoning <class 'str'>\n",
      "LotFrontage <class 'numpy.float64'>\n",
      "LotArea <class 'numpy.float64'>\n",
      "Street <class 'str'>\n",
      "Alley <class 'str'>\n",
      "LotShape <class 'str'>\n",
      "LandContour <class 'str'>\n",
      "Utilities <class 'str'>\n",
      "LotConfig <class 'str'>\n",
      "LandSlope <class 'str'>\n",
      "Neighborhood <class 'str'>\n",
      "Condition1 <class 'str'>\n",
      "Condition2 <class 'str'>\n",
      "BldgType <class 'str'>\n",
      "HouseStyle <class 'str'>\n",
      "OverallQual <class 'numpy.int64'>\n",
      "OverallCond <class 'numpy.int64'>\n",
      "YearBuilt <class 'numpy.int64'>\n",
      "YearRemodAdd <class 'numpy.int64'>\n",
      "RoofStyle <class 'str'>\n",
      "RoofMatl <class 'str'>\n",
      "Exterior1st <class 'str'>\n",
      "Exterior2nd <class 'str'>\n",
      "MasVnrType <class 'str'>\n",
      "MasVnrArea <class 'numpy.float64'>\n",
      "ExterQual <class 'str'>\n",
      "ExterCond <class 'str'>\n",
      "Foundation <class 'str'>\n",
      "BsmtQual <class 'str'>\n",
      "BsmtCond <class 'str'>\n",
      "BsmtExposure <class 'str'>\n",
      "BsmtFinType1 <class 'str'>\n",
      "BsmtFinSF1 <class 'numpy.float64'>\n",
      "BsmtFinType2 <class 'str'>\n",
      "BsmtFinSF2 <class 'numpy.float64'>\n",
      "BsmtUnfSF <class 'numpy.float64'>\n",
      "TotalBsmtSF <class 'numpy.float64'>\n",
      "Heating <class 'str'>\n",
      "HeatingQC <class 'str'>\n",
      "CentralAir <class 'numpy.bool_'>\n",
      "Electrical <class 'str'>\n",
      "FirstFlrSF <class 'numpy.float64'>\n",
      "SecondFlrSF <class 'numpy.float64'>\n",
      "LowQualFinSF <class 'numpy.float64'>\n",
      "GrLivArea <class 'numpy.float64'>\n",
      "BsmtFullBath <class 'numpy.int64'>\n",
      "BsmtHalfBath <class 'numpy.int64'>\n",
      "FullBath <class 'numpy.int64'>\n",
      "HalfBath <class 'numpy.int64'>\n",
      "BedroomAbvGr <class 'numpy.int64'>\n",
      "KitchenAbvGr <class 'numpy.int64'>\n",
      "KitchenQual <class 'str'>\n",
      "TotRmsAbvGrd <class 'numpy.int64'>\n",
      "Functional <class 'str'>\n",
      "Fireplaces <class 'numpy.int64'>\n",
      "FireplaceQu <class 'str'>\n",
      "GarageType <class 'str'>\n",
      "GarageYrBlt <class 'numpy.float64'>\n",
      "GarageFinish <class 'str'>\n",
      "GarageCars <class 'numpy.int64'>\n",
      "GarageArea <class 'numpy.float64'>\n",
      "GarageQual <class 'str'>\n",
      "GarageCond <class 'str'>\n",
      "PavedDrive <class 'str'>\n",
      "WoodDeckSF <class 'numpy.float64'>\n",
      "OpenPorchSF <class 'numpy.float64'>\n",
      "EnclosedPorch <class 'numpy.float64'>\n",
      "ThreeSsnPorch <class 'numpy.float64'>\n",
      "ScreenPorch <class 'numpy.float64'>\n",
      "PoolArea <class 'numpy.float64'>\n",
      "PoolQC <class 'str'>\n",
      "Fence <class 'str'>\n",
      "MiscFeature <class 'str'>\n",
      "MiscVal <class 'numpy.float64'>\n",
      "MoSold <class 'numpy.int64'>\n",
      "YrSold <class 'numpy.int64'>\n",
      "SaleType <class 'str'>\n",
      "SaleCondition <class 'str'>\n",
      "SalePrice <class 'numpy.int64'>\n"
     ]
    }
   ],
   "source": [
    "# Print out data types\n",
    "def data_types(df):\n",
    "    for col in df:\n",
    "        print(col, type(df[col][1]))   \n",
    "data_types(train)"
   ]
  },
  {
   "cell_type": "markdown",
   "metadata": {},
   "source": [
    "## Motivating plots"
   ]
  },
  {
   "cell_type": "code",
   "execution_count": 366,
   "metadata": {
    "scrolled": false
   },
   "outputs": [
    {
     "data": {
      "image/png": "[encoded data removed]",
      "text/plain": [
       "<matplotlib.figure.Figure at 0x13ee965c0>"
      ]
     },
     "metadata": {},
     "output_type": "display_data"
    }
   ],
   "source": [
    "sales_price = train['SalePrice']\n",
    "graph = sns.distplot(sales_price)"
   ]
  },
  {
   "cell_type": "code",
   "execution_count": 367,
   "metadata": {},
   "outputs": [
    {
     "data": {
      "image/png": "[encoded data removed]",
      "text/plain": [
       "<matplotlib.figure.Figure at 0x126fa0cc0>"
      ]
     },
     "metadata": {},
     "output_type": "display_data"
    }
   ],
   "source": [
    "# Let's log-tranform this: \n",
    "sales_prices_log = np.log1p(sales_price)\n",
    "graph = sns.distplot(sales_prices_log)"
   ]
  },
  {
   "cell_type": "code",
   "execution_count": 368,
   "metadata": {},
   "outputs": [],
   "source": [
    "# This looks much better, so let's replace the SalePrice with the log-transformed version (will need to exponentiate predictions)\n",
    "train['SalePrice'] = np.log1p(train['SalePrice'])"
   ]
  },
  {
   "cell_type": "code",
   "execution_count": 369,
   "metadata": {
    "collapsed": true
   },
   "outputs": [],
   "source": [
    "# Re-define the full dataset - and work on this until we are ready to split out test and train sets again\n",
    "data_full = pd.concat([train, test], keys = ['train', 'test'])"
   ]
  },
  {
   "cell_type": "code",
   "execution_count": 370,
   "metadata": {},
   "outputs": [
    {
     "data": {
      "text/plain": [
       "LotArea          12.822431\n",
       "MasVnrArea        2.613592\n",
       "BsmtFinSF1        1.425230\n",
       "BsmtFinSF2        4.146143\n",
       "BsmtUnfSF         0.919339\n",
       "TotalBsmtSF       1.156894\n",
       "FirstFlrSF        1.469604\n",
       "SecondFlrSF       0.861675\n",
       "LowQualFinSF     12.088761\n",
       "GrLivArea         1.269358\n",
       "WoodDeckSF        1.842433\n",
       "OpenPorchSF       2.535114\n",
       "EnclosedPorch     4.003891\n",
       "ThreeSsnPorch    11.376065\n",
       "ScreenPorch       3.946694\n",
       "PoolArea         16.898328\n",
       "MiscVal          21.947195\n",
       "dtype: float64"
      ]
     },
     "execution_count": 370,
     "metadata": {},
     "output_type": "execute_result"
    }
   ],
   "source": [
    "# Let's see if any other features are skewed and replace these with log-transformed versions if so  \n",
    "skewed_features = data_full[floats].apply(lambda x: skew(x.dropna()))\n",
    "skewed_features = skewed_features[skewed_features > 0.75]\n",
    "skewed_features"
   ]
  },
  {
   "cell_type": "code",
   "execution_count": 371,
   "metadata": {},
   "outputs": [],
   "source": [
    "skewed_features = skewed_features.index"
   ]
  },
  {
   "cell_type": "code",
   "execution_count": 372,
   "metadata": {},
   "outputs": [],
   "source": [
    "#data_full[skewed_features] = np.log1p(data_full[skewed_features])\n",
    "for col in skewed_features:\n",
    "   data_full[col] = np.log1p(data_full[col])"
   ]
  },
  {
   "cell_type": "markdown",
   "metadata": {},
   "source": [
    "## Standardising numeric features"
   ]
  },
  {
   "cell_type": "code",
   "execution_count": 373,
   "metadata": {
    "scrolled": true
   },
   "outputs": [],
   "source": [
    "# Standardise numeric features (normalise)\n",
    "numeric_features = data_full.loc[:,floats]\n",
    "numeric_features_st = (numeric_features - numeric_features.mean())/numeric_features.std()"
   ]
  },
  {
   "cell_type": "code",
   "execution_count": 374,
   "metadata": {
    "collapsed": true
   },
   "outputs": [],
   "source": [
    "data_full.loc[:,floats] = numeric_features_st"
   ]
  },
  {
   "cell_type": "code",
   "execution_count": 375,
   "metadata": {},
   "outputs": [
    {
     "name": "stderr",
     "output_type": "stream",
     "text": [
      "IOPub data rate exceeded.\n",
      "The notebook server will temporarily stop sending output\n",
      "to the client in order to avoid crashing it.\n",
      "To change this limit, set the config variable\n",
      "`--NotebookApp.iopub_data_rate_limit`.\n"
     ]
    }
   ],
   "source": [
    "#ax = sns.pairplot(numeric_features_st)\n",
    "# ax.savefig('charts_complete.png')"
   ]
  },
  {
   "cell_type": "code",
   "execution_count": 376,
   "metadata": {},
   "outputs": [],
   "source": [
    "# Too many variables!  "
   ]
  },
  {
   "cell_type": "markdown",
   "metadata": {},
   "source": [
    "### Split test-train sets again"
   ]
  },
  {
   "cell_type": "code",
   "execution_count": 377,
   "metadata": {},
   "outputs": [],
   "source": [
    "# First, create dummy variables for categorical variables\n",
    "dummy = pd.get_dummies(train)\n",
    "# split out the test and train sets again\n",
    "train = data_full.ix['train']\n",
    "test = data_full.ix['test']"
   ]
  },
  {
   "cell_type": "markdown",
   "metadata": {},
   "source": [
    "## Linear regression, backward elimination"
   ]
  },
  {
   "cell_type": "code",
   "execution_count": 422,
   "metadata": {},
   "outputs": [
    {
     "data": {
      "text/html": [
       "<table class=\"simpletable\">\n",
       "<caption>OLS Regression Results</caption>\n",
       "<tr>\n",
       "  <th>Dep. Variable:</th>        <td>SalePrice</td>    <th>  R-squared:         </th> <td>   0.949</td>\n",
       "</tr>\n",
       "<tr>\n",
       "  <th>Model:</th>                   <td>OLS</td>       <th>  Adj. R-squared:    </th> <td>   0.935</td>\n",
       "</tr>\n",
       "<tr>\n",
       "  <th>Method:</th>             <td>Least Squares</td>  <th>  F-statistic:       </th> <td>   69.19</td>\n",
       "</tr>\n",
       "<tr>\n",
       "  <th>Date:</th>             <td>Fri, 28 Apr 2017</td> <th>  Prob (F-statistic):</th>  <td>  0.00</td> \n",
       "</tr>\n",
       "<tr>\n",
       "  <th>Time:</th>                 <td>12:55:44</td>     <th>  Log-Likelihood:    </th> <td>  1440.4</td>\n",
       "</tr>\n",
       "<tr>\n",
       "  <th>No. Observations:</th>      <td>  1460</td>      <th>  AIC:               </th> <td>  -2261.</td>\n",
       "</tr>\n",
       "<tr>\n",
       "  <th>Df Residuals:</th>          <td>  1150</td>      <th>  BIC:               </th> <td>  -622.1</td>\n",
       "</tr>\n",
       "<tr>\n",
       "  <th>Df Model:</th>              <td>   309</td>      <th>                     </th>     <td> </td>   \n",
       "</tr>\n",
       "<tr>\n",
       "  <th>Covariance Type:</th>      <td>nonrobust</td>    <th>                     </th>     <td> </td>   \n",
       "</tr>\n",
       "</table>\n",
       "<table class=\"simpletable\">\n",
       "<tr>\n",
       "              <td></td>                <th>coef</th>     <th>std err</th>      <th>t</th>      <th>P>|t|</th>  <th>[0.025</th>    <th>0.975]</th>  \n",
       "</tr>\n",
       "<tr>\n",
       "  <th>Intercept</th>                <td>   -0.9953</td> <td>    1.835</td> <td>   -0.542</td> <td> 0.588</td> <td>   -4.595</td> <td>    2.605</td>\n",
       "</tr>\n",
       "<tr>\n",
       "  <th>Alley[T.None]</th>            <td>   -0.0026</td> <td>    0.019</td> <td>   -0.135</td> <td> 0.892</td> <td>   -0.040</td> <td>    0.035</td>\n",
       "</tr>\n",
       "<tr>\n",
       "  <th>Alley[T.Pave]</th>            <td>    0.0287</td> <td>    0.028</td> <td>    1.041</td> <td> 0.298</td> <td>   -0.025</td> <td>    0.083</td>\n",
       "</tr>\n",
       "<tr>\n",
       "  <th>BldgType[T.2fmCon]</th>       <td>    0.0189</td> <td>    0.059</td> <td>    0.320</td> <td> 0.749</td> <td>   -0.097</td> <td>    0.135</td>\n",
       "</tr>\n",
       "<tr>\n",
       "  <th>BldgType[T.Duplex]</th>       <td>   -0.0172</td> <td>    0.035</td> <td>   -0.492</td> <td> 0.623</td> <td>   -0.086</td> <td>    0.051</td>\n",
       "</tr>\n",
       "<tr>\n",
       "  <th>BldgType[T.Twnhs]</th>        <td>   -0.0067</td> <td>    0.047</td> <td>   -0.143</td> <td> 0.887</td> <td>   -0.099</td> <td>    0.085</td>\n",
       "</tr>\n",
       "<tr>\n",
       "  <th>BldgType[T.TwnhsE]</th>       <td>    0.0066</td> <td>    0.042</td> <td>    0.156</td> <td> 0.876</td> <td>   -0.076</td> <td>    0.090</td>\n",
       "</tr>\n",
       "<tr>\n",
       "  <th>BsmtCond[T.Gd]</th>           <td>    0.0330</td> <td>    0.025</td> <td>    1.341</td> <td> 0.180</td> <td>   -0.015</td> <td>    0.081</td>\n",
       "</tr>\n",
       "<tr>\n",
       "  <th>BsmtCond[T.None]</th>         <td>    0.2331</td> <td>    0.404</td> <td>    0.577</td> <td> 0.564</td> <td>   -0.560</td> <td>    1.026</td>\n",
       "</tr>\n",
       "<tr>\n",
       "  <th>BsmtCond[T.Po]</th>           <td>    0.1275</td> <td>    0.131</td> <td>    0.971</td> <td> 0.332</td> <td>   -0.130</td> <td>    0.385</td>\n",
       "</tr>\n",
       "<tr>\n",
       "  <th>BsmtCond[T.TA]</th>           <td>    0.0390</td> <td>    0.019</td> <td>    2.036</td> <td> 0.042</td> <td>    0.001</td> <td>    0.077</td>\n",
       "</tr>\n",
       "<tr>\n",
       "  <th>BsmtExposure[T.Gd]</th>       <td>    0.0420</td> <td>    0.014</td> <td>    3.066</td> <td> 0.002</td> <td>    0.015</td> <td>    0.069</td>\n",
       "</tr>\n",
       "<tr>\n",
       "  <th>BsmtExposure[T.Mn]</th>       <td>   -0.0032</td> <td>    0.014</td> <td>   -0.226</td> <td> 0.821</td> <td>   -0.031</td> <td>    0.024</td>\n",
       "</tr>\n",
       "<tr>\n",
       "  <th>BsmtExposure[T.No]</th>       <td>   -0.0084</td> <td>    0.010</td> <td>   -0.822</td> <td> 0.411</td> <td>   -0.029</td> <td>    0.012</td>\n",
       "</tr>\n",
       "<tr>\n",
       "  <th>BsmtExposure[T.None]</th>     <td>   -0.0829</td> <td>    0.106</td> <td>   -0.785</td> <td> 0.433</td> <td>   -0.290</td> <td>    0.124</td>\n",
       "</tr>\n",
       "<tr>\n",
       "  <th>BsmtFinType2[T.BLQ]</th>      <td>   -0.0443</td> <td>    0.035</td> <td>   -1.285</td> <td> 0.199</td> <td>   -0.112</td> <td>    0.023</td>\n",
       "</tr>\n",
       "<tr>\n",
       "  <th>BsmtFinType2[T.GLQ]</th>      <td>   -0.0083</td> <td>    0.043</td> <td>   -0.196</td> <td> 0.845</td> <td>   -0.092</td> <td>    0.075</td>\n",
       "</tr>\n",
       "<tr>\n",
       "  <th>BsmtFinType2[T.LwQ]</th>      <td>   -0.0177</td> <td>    0.033</td> <td>   -0.532</td> <td> 0.595</td> <td>   -0.083</td> <td>    0.047</td>\n",
       "</tr>\n",
       "<tr>\n",
       "  <th>BsmtFinType2[T.None]</th>     <td>    0.0249</td> <td>    0.110</td> <td>    0.227</td> <td> 0.821</td> <td>   -0.191</td> <td>    0.241</td>\n",
       "</tr>\n",
       "<tr>\n",
       "  <th>BsmtFinType2[T.Rec]</th>      <td>   -0.0215</td> <td>    0.032</td> <td>   -0.676</td> <td> 0.499</td> <td>   -0.084</td> <td>    0.041</td>\n",
       "</tr>\n",
       "<tr>\n",
       "  <th>BsmtFinType2[T.Unf]</th>      <td>   -0.0345</td> <td>    0.079</td> <td>   -0.435</td> <td> 0.664</td> <td>   -0.190</td> <td>    0.121</td>\n",
       "</tr>\n",
       "<tr>\n",
       "  <th>BsmtQual[T.Ex]</th>           <td>   -0.2807</td> <td>    0.373</td> <td>   -0.753</td> <td> 0.451</td> <td>   -1.012</td> <td>    0.450</td>\n",
       "</tr>\n",
       "<tr>\n",
       "  <th>BsmtQual[T.Fa]</th>           <td>   -0.3060</td> <td>    0.369</td> <td>   -0.829</td> <td> 0.407</td> <td>   -1.030</td> <td>    0.418</td>\n",
       "</tr>\n",
       "<tr>\n",
       "  <th>BsmtQual[T.Gd]</th>           <td>   -0.3207</td> <td>    0.371</td> <td>   -0.863</td> <td> 0.388</td> <td>   -1.050</td> <td>    0.408</td>\n",
       "</tr>\n",
       "<tr>\n",
       "  <th>BsmtQual[T.TA]</th>           <td>   -0.3210</td> <td>    0.370</td> <td>   -0.868</td> <td> 0.386</td> <td>   -1.047</td> <td>    0.405</td>\n",
       "</tr>\n",
       "<tr>\n",
       "  <th>CentralAir[T.True]</th>       <td>   -0.9953</td> <td>    1.835</td> <td>   -0.542</td> <td> 0.588</td> <td>   -4.595</td> <td>    2.605</td>\n",
       "</tr>\n",
       "<tr>\n",
       "  <th>Condition1[T.Feedr]</th>      <td>    0.0452</td> <td>    0.023</td> <td>    1.970</td> <td> 0.049</td> <td>    0.000</td> <td>    0.090</td>\n",
       "</tr>\n",
       "<tr>\n",
       "  <th>Condition1[T.Norm]</th>       <td>    0.0849</td> <td>    0.019</td> <td>    4.451</td> <td> 0.000</td> <td>    0.047</td> <td>    0.122</td>\n",
       "</tr>\n",
       "<tr>\n",
       "  <th>Condition1[T.PosA]</th>       <td>    0.0433</td> <td>    0.046</td> <td>    0.935</td> <td> 0.350</td> <td>   -0.048</td> <td>    0.134</td>\n",
       "</tr>\n",
       "<tr>\n",
       "  <th>Condition1[T.PosN]</th>       <td>    0.0795</td> <td>    0.034</td> <td>    2.330</td> <td> 0.020</td> <td>    0.013</td> <td>    0.146</td>\n",
       "</tr>\n",
       "<tr>\n",
       "  <th>Condition1[T.RRAe]</th>       <td>   -0.0527</td> <td>    0.042</td> <td>   -1.256</td> <td> 0.209</td> <td>   -0.135</td> <td>    0.030</td>\n",
       "</tr>\n",
       "<tr>\n",
       "  <th>Condition1[T.RRAn]</th>       <td>    0.0444</td> <td>    0.032</td> <td>    1.399</td> <td> 0.162</td> <td>   -0.018</td> <td>    0.107</td>\n",
       "</tr>\n",
       "<tr>\n",
       "  <th>Condition1[T.RRNe]</th>       <td>    0.0072</td> <td>    0.081</td> <td>    0.089</td> <td> 0.929</td> <td>   -0.151</td> <td>    0.165</td>\n",
       "</tr>\n",
       "<tr>\n",
       "  <th>Condition1[T.RRNn]</th>       <td>    0.0793</td> <td>    0.059</td> <td>    1.342</td> <td> 0.180</td> <td>   -0.037</td> <td>    0.195</td>\n",
       "</tr>\n",
       "<tr>\n",
       "  <th>Condition2[T.Feedr]</th>      <td>    0.0970</td> <td>    0.105</td> <td>    0.926</td> <td> 0.354</td> <td>   -0.108</td> <td>    0.302</td>\n",
       "</tr>\n",
       "<tr>\n",
       "  <th>Condition2[T.Norm]</th>       <td>    0.0348</td> <td>    0.089</td> <td>    0.390</td> <td> 0.697</td> <td>   -0.140</td> <td>    0.210</td>\n",
       "</tr>\n",
       "<tr>\n",
       "  <th>Condition2[T.PosA]</th>       <td>    0.2729</td> <td>    0.168</td> <td>    1.622</td> <td> 0.105</td> <td>   -0.057</td> <td>    0.603</td>\n",
       "</tr>\n",
       "<tr>\n",
       "  <th>Condition2[T.PosN]</th>       <td>   -0.6542</td> <td>    0.124</td> <td>   -5.269</td> <td> 0.000</td> <td>   -0.898</td> <td>   -0.411</td>\n",
       "</tr>\n",
       "<tr>\n",
       "  <th>Condition2[T.RRAe]</th>       <td>   -0.2373</td> <td>    0.234</td> <td>   -1.015</td> <td> 0.310</td> <td>   -0.696</td> <td>    0.221</td>\n",
       "</tr>\n",
       "<tr>\n",
       "  <th>Condition2[T.RRAn]</th>       <td>   -0.0825</td> <td>    0.143</td> <td>   -0.577</td> <td> 0.564</td> <td>   -0.363</td> <td>    0.198</td>\n",
       "</tr>\n",
       "<tr>\n",
       "  <th>Condition2[T.RRNn]</th>       <td>    0.0083</td> <td>    0.121</td> <td>    0.068</td> <td> 0.945</td> <td>   -0.229</td> <td>    0.245</td>\n",
       "</tr>\n",
       "<tr>\n",
       "  <th>Electrical[T.FuseF]</th>      <td>   -0.0217</td> <td>    0.026</td> <td>   -0.839</td> <td> 0.402</td> <td>   -0.072</td> <td>    0.029</td>\n",
       "</tr>\n",
       "<tr>\n",
       "  <th>Electrical[T.FuseP]</th>      <td>   -0.1507</td> <td>    0.079</td> <td>   -1.916</td> <td> 0.056</td> <td>   -0.305</td> <td>    0.004</td>\n",
       "</tr>\n",
       "<tr>\n",
       "  <th>Electrical[T.Mix]</th>        <td>   -0.0245</td> <td>    0.176</td> <td>   -0.139</td> <td> 0.889</td> <td>   -0.371</td> <td>    0.322</td>\n",
       "</tr>\n",
       "<tr>\n",
       "  <th>Electrical[T.None]</th>       <td>    0.0955</td> <td>    0.111</td> <td>    0.857</td> <td> 0.391</td> <td>   -0.123</td> <td>    0.314</td>\n",
       "</tr>\n",
       "<tr>\n",
       "  <th>Electrical[T.SBrkr]</th>      <td>   -0.0206</td> <td>    0.014</td> <td>   -1.474</td> <td> 0.141</td> <td>   -0.048</td> <td>    0.007</td>\n",
       "</tr>\n",
       "<tr>\n",
       "  <th>ExterCond[T.Fa]</th>          <td>   -0.1054</td> <td>    0.083</td> <td>   -1.274</td> <td> 0.203</td> <td>   -0.268</td> <td>    0.057</td>\n",
       "</tr>\n",
       "<tr>\n",
       "  <th>ExterCond[T.Gd]</th>          <td>   -0.0863</td> <td>    0.079</td> <td>   -1.096</td> <td> 0.273</td> <td>   -0.241</td> <td>    0.068</td>\n",
       "</tr>\n",
       "<tr>\n",
       "  <th>ExterCond[T.Po]</th>          <td>   -0.0909</td> <td>    0.148</td> <td>   -0.615</td> <td> 0.539</td> <td>   -0.381</td> <td>    0.199</td>\n",
       "</tr>\n",
       "<tr>\n",
       "  <th>ExterCond[T.TA]</th>          <td>   -0.0735</td> <td>    0.079</td> <td>   -0.933</td> <td> 0.351</td> <td>   -0.228</td> <td>    0.081</td>\n",
       "</tr>\n",
       "<tr>\n",
       "  <th>ExterQual[T.Fa]</th>          <td>    0.0629</td> <td>    0.050</td> <td>    1.251</td> <td> 0.211</td> <td>   -0.036</td> <td>    0.162</td>\n",
       "</tr>\n",
       "<tr>\n",
       "  <th>ExterQual[T.Gd]</th>          <td>    0.0038</td> <td>    0.022</td> <td>    0.174</td> <td> 0.862</td> <td>   -0.039</td> <td>    0.047</td>\n",
       "</tr>\n",
       "<tr>\n",
       "  <th>ExterQual[T.TA]</th>          <td>    0.0038</td> <td>    0.024</td> <td>    0.155</td> <td> 0.877</td> <td>   -0.044</td> <td>    0.052</td>\n",
       "</tr>\n",
       "<tr>\n",
       "  <th>Exterior1st[T.AsphShn]</th>   <td>   -0.0022</td> <td>    0.153</td> <td>   -0.014</td> <td> 0.988</td> <td>   -0.302</td> <td>    0.297</td>\n",
       "</tr>\n",
       "<tr>\n",
       "  <th>Exterior1st[T.BrkComm]</th>   <td>   -0.1387</td> <td>    0.131</td> <td>   -1.061</td> <td> 0.289</td> <td>   -0.395</td> <td>    0.118</td>\n",
       "</tr>\n",
       "<tr>\n",
       "  <th>Exterior1st[T.BrkFace]</th>   <td>    0.1071</td> <td>    0.058</td> <td>    1.845</td> <td> 0.065</td> <td>   -0.007</td> <td>    0.221</td>\n",
       "</tr>\n",
       "<tr>\n",
       "  <th>Exterior1st[T.CBlock]</th>    <td>   -0.0304</td> <td>    0.062</td> <td>   -0.494</td> <td> 0.622</td> <td>   -0.151</td> <td>    0.091</td>\n",
       "</tr>\n",
       "<tr>\n",
       "  <th>Exterior1st[T.CemntBd]</th>   <td>   -0.0210</td> <td>    0.088</td> <td>   -0.240</td> <td> 0.811</td> <td>   -0.193</td> <td>    0.151</td>\n",
       "</tr>\n",
       "<tr>\n",
       "  <th>Exterior1st[T.HdBoard]</th>   <td>    0.0151</td> <td>    0.059</td> <td>    0.258</td> <td> 0.797</td> <td>   -0.100</td> <td>    0.130</td>\n",
       "</tr>\n",
       "<tr>\n",
       "  <th>Exterior1st[T.ImStucc]</th>   <td>   -0.0373</td> <td>    0.129</td> <td>   -0.288</td> <td> 0.773</td> <td>   -0.291</td> <td>    0.217</td>\n",
       "</tr>\n",
       "<tr>\n",
       "  <th>Exterior1st[T.MetalSd]</th>   <td>    0.0771</td> <td>    0.067</td> <td>    1.157</td> <td> 0.247</td> <td>   -0.054</td> <td>    0.208</td>\n",
       "</tr>\n",
       "<tr>\n",
       "  <th>Exterior1st[T.Plywood]</th>   <td>    0.0165</td> <td>    0.058</td> <td>    0.284</td> <td> 0.776</td> <td>   -0.098</td> <td>    0.131</td>\n",
       "</tr>\n",
       "<tr>\n",
       "  <th>Exterior1st[T.Stone]</th>     <td>   -0.0303</td> <td>    0.109</td> <td>   -0.277</td> <td> 0.782</td> <td>   -0.245</td> <td>    0.184</td>\n",
       "</tr>\n",
       "<tr>\n",
       "  <th>Exterior1st[T.Stucco]</th>    <td>    0.0304</td> <td>    0.064</td> <td>    0.477</td> <td> 0.633</td> <td>   -0.095</td> <td>    0.155</td>\n",
       "</tr>\n",
       "<tr>\n",
       "  <th>Exterior1st[T.VinylSd]</th>   <td>    0.0179</td> <td>    0.061</td> <td>    0.296</td> <td> 0.768</td> <td>   -0.101</td> <td>    0.137</td>\n",
       "</tr>\n",
       "<tr>\n",
       "  <th>Exterior1st[T.Wd Sdng]</th>   <td>   -0.0183</td> <td>    0.056</td> <td>   -0.323</td> <td> 0.747</td> <td>   -0.129</td> <td>    0.093</td>\n",
       "</tr>\n",
       "<tr>\n",
       "  <th>Exterior1st[T.WdShing]</th>   <td>    0.0264</td> <td>    0.061</td> <td>    0.434</td> <td> 0.665</td> <td>   -0.093</td> <td>    0.146</td>\n",
       "</tr>\n",
       "<tr>\n",
       "  <th>Exterior2nd[T.AsphShn]</th>   <td>    0.0144</td> <td>    0.103</td> <td>    0.141</td> <td> 0.888</td> <td>   -0.187</td> <td>    0.216</td>\n",
       "</tr>\n",
       "<tr>\n",
       "  <th>Exterior2nd[T.Brk Cmn]</th>   <td>    0.0130</td> <td>    0.094</td> <td>    0.139</td> <td> 0.889</td> <td>   -0.171</td> <td>    0.197</td>\n",
       "</tr>\n",
       "<tr>\n",
       "  <th>Exterior2nd[T.BrkFace]</th>   <td>   -0.0501</td> <td>    0.060</td> <td>   -0.831</td> <td> 0.406</td> <td>   -0.168</td> <td>    0.068</td>\n",
       "</tr>\n",
       "<tr>\n",
       "  <th>Exterior2nd[T.CBlock]</th>    <td>   -0.0304</td> <td>    0.062</td> <td>   -0.494</td> <td> 0.622</td> <td>   -0.151</td> <td>    0.091</td>\n",
       "</tr>\n",
       "<tr>\n",
       "  <th>Exterior2nd[T.CmentBd]</th>   <td>    0.0551</td> <td>    0.086</td> <td>    0.639</td> <td> 0.523</td> <td>   -0.114</td> <td>    0.224</td>\n",
       "</tr>\n",
       "<tr>\n",
       "  <th>Exterior2nd[T.HdBoard]</th>   <td>    0.0033</td> <td>    0.057</td> <td>    0.058</td> <td> 0.954</td> <td>   -0.108</td> <td>    0.114</td>\n",
       "</tr>\n",
       "<tr>\n",
       "  <th>Exterior2nd[T.ImStucc]</th>   <td>    0.0268</td> <td>    0.067</td> <td>    0.403</td> <td> 0.687</td> <td>   -0.104</td> <td>    0.157</td>\n",
       "</tr>\n",
       "<tr>\n",
       "  <th>Exterior2nd[T.MetalSd]</th>   <td>   -0.0387</td> <td>    0.065</td> <td>   -0.596</td> <td> 0.552</td> <td>   -0.166</td> <td>    0.089</td>\n",
       "</tr>\n",
       "<tr>\n",
       "  <th>Exterior2nd[T.Other]</th>     <td>   -0.0909</td> <td>    0.124</td> <td>   -0.735</td> <td> 0.462</td> <td>   -0.333</td> <td>    0.152</td>\n",
       "</tr>\n",
       "<tr>\n",
       "  <th>Exterior2nd[T.Plywood]</th>   <td>    0.0014</td> <td>    0.055</td> <td>    0.025</td> <td> 0.980</td> <td>   -0.107</td> <td>    0.110</td>\n",
       "</tr>\n",
       "<tr>\n",
       "  <th>Exterior2nd[T.Stone]</th>     <td>   -0.0339</td> <td>    0.078</td> <td>   -0.436</td> <td> 0.663</td> <td>   -0.186</td> <td>    0.118</td>\n",
       "</tr>\n",
       "<tr>\n",
       "  <th>Exterior2nd[T.Stucco]</th>    <td>   -0.0116</td> <td>    0.061</td> <td>   -0.188</td> <td> 0.851</td> <td>   -0.132</td> <td>    0.109</td>\n",
       "</tr>\n",
       "<tr>\n",
       "  <th>Exterior2nd[T.VinylSd]</th>   <td>    0.0071</td> <td>    0.059</td> <td>    0.121</td> <td> 0.904</td> <td>   -0.108</td> <td>    0.122</td>\n",
       "</tr>\n",
       "<tr>\n",
       "  <th>Exterior2nd[T.Wd Sdng]</th>   <td>    0.0326</td> <td>    0.054</td> <td>    0.599</td> <td> 0.549</td> <td>   -0.074</td> <td>    0.139</td>\n",
       "</tr>\n",
       "<tr>\n",
       "  <th>Exterior2nd[T.Wd Shng]</th>   <td>   -0.0016</td> <td>    0.057</td> <td>   -0.028</td> <td> 0.977</td> <td>   -0.113</td> <td>    0.110</td>\n",
       "</tr>\n",
       "<tr>\n",
       "  <th>Fence[T.GdWo]</th>            <td>   -0.0294</td> <td>    0.023</td> <td>   -1.307</td> <td> 0.191</td> <td>   -0.074</td> <td>    0.015</td>\n",
       "</tr>\n",
       "<tr>\n",
       "  <th>Fence[T.MnPrv]</th>           <td>    0.0136</td> <td>    0.018</td> <td>    0.749</td> <td> 0.454</td> <td>   -0.022</td> <td>    0.049</td>\n",
       "</tr>\n",
       "<tr>\n",
       "  <th>Fence[T.MnWw]</th>            <td>   -0.0173</td> <td>    0.038</td> <td>   -0.453</td> <td> 0.651</td> <td>   -0.092</td> <td>    0.058</td>\n",
       "</tr>\n",
       "<tr>\n",
       "  <th>Fence[T.None]</th>            <td>    0.0069</td> <td>    0.017</td> <td>    0.416</td> <td> 0.678</td> <td>   -0.026</td> <td>    0.040</td>\n",
       "</tr>\n",
       "<tr>\n",
       "  <th>FireplaceQu[T.Fa]</th>        <td>   -0.0235</td> <td>    0.031</td> <td>   -0.745</td> <td> 0.456</td> <td>   -0.085</td> <td>    0.038</td>\n",
       "</tr>\n",
       "<tr>\n",
       "  <th>FireplaceQu[T.Gd]</th>        <td>    0.0113</td> <td>    0.024</td> <td>    0.464</td> <td> 0.642</td> <td>   -0.036</td> <td>    0.059</td>\n",
       "</tr>\n",
       "<tr>\n",
       "  <th>FireplaceQu[T.None]</th>      <td>    0.0142</td> <td>    0.028</td> <td>    0.501</td> <td> 0.617</td> <td>   -0.042</td> <td>    0.070</td>\n",
       "</tr>\n",
       "<tr>\n",
       "  <th>FireplaceQu[T.Po]</th>        <td>    0.0428</td> <td>    0.036</td> <td>    1.173</td> <td> 0.241</td> <td>   -0.029</td> <td>    0.114</td>\n",
       "</tr>\n",
       "<tr>\n",
       "  <th>FireplaceQu[T.TA]</th>        <td>    0.0030</td> <td>    0.025</td> <td>    0.120</td> <td> 0.904</td> <td>   -0.047</td> <td>    0.053</td>\n",
       "</tr>\n",
       "<tr>\n",
       "  <th>Foundation[T.CBlock]</th>     <td>    0.0290</td> <td>    0.014</td> <td>    2.033</td> <td> 0.042</td> <td>    0.001</td> <td>    0.057</td>\n",
       "</tr>\n",
       "<tr>\n",
       "  <th>Foundation[T.PConc]</th>      <td>    0.0453</td> <td>    0.016</td> <td>    2.916</td> <td> 0.004</td> <td>    0.015</td> <td>    0.076</td>\n",
       "</tr>\n",
       "<tr>\n",
       "  <th>Foundation[T.Slab]</th>       <td>    0.0067</td> <td>    0.046</td> <td>    0.145</td> <td> 0.884</td> <td>   -0.084</td> <td>    0.097</td>\n",
       "</tr>\n",
       "<tr>\n",
       "  <th>Foundation[T.Stone]</th>      <td>    0.1762</td> <td>    0.050</td> <td>    3.541</td> <td> 0.000</td> <td>    0.079</td> <td>    0.274</td>\n",
       "</tr>\n",
       "<tr>\n",
       "  <th>Foundation[T.Wood]</th>       <td>   -0.0953</td> <td>    0.068</td> <td>   -1.410</td> <td> 0.159</td> <td>   -0.228</td> <td>    0.037</td>\n",
       "</tr>\n",
       "<tr>\n",
       "  <th>Functional[T.Maj2]</th>       <td>   -0.2371</td> <td>    0.066</td> <td>   -3.569</td> <td> 0.000</td> <td>   -0.367</td> <td>   -0.107</td>\n",
       "</tr>\n",
       "<tr>\n",
       "  <th>Functional[T.Min1]</th>       <td>   -0.0084</td> <td>    0.040</td> <td>   -0.212</td> <td> 0.833</td> <td>   -0.087</td> <td>    0.070</td>\n",
       "</tr>\n",
       "<tr>\n",
       "  <th>Functional[T.Min2]</th>       <td>   -0.0113</td> <td>    0.040</td> <td>   -0.284</td> <td> 0.776</td> <td>   -0.089</td> <td>    0.067</td>\n",
       "</tr>\n",
       "<tr>\n",
       "  <th>Functional[T.Mod]</th>        <td>   -0.0823</td> <td>    0.048</td> <td>   -1.706</td> <td> 0.088</td> <td>   -0.177</td> <td>    0.012</td>\n",
       "</tr>\n",
       "<tr>\n",
       "  <th>Functional[T.Sev]</th>        <td>   -0.2251</td> <td>    0.144</td> <td>   -1.567</td> <td> 0.117</td> <td>   -0.507</td> <td>    0.057</td>\n",
       "</tr>\n",
       "<tr>\n",
       "  <th>Functional[T.Typ]</th>        <td>    0.0523</td> <td>    0.034</td> <td>    1.528</td> <td> 0.127</td> <td>   -0.015</td> <td>    0.120</td>\n",
       "</tr>\n",
       "<tr>\n",
       "  <th>GarageFinish[T.None]</th>     <td>    0.1463</td> <td>    0.263</td> <td>    0.557</td> <td> 0.577</td> <td>   -0.369</td> <td>    0.661</td>\n",
       "</tr>\n",
       "<tr>\n",
       "  <th>GarageFinish[T.RFn]</th>      <td>    0.0012</td> <td>    0.009</td> <td>    0.131</td> <td> 0.895</td> <td>   -0.017</td> <td>    0.019</td>\n",
       "</tr>\n",
       "<tr>\n",
       "  <th>GarageFinish[T.Unf]</th>      <td>   -0.0111</td> <td>    0.011</td> <td>   -0.981</td> <td> 0.327</td> <td>   -0.033</td> <td>    0.011</td>\n",
       "</tr>\n",
       "<tr>\n",
       "  <th>GarageType[T.Attchd]</th>     <td>    0.0930</td> <td>    0.051</td> <td>    1.807</td> <td> 0.071</td> <td>   -0.008</td> <td>    0.194</td>\n",
       "</tr>\n",
       "<tr>\n",
       "  <th>GarageType[T.Basment]</th>    <td>    0.0948</td> <td>    0.060</td> <td>    1.589</td> <td> 0.112</td> <td>   -0.022</td> <td>    0.212</td>\n",
       "</tr>\n",
       "<tr>\n",
       "  <th>GarageType[T.BuiltIn]</th>    <td>    0.0920</td> <td>    0.053</td> <td>    1.720</td> <td> 0.086</td> <td>   -0.013</td> <td>    0.197</td>\n",
       "</tr>\n",
       "<tr>\n",
       "  <th>GarageType[T.CarPort]</th>    <td>    0.0837</td> <td>    0.069</td> <td>    1.219</td> <td> 0.223</td> <td>   -0.051</td> <td>    0.218</td>\n",
       "</tr>\n",
       "<tr>\n",
       "  <th>GarageType[T.Detchd]</th>     <td>    0.1070</td> <td>    0.051</td> <td>    2.082</td> <td> 0.038</td> <td>    0.006</td> <td>    0.208</td>\n",
       "</tr>\n",
       "<tr>\n",
       "  <th>GarageType[T.None]</th>       <td>    0.1463</td> <td>    0.263</td> <td>    0.557</td> <td> 0.577</td> <td>   -0.369</td> <td>    0.661</td>\n",
       "</tr>\n",
       "<tr>\n",
       "  <th>Heating[T.GasA]</th>          <td>    0.1314</td> <td>    0.113</td> <td>    1.167</td> <td> 0.244</td> <td>   -0.090</td> <td>    0.352</td>\n",
       "</tr>\n",
       "<tr>\n",
       "  <th>Heating[T.GasW]</th>          <td>    0.2073</td> <td>    0.117</td> <td>    1.776</td> <td> 0.076</td> <td>   -0.022</td> <td>    0.436</td>\n",
       "</tr>\n",
       "<tr>\n",
       "  <th>Heating[T.Grav]</th>          <td>   -0.0289</td> <td>    0.123</td> <td>   -0.234</td> <td> 0.815</td> <td>   -0.271</td> <td>    0.213</td>\n",
       "</tr>\n",
       "<tr>\n",
       "  <th>Heating[T.OthW]</th>          <td>    0.0578</td> <td>    0.143</td> <td>    0.405</td> <td> 0.685</td> <td>   -0.222</td> <td>    0.338</td>\n",
       "</tr>\n",
       "<tr>\n",
       "  <th>Heating[T.Wall]</th>          <td>    0.1620</td> <td>    0.132</td> <td>    1.224</td> <td> 0.221</td> <td>   -0.098</td> <td>    0.422</td>\n",
       "</tr>\n",
       "<tr>\n",
       "  <th>HeatingQC[T.Fa]</th>          <td>   -0.0315</td> <td>    0.022</td> <td>   -1.451</td> <td> 0.147</td> <td>   -0.074</td> <td>    0.011</td>\n",
       "</tr>\n",
       "<tr>\n",
       "  <th>HeatingQC[T.Gd]</th>          <td>   -0.0271</td> <td>    0.010</td> <td>   -2.826</td> <td> 0.005</td> <td>   -0.046</td> <td>   -0.008</td>\n",
       "</tr>\n",
       "<tr>\n",
       "  <th>HeatingQC[T.Po]</th>          <td>   -0.0699</td> <td>    0.119</td> <td>   -0.586</td> <td> 0.558</td> <td>   -0.304</td> <td>    0.164</td>\n",
       "</tr>\n",
       "<tr>\n",
       "  <th>HeatingQC[T.TA]</th>          <td>   -0.0399</td> <td>    0.010</td> <td>   -4.157</td> <td> 0.000</td> <td>   -0.059</td> <td>   -0.021</td>\n",
       "</tr>\n",
       "<tr>\n",
       "  <th>HouseStyle[T.1.5Unf]</th>     <td>    0.0593</td> <td>    0.044</td> <td>    1.361</td> <td> 0.174</td> <td>   -0.026</td> <td>    0.145</td>\n",
       "</tr>\n",
       "<tr>\n",
       "  <th>HouseStyle[T.1Story]</th>     <td>    0.0024</td> <td>    0.031</td> <td>    0.075</td> <td> 0.940</td> <td>   -0.059</td> <td>    0.064</td>\n",
       "</tr>\n",
       "<tr>\n",
       "  <th>HouseStyle[T.2.5Fin]</th>     <td>    0.0027</td> <td>    0.053</td> <td>    0.050</td> <td> 0.960</td> <td>   -0.102</td> <td>    0.107</td>\n",
       "</tr>\n",
       "<tr>\n",
       "  <th>HouseStyle[T.2.5Unf]</th>     <td>    0.0051</td> <td>    0.041</td> <td>    0.123</td> <td> 0.902</td> <td>   -0.076</td> <td>    0.086</td>\n",
       "</tr>\n",
       "<tr>\n",
       "  <th>HouseStyle[T.2Story]</th>     <td>   -0.0230</td> <td>    0.016</td> <td>   -1.445</td> <td> 0.149</td> <td>   -0.054</td> <td>    0.008</td>\n",
       "</tr>\n",
       "<tr>\n",
       "  <th>HouseStyle[T.SFoyer]</th>     <td>    0.0276</td> <td>    0.038</td> <td>    0.730</td> <td> 0.466</td> <td>   -0.047</td> <td>    0.102</td>\n",
       "</tr>\n",
       "<tr>\n",
       "  <th>HouseStyle[T.SLvl]</th>       <td>    0.0172</td> <td>    0.032</td> <td>    0.539</td> <td> 0.590</td> <td>   -0.046</td> <td>    0.080</td>\n",
       "</tr>\n",
       "<tr>\n",
       "  <th>KitchenQual[T.Fa]</th>        <td>   -0.0711</td> <td>    0.028</td> <td>   -2.494</td> <td> 0.013</td> <td>   -0.127</td> <td>   -0.015</td>\n",
       "</tr>\n",
       "<tr>\n",
       "  <th>KitchenQual[T.Gd]</th>        <td>   -0.0792</td> <td>    0.016</td> <td>   -4.974</td> <td> 0.000</td> <td>   -0.110</td> <td>   -0.048</td>\n",
       "</tr>\n",
       "<tr>\n",
       "  <th>KitchenQual[T.TA]</th>        <td>   -0.0760</td> <td>    0.018</td> <td>   -4.214</td> <td> 0.000</td> <td>   -0.111</td> <td>   -0.041</td>\n",
       "</tr>\n",
       "<tr>\n",
       "  <th>LandContour[T.HLS]</th>       <td>    0.0384</td> <td>    0.024</td> <td>    1.622</td> <td> 0.105</td> <td>   -0.008</td> <td>    0.085</td>\n",
       "</tr>\n",
       "<tr>\n",
       "  <th>LandContour[T.Low]</th>       <td>   -0.0146</td> <td>    0.029</td> <td>   -0.501</td> <td> 0.616</td> <td>   -0.072</td> <td>    0.043</td>\n",
       "</tr>\n",
       "<tr>\n",
       "  <th>LandContour[T.Lvl]</th>       <td>    0.0249</td> <td>    0.017</td> <td>    1.460</td> <td> 0.145</td> <td>   -0.009</td> <td>    0.058</td>\n",
       "</tr>\n",
       "<tr>\n",
       "  <th>LandSlope[T.Mod]</th>         <td>    0.0280</td> <td>    0.018</td> <td>    1.523</td> <td> 0.128</td> <td>   -0.008</td> <td>    0.064</td>\n",
       "</tr>\n",
       "<tr>\n",
       "  <th>LandSlope[T.Sev]</th>         <td>   -0.0959</td> <td>    0.045</td> <td>   -2.115</td> <td> 0.035</td> <td>   -0.185</td> <td>   -0.007</td>\n",
       "</tr>\n",
       "<tr>\n",
       "  <th>LotConfig[T.CulDSac]</th>     <td>    0.0190</td> <td>    0.015</td> <td>    1.272</td> <td> 0.204</td> <td>   -0.010</td> <td>    0.048</td>\n",
       "</tr>\n",
       "<tr>\n",
       "  <th>LotConfig[T.FR2]</th>         <td>   -0.0462</td> <td>    0.018</td> <td>   -2.505</td> <td> 0.012</td> <td>   -0.082</td> <td>   -0.010</td>\n",
       "</tr>\n",
       "<tr>\n",
       "  <th>LotConfig[T.FR3]</th>         <td>   -0.1148</td> <td>    0.057</td> <td>   -2.002</td> <td> 0.045</td> <td>   -0.227</td> <td>   -0.002</td>\n",
       "</tr>\n",
       "<tr>\n",
       "  <th>LotConfig[T.Inside]</th>      <td>   -0.0126</td> <td>    0.008</td> <td>   -1.566</td> <td> 0.118</td> <td>   -0.028</td> <td>    0.003</td>\n",
       "</tr>\n",
       "<tr>\n",
       "  <th>LotShape[T.IR2]</th>          <td>    0.0240</td> <td>    0.019</td> <td>    1.250</td> <td> 0.212</td> <td>   -0.014</td> <td>    0.062</td>\n",
       "</tr>\n",
       "<tr>\n",
       "  <th>LotShape[T.IR3]</th>          <td>    0.0441</td> <td>    0.040</td> <td>    1.113</td> <td> 0.266</td> <td>   -0.034</td> <td>    0.122</td>\n",
       "</tr>\n",
       "<tr>\n",
       "  <th>LotShape[T.Reg]</th>          <td>    0.0120</td> <td>    0.008</td> <td>    1.577</td> <td> 0.115</td> <td>   -0.003</td> <td>    0.027</td>\n",
       "</tr>\n",
       "<tr>\n",
       "  <th>MSZoning[T.FV]</th>           <td>    0.4661</td> <td>    0.055</td> <td>    8.472</td> <td> 0.000</td> <td>    0.358</td> <td>    0.574</td>\n",
       "</tr>\n",
       "<tr>\n",
       "  <th>MSZoning[T.RH]</th>           <td>    0.4246</td> <td>    0.054</td> <td>    7.791</td> <td> 0.000</td> <td>    0.318</td> <td>    0.532</td>\n",
       "</tr>\n",
       "<tr>\n",
       "  <th>MSZoning[T.RL]</th>           <td>    0.4295</td> <td>    0.047</td> <td>    9.161</td> <td> 0.000</td> <td>    0.338</td> <td>    0.521</td>\n",
       "</tr>\n",
       "<tr>\n",
       "  <th>MSZoning[T.RM]</th>           <td>    0.4089</td> <td>    0.044</td> <td>    9.302</td> <td> 0.000</td> <td>    0.323</td> <td>    0.495</td>\n",
       "</tr>\n",
       "<tr>\n",
       "  <th>MasVnrType[T.BrkFace]</th>    <td>    0.0510</td> <td>    0.032</td> <td>    1.575</td> <td> 0.115</td> <td>   -0.013</td> <td>    0.115</td>\n",
       "</tr>\n",
       "<tr>\n",
       "  <th>MasVnrType[T.None]</th>       <td>    0.0422</td> <td>    0.043</td> <td>    0.978</td> <td> 0.328</td> <td>   -0.042</td> <td>    0.127</td>\n",
       "</tr>\n",
       "<tr>\n",
       "  <th>MasVnrType[T.Stone]</th>      <td>    0.0556</td> <td>    0.034</td> <td>    1.621</td> <td> 0.105</td> <td>   -0.012</td> <td>    0.123</td>\n",
       "</tr>\n",
       "<tr>\n",
       "  <th>MiscFeature[T.None]</th>      <td>   -0.1400</td> <td>    0.168</td> <td>   -0.831</td> <td> 0.406</td> <td>   -0.470</td> <td>    0.191</td>\n",
       "</tr>\n",
       "<tr>\n",
       "  <th>MiscFeature[T.Othr]</th>      <td>   -0.1707</td> <td>    0.160</td> <td>   -1.066</td> <td> 0.287</td> <td>   -0.485</td> <td>    0.144</td>\n",
       "</tr>\n",
       "<tr>\n",
       "  <th>MiscFeature[T.Shed]</th>      <td>   -0.0695</td> <td>    0.118</td> <td>   -0.591</td> <td> 0.554</td> <td>   -0.300</td> <td>    0.161</td>\n",
       "</tr>\n",
       "<tr>\n",
       "  <th>MiscFeature[T.TenC]</th>      <td>    0.0865</td> <td>    0.245</td> <td>    0.352</td> <td> 0.725</td> <td>   -0.395</td> <td>    0.568</td>\n",
       "</tr>\n",
       "<tr>\n",
       "  <th>MoSold[T.2]</th>              <td>    0.0047</td> <td>    0.022</td> <td>    0.218</td> <td> 0.827</td> <td>   -0.038</td> <td>    0.047</td>\n",
       "</tr>\n",
       "<tr>\n",
       "  <th>MoSold[T.3]</th>              <td>    0.0016</td> <td>    0.019</td> <td>    0.086</td> <td> 0.932</td> <td>   -0.036</td> <td>    0.039</td>\n",
       "</tr>\n",
       "<tr>\n",
       "  <th>MoSold[T.4]</th>              <td>    0.0130</td> <td>    0.018</td> <td>    0.725</td> <td> 0.469</td> <td>   -0.022</td> <td>    0.048</td>\n",
       "</tr>\n",
       "<tr>\n",
       "  <th>MoSold[T.5]</th>              <td>    0.0191</td> <td>    0.017</td> <td>    1.119</td> <td> 0.263</td> <td>   -0.014</td> <td>    0.053</td>\n",
       "</tr>\n",
       "<tr>\n",
       "  <th>MoSold[T.6]</th>              <td>    0.0251</td> <td>    0.017</td> <td>    1.484</td> <td> 0.138</td> <td>   -0.008</td> <td>    0.058</td>\n",
       "</tr>\n",
       "<tr>\n",
       "  <th>MoSold[T.7]</th>              <td>    0.0175</td> <td>    0.017</td> <td>    1.020</td> <td> 0.308</td> <td>   -0.016</td> <td>    0.051</td>\n",
       "</tr>\n",
       "<tr>\n",
       "  <th>MoSold[T.8]</th>              <td>   -0.0021</td> <td>    0.018</td> <td>   -0.113</td> <td> 0.910</td> <td>   -0.038</td> <td>    0.034</td>\n",
       "</tr>\n",
       "<tr>\n",
       "  <th>MoSold[T.9]</th>              <td>   -0.0027</td> <td>    0.021</td> <td>   -0.130</td> <td> 0.897</td> <td>   -0.044</td> <td>    0.038</td>\n",
       "</tr>\n",
       "<tr>\n",
       "  <th>MoSold[T.10]</th>             <td>   -0.0078</td> <td>    0.020</td> <td>   -0.391</td> <td> 0.696</td> <td>   -0.047</td> <td>    0.031</td>\n",
       "</tr>\n",
       "<tr>\n",
       "  <th>MoSold[T.11]</th>             <td>    0.0042</td> <td>    0.020</td> <td>    0.209</td> <td> 0.835</td> <td>   -0.035</td> <td>    0.043</td>\n",
       "</tr>\n",
       "<tr>\n",
       "  <th>MoSold[T.12]</th>             <td>    0.0032</td> <td>    0.021</td> <td>    0.150</td> <td> 0.881</td> <td>   -0.038</td> <td>    0.045</td>\n",
       "</tr>\n",
       "<tr>\n",
       "  <th>Neighborhood[T.Blueste]</th>  <td>   -0.0135</td> <td>    0.094</td> <td>   -0.144</td> <td> 0.886</td> <td>   -0.198</td> <td>    0.171</td>\n",
       "</tr>\n",
       "<tr>\n",
       "  <th>Neighborhood[T.BrDale]</th>   <td>   -0.0257</td> <td>    0.053</td> <td>   -0.482</td> <td> 0.630</td> <td>   -0.130</td> <td>    0.079</td>\n",
       "</tr>\n",
       "<tr>\n",
       "  <th>Neighborhood[T.BrkSide]</th>  <td>   -0.0184</td> <td>    0.045</td> <td>   -0.410</td> <td> 0.682</td> <td>   -0.106</td> <td>    0.070</td>\n",
       "</tr>\n",
       "<tr>\n",
       "  <th>Neighborhood[T.ClearCr]</th>  <td>   -0.0366</td> <td>    0.044</td> <td>   -0.825</td> <td> 0.409</td> <td>   -0.124</td> <td>    0.050</td>\n",
       "</tr>\n",
       "<tr>\n",
       "  <th>Neighborhood[T.CollgCr]</th>  <td>   -0.0527</td> <td>    0.035</td> <td>   -1.494</td> <td> 0.136</td> <td>   -0.122</td> <td>    0.017</td>\n",
       "</tr>\n",
       "<tr>\n",
       "  <th>Neighborhood[T.Crawfor]</th>  <td>    0.0642</td> <td>    0.041</td> <td>    1.565</td> <td> 0.118</td> <td>   -0.016</td> <td>    0.145</td>\n",
       "</tr>\n",
       "<tr>\n",
       "  <th>Neighborhood[T.Edwards]</th>  <td>   -0.1361</td> <td>    0.038</td> <td>   -3.547</td> <td> 0.000</td> <td>   -0.211</td> <td>   -0.061</td>\n",
       "</tr>\n",
       "<tr>\n",
       "  <th>Neighborhood[T.Gilbert]</th>  <td>   -0.0600</td> <td>    0.038</td> <td>   -1.600</td> <td> 0.110</td> <td>   -0.134</td> <td>    0.014</td>\n",
       "</tr>\n",
       "<tr>\n",
       "  <th>Neighborhood[T.IDOTRR]</th>   <td>   -0.0848</td> <td>    0.051</td> <td>   -1.672</td> <td> 0.095</td> <td>   -0.184</td> <td>    0.015</td>\n",
       "</tr>\n",
       "<tr>\n",
       "  <th>Neighborhood[T.MeadowV]</th>  <td>   -0.0972</td> <td>    0.054</td> <td>   -1.795</td> <td> 0.073</td> <td>   -0.204</td> <td>    0.009</td>\n",
       "</tr>\n",
       "<tr>\n",
       "  <th>Neighborhood[T.Mitchel]</th>  <td>   -0.1087</td> <td>    0.040</td> <td>   -2.747</td> <td> 0.006</td> <td>   -0.186</td> <td>   -0.031</td>\n",
       "</tr>\n",
       "<tr>\n",
       "  <th>Neighborhood[T.NAmes]</th>    <td>   -0.0775</td> <td>    0.038</td> <td>   -2.046</td> <td> 0.041</td> <td>   -0.152</td> <td>   -0.003</td>\n",
       "</tr>\n",
       "<tr>\n",
       "  <th>Neighborhood[T.NPkVill]</th>  <td>    0.0104</td> <td>    0.066</td> <td>    0.157</td> <td> 0.875</td> <td>   -0.119</td> <td>    0.140</td>\n",
       "</tr>\n",
       "<tr>\n",
       "  <th>Neighborhood[T.NWAmes]</th>   <td>   -0.0909</td> <td>    0.039</td> <td>   -2.327</td> <td> 0.020</td> <td>   -0.168</td> <td>   -0.014</td>\n",
       "</tr>\n",
       "<tr>\n",
       "  <th>Neighborhood[T.NoRidge]</th>  <td>    0.0370</td> <td>    0.040</td> <td>    0.916</td> <td> 0.360</td> <td>   -0.042</td> <td>    0.116</td>\n",
       "</tr>\n",
       "<tr>\n",
       "  <th>Neighborhood[T.NridgHt]</th>  <td>    0.0376</td> <td>    0.037</td> <td>    1.031</td> <td> 0.303</td> <td>   -0.034</td> <td>    0.109</td>\n",
       "</tr>\n",
       "<tr>\n",
       "  <th>Neighborhood[T.OldTown]</th>  <td>   -0.0929</td> <td>    0.046</td> <td>   -2.019</td> <td> 0.044</td> <td>   -0.183</td> <td>   -0.003</td>\n",
       "</tr>\n",
       "<tr>\n",
       "  <th>Neighborhood[T.SWISU]</th>    <td>   -0.0335</td> <td>    0.046</td> <td>   -0.736</td> <td> 0.462</td> <td>   -0.123</td> <td>    0.056</td>\n",
       "</tr>\n",
       "<tr>\n",
       "  <th>Neighborhood[T.Sawyer]</th>   <td>   -0.0831</td> <td>    0.039</td> <td>   -2.108</td> <td> 0.035</td> <td>   -0.160</td> <td>   -0.006</td>\n",
       "</tr>\n",
       "<tr>\n",
       "  <th>Neighborhood[T.SawyerW]</th>  <td>   -0.0434</td> <td>    0.038</td> <td>   -1.137</td> <td> 0.256</td> <td>   -0.118</td> <td>    0.031</td>\n",
       "</tr>\n",
       "<tr>\n",
       "  <th>Neighborhood[T.Somerst]</th>  <td>   -0.0183</td> <td>    0.042</td> <td>   -0.431</td> <td> 0.666</td> <td>   -0.102</td> <td>    0.065</td>\n",
       "</tr>\n",
       "<tr>\n",
       "  <th>Neighborhood[T.StoneBr]</th>  <td>    0.0954</td> <td>    0.040</td> <td>    2.414</td> <td> 0.016</td> <td>    0.018</td> <td>    0.173</td>\n",
       "</tr>\n",
       "<tr>\n",
       "  <th>Neighborhood[T.Timber]</th>   <td>   -0.0546</td> <td>    0.039</td> <td>   -1.383</td> <td> 0.167</td> <td>   -0.132</td> <td>    0.023</td>\n",
       "</tr>\n",
       "<tr>\n",
       "  <th>Neighborhood[T.Veenker]</th>  <td>   -0.0486</td> <td>    0.050</td> <td>   -0.970</td> <td> 0.332</td> <td>   -0.147</td> <td>    0.050</td>\n",
       "</tr>\n",
       "<tr>\n",
       "  <th>PoolQC[T.Fa]</th>             <td>   -0.4034</td> <td>    0.193</td> <td>   -2.085</td> <td> 0.037</td> <td>   -0.783</td> <td>   -0.024</td>\n",
       "</tr>\n",
       "<tr>\n",
       "  <th>PoolQC[T.Gd]</th>             <td>   -0.1996</td> <td>    0.172</td> <td>   -1.162</td> <td> 0.245</td> <td>   -0.536</td> <td>    0.137</td>\n",
       "</tr>\n",
       "<tr>\n",
       "  <th>PoolQC[T.None]</th>           <td>    7.4200</td> <td>    4.183</td> <td>    1.774</td> <td> 0.076</td> <td>   -0.787</td> <td>   15.627</td>\n",
       "</tr>\n",
       "<tr>\n",
       "  <th>RoofMatl[T.CompShg]</th>      <td>    1.5246</td> <td>    0.245</td> <td>    6.220</td> <td> 0.000</td> <td>    1.044</td> <td>    2.006</td>\n",
       "</tr>\n",
       "<tr>\n",
       "  <th>RoofMatl[T.Membran]</th>      <td>    1.7558</td> <td>    0.286</td> <td>    6.133</td> <td> 0.000</td> <td>    1.194</td> <td>    2.317</td>\n",
       "</tr>\n",
       "<tr>\n",
       "  <th>RoofMatl[T.Metal]</th>        <td>    1.6457</td> <td>    0.287</td> <td>    5.741</td> <td> 0.000</td> <td>    1.083</td> <td>    2.208</td>\n",
       "</tr>\n",
       "<tr>\n",
       "  <th>RoofMatl[T.Roll]</th>         <td>    1.4890</td> <td>    0.269</td> <td>    5.542</td> <td> 0.000</td> <td>    0.962</td> <td>    2.016</td>\n",
       "</tr>\n",
       "<tr>\n",
       "  <th>RoofMatl[T.Tar&Grv]</th>      <td>    1.4338</td> <td>    0.263</td> <td>    5.457</td> <td> 0.000</td> <td>    0.918</td> <td>    1.949</td>\n",
       "</tr>\n",
       "<tr>\n",
       "  <th>RoofMatl[T.WdShake]</th>      <td>    1.5426</td> <td>    0.255</td> <td>    6.048</td> <td> 0.000</td> <td>    1.042</td> <td>    2.043</td>\n",
       "</tr>\n",
       "<tr>\n",
       "  <th>RoofMatl[T.WdShngl]</th>      <td>    1.7096</td> <td>    0.250</td> <td>    6.833</td> <td> 0.000</td> <td>    1.219</td> <td>    2.201</td>\n",
       "</tr>\n",
       "<tr>\n",
       "  <th>RoofStyle[T.Gable]</th>       <td>   -0.0450</td> <td>    0.087</td> <td>   -0.515</td> <td> 0.607</td> <td>   -0.217</td> <td>    0.127</td>\n",
       "</tr>\n",
       "<tr>\n",
       "  <th>RoofStyle[T.Gambrel]</th>     <td>   -0.0865</td> <td>    0.095</td> <td>   -0.910</td> <td> 0.363</td> <td>   -0.273</td> <td>    0.100</td>\n",
       "</tr>\n",
       "<tr>\n",
       "  <th>RoofStyle[T.Hip]</th>         <td>   -0.0401</td> <td>    0.088</td> <td>   -0.457</td> <td> 0.648</td> <td>   -0.213</td> <td>    0.132</td>\n",
       "</tr>\n",
       "<tr>\n",
       "  <th>RoofStyle[T.Mansard]</th>     <td>   -0.0132</td> <td>    0.101</td> <td>   -0.130</td> <td> 0.896</td> <td>   -0.212</td> <td>    0.186</td>\n",
       "</tr>\n",
       "<tr>\n",
       "  <th>RoofStyle[T.Shed]</th>        <td>    0.1478</td> <td>    0.166</td> <td>    0.888</td> <td> 0.375</td> <td>   -0.179</td> <td>    0.474</td>\n",
       "</tr>\n",
       "<tr>\n",
       "  <th>SaleCondition[T.AdjLand]</th> <td>    0.1422</td> <td>    0.067</td> <td>    2.119</td> <td> 0.034</td> <td>    0.011</td> <td>    0.274</td>\n",
       "</tr>\n",
       "<tr>\n",
       "  <th>SaleCondition[T.Alloca]</th>  <td>    0.0142</td> <td>    0.044</td> <td>    0.323</td> <td> 0.747</td> <td>   -0.072</td> <td>    0.100</td>\n",
       "</tr>\n",
       "<tr>\n",
       "  <th>SaleCondition[T.Family]</th>  <td>   -0.0084</td> <td>    0.028</td> <td>   -0.301</td> <td> 0.763</td> <td>   -0.063</td> <td>    0.046</td>\n",
       "</tr>\n",
       "<tr>\n",
       "  <th>SaleCondition[T.Normal]</th>  <td>    0.0539</td> <td>    0.013</td> <td>    4.011</td> <td> 0.000</td> <td>    0.028</td> <td>    0.080</td>\n",
       "</tr>\n",
       "<tr>\n",
       "  <th>SaleCondition[T.Partial]</th> <td>   -0.0400</td> <td>    0.067</td> <td>   -0.595</td> <td> 0.552</td> <td>   -0.172</td> <td>    0.092</td>\n",
       "</tr>\n",
       "<tr>\n",
       "  <th>SaleType[T.CWD]</th>          <td>    0.0557</td> <td>    0.060</td> <td>    0.926</td> <td> 0.354</td> <td>   -0.062</td> <td>    0.174</td>\n",
       "</tr>\n",
       "<tr>\n",
       "  <th>SaleType[T.Con]</th>          <td>    0.0612</td> <td>    0.082</td> <td>    0.748</td> <td> 0.455</td> <td>   -0.099</td> <td>    0.222</td>\n",
       "</tr>\n",
       "<tr>\n",
       "  <th>SaleType[T.ConLD]</th>        <td>    0.1002</td> <td>    0.044</td> <td>    2.265</td> <td> 0.024</td> <td>    0.013</td> <td>    0.187</td>\n",
       "</tr>\n",
       "<tr>\n",
       "  <th>SaleType[T.ConLI]</th>        <td>   -0.0115</td> <td>    0.054</td> <td>   -0.214</td> <td> 0.831</td> <td>   -0.117</td> <td>    0.094</td>\n",
       "</tr>\n",
       "<tr>\n",
       "  <th>SaleType[T.ConLw]</th>        <td>   -0.0118</td> <td>    0.055</td> <td>   -0.213</td> <td> 0.831</td> <td>   -0.121</td> <td>    0.097</td>\n",
       "</tr>\n",
       "<tr>\n",
       "  <th>SaleType[T.New]</th>          <td>    0.1184</td> <td>    0.071</td> <td>    1.680</td> <td> 0.093</td> <td>   -0.020</td> <td>    0.257</td>\n",
       "</tr>\n",
       "<tr>\n",
       "  <th>SaleType[T.Oth]</th>          <td>    0.0534</td> <td>    0.074</td> <td>    0.724</td> <td> 0.469</td> <td>   -0.091</td> <td>    0.198</td>\n",
       "</tr>\n",
       "<tr>\n",
       "  <th>SaleType[T.WD]</th>           <td>   -0.0211</td> <td>    0.020</td> <td>   -1.069</td> <td> 0.286</td> <td>   -0.060</td> <td>    0.018</td>\n",
       "</tr>\n",
       "<tr>\n",
       "  <th>Street[T.Pave]</th>           <td>    0.0702</td> <td>    0.057</td> <td>    1.224</td> <td> 0.221</td> <td>   -0.042</td> <td>    0.183</td>\n",
       "</tr>\n",
       "<tr>\n",
       "  <th>Utilities[T.NoSeWa]</th>      <td>   -0.1559</td> <td>    0.123</td> <td>   -1.270</td> <td> 0.204</td> <td>   -0.397</td> <td>    0.085</td>\n",
       "</tr>\n",
       "<tr>\n",
       "  <th>YearRemodAdd[T.1951]</th>     <td>    0.0304</td> <td>    0.057</td> <td>    0.535</td> <td> 0.593</td> <td>   -0.081</td> <td>    0.142</td>\n",
       "</tr>\n",
       "<tr>\n",
       "  <th>YearRemodAdd[T.1952]</th>     <td>    0.0419</td> <td>    0.057</td> <td>    0.739</td> <td> 0.460</td> <td>   -0.069</td> <td>    0.153</td>\n",
       "</tr>\n",
       "<tr>\n",
       "  <th>YearRemodAdd[T.1953]</th>     <td>   -0.0285</td> <td>    0.038</td> <td>   -0.752</td> <td> 0.452</td> <td>   -0.103</td> <td>    0.046</td>\n",
       "</tr>\n",
       "<tr>\n",
       "  <th>YearRemodAdd[T.1954]</th>     <td>    0.0333</td> <td>    0.032</td> <td>    1.052</td> <td> 0.293</td> <td>   -0.029</td> <td>    0.095</td>\n",
       "</tr>\n",
       "<tr>\n",
       "  <th>YearRemodAdd[T.1955]</th>     <td>    0.0515</td> <td>    0.040</td> <td>    1.296</td> <td> 0.195</td> <td>   -0.026</td> <td>    0.129</td>\n",
       "</tr>\n",
       "<tr>\n",
       "  <th>YearRemodAdd[T.1956]</th>     <td>    0.0308</td> <td>    0.037</td> <td>    0.845</td> <td> 0.398</td> <td>   -0.041</td> <td>    0.102</td>\n",
       "</tr>\n",
       "<tr>\n",
       "  <th>YearRemodAdd[T.1957]</th>     <td>    0.0012</td> <td>    0.039</td> <td>    0.031</td> <td> 0.975</td> <td>   -0.075</td> <td>    0.077</td>\n",
       "</tr>\n",
       "<tr>\n",
       "  <th>YearRemodAdd[T.1958]</th>     <td>   -0.0291</td> <td>    0.033</td> <td>   -0.883</td> <td> 0.377</td> <td>   -0.094</td> <td>    0.036</td>\n",
       "</tr>\n",
       "<tr>\n",
       "  <th>YearRemodAdd[T.1959]</th>     <td>    0.0121</td> <td>    0.029</td> <td>    0.412</td> <td> 0.681</td> <td>   -0.046</td> <td>    0.070</td>\n",
       "</tr>\n",
       "<tr>\n",
       "  <th>YearRemodAdd[T.1960]</th>     <td>   -0.0169</td> <td>    0.035</td> <td>   -0.485</td> <td> 0.627</td> <td>   -0.085</td> <td>    0.051</td>\n",
       "</tr>\n",
       "<tr>\n",
       "  <th>YearRemodAdd[T.1961]</th>     <td>    0.0714</td> <td>    0.042</td> <td>    1.688</td> <td> 0.092</td> <td>   -0.012</td> <td>    0.154</td>\n",
       "</tr>\n",
       "<tr>\n",
       "  <th>YearRemodAdd[T.1962]</th>     <td>    0.0959</td> <td>    0.033</td> <td>    2.906</td> <td> 0.004</td> <td>    0.031</td> <td>    0.161</td>\n",
       "</tr>\n",
       "<tr>\n",
       "  <th>YearRemodAdd[T.1963]</th>     <td>   -0.0193</td> <td>    0.035</td> <td>   -0.557</td> <td> 0.578</td> <td>   -0.087</td> <td>    0.049</td>\n",
       "</tr>\n",
       "<tr>\n",
       "  <th>YearRemodAdd[T.1964]</th>     <td>   -0.0009</td> <td>    0.037</td> <td>   -0.023</td> <td> 0.981</td> <td>   -0.074</td> <td>    0.072</td>\n",
       "</tr>\n",
       "<tr>\n",
       "  <th>YearRemodAdd[T.1965]</th>     <td>   -0.0322</td> <td>    0.030</td> <td>   -1.085</td> <td> 0.278</td> <td>   -0.091</td> <td>    0.026</td>\n",
       "</tr>\n",
       "<tr>\n",
       "  <th>YearRemodAdd[T.1966]</th>     <td>    0.0544</td> <td>    0.034</td> <td>    1.598</td> <td> 0.110</td> <td>   -0.012</td> <td>    0.121</td>\n",
       "</tr>\n",
       "<tr>\n",
       "  <th>YearRemodAdd[T.1967]</th>     <td>    0.0552</td> <td>    0.036</td> <td>    1.549</td> <td> 0.122</td> <td>   -0.015</td> <td>    0.125</td>\n",
       "</tr>\n",
       "<tr>\n",
       "  <th>YearRemodAdd[T.1968]</th>     <td>    0.0765</td> <td>    0.031</td> <td>    2.503</td> <td> 0.012</td> <td>    0.017</td> <td>    0.136</td>\n",
       "</tr>\n",
       "<tr>\n",
       "  <th>YearRemodAdd[T.1969]</th>     <td>    0.0026</td> <td>    0.034</td> <td>    0.074</td> <td> 0.941</td> <td>   -0.065</td> <td>    0.070</td>\n",
       "</tr>\n",
       "<tr>\n",
       "  <th>YearRemodAdd[T.1970]</th>     <td>    0.0378</td> <td>    0.027</td> <td>    1.389</td> <td> 0.165</td> <td>   -0.016</td> <td>    0.091</td>\n",
       "</tr>\n",
       "<tr>\n",
       "  <th>YearRemodAdd[T.1971]</th>     <td>    0.0429</td> <td>    0.032</td> <td>    1.346</td> <td> 0.179</td> <td>   -0.020</td> <td>    0.105</td>\n",
       "</tr>\n",
       "<tr>\n",
       "  <th>YearRemodAdd[T.1972]</th>     <td>    0.0142</td> <td>    0.028</td> <td>    0.502</td> <td> 0.616</td> <td>   -0.041</td> <td>    0.070</td>\n",
       "</tr>\n",
       "<tr>\n",
       "  <th>YearRemodAdd[T.1973]</th>     <td>   -0.0154</td> <td>    0.038</td> <td>   -0.405</td> <td> 0.686</td> <td>   -0.090</td> <td>    0.059</td>\n",
       "</tr>\n",
       "<tr>\n",
       "  <th>YearRemodAdd[T.1974]</th>     <td>    0.1073</td> <td>    0.044</td> <td>    2.416</td> <td> 0.016</td> <td>    0.020</td> <td>    0.194</td>\n",
       "</tr>\n",
       "<tr>\n",
       "  <th>YearRemodAdd[T.1975]</th>     <td>    0.0040</td> <td>    0.040</td> <td>    0.100</td> <td> 0.920</td> <td>   -0.075</td> <td>    0.083</td>\n",
       "</tr>\n",
       "<tr>\n",
       "  <th>YearRemodAdd[T.1976]</th>     <td>    0.0411</td> <td>    0.027</td> <td>    1.540</td> <td> 0.124</td> <td>   -0.011</td> <td>    0.093</td>\n",
       "</tr>\n",
       "<tr>\n",
       "  <th>YearRemodAdd[T.1977]</th>     <td>    0.0025</td> <td>    0.029</td> <td>    0.087</td> <td> 0.930</td> <td>   -0.054</td> <td>    0.059</td>\n",
       "</tr>\n",
       "<tr>\n",
       "  <th>YearRemodAdd[T.1978]</th>     <td>    0.0524</td> <td>    0.033</td> <td>    1.593</td> <td> 0.111</td> <td>   -0.012</td> <td>    0.117</td>\n",
       "</tr>\n",
       "<tr>\n",
       "  <th>YearRemodAdd[T.1979]</th>     <td>    0.0468</td> <td>    0.047</td> <td>    0.988</td> <td> 0.323</td> <td>   -0.046</td> <td>    0.140</td>\n",
       "</tr>\n",
       "<tr>\n",
       "  <th>YearRemodAdd[T.1980]</th>     <td>    0.0357</td> <td>    0.038</td> <td>    0.940</td> <td> 0.347</td> <td>   -0.039</td> <td>    0.110</td>\n",
       "</tr>\n",
       "<tr>\n",
       "  <th>YearRemodAdd[T.1981]</th>     <td>   -0.0107</td> <td>    0.042</td> <td>   -0.255</td> <td> 0.799</td> <td>   -0.093</td> <td>    0.072</td>\n",
       "</tr>\n",
       "<tr>\n",
       "  <th>YearRemodAdd[T.1982]</th>     <td>    0.0676</td> <td>    0.045</td> <td>    1.508</td> <td> 0.132</td> <td>   -0.020</td> <td>    0.155</td>\n",
       "</tr>\n",
       "<tr>\n",
       "  <th>YearRemodAdd[T.1983]</th>     <td>    0.0374</td> <td>    0.051</td> <td>    0.735</td> <td> 0.463</td> <td>   -0.063</td> <td>    0.137</td>\n",
       "</tr>\n",
       "<tr>\n",
       "  <th>YearRemodAdd[T.1984]</th>     <td>    0.0384</td> <td>    0.046</td> <td>    0.841</td> <td> 0.401</td> <td>   -0.051</td> <td>    0.128</td>\n",
       "</tr>\n",
       "<tr>\n",
       "  <th>YearRemodAdd[T.1985]</th>     <td>    0.0572</td> <td>    0.040</td> <td>    1.431</td> <td> 0.153</td> <td>   -0.021</td> <td>    0.136</td>\n",
       "</tr>\n",
       "<tr>\n",
       "  <th>YearRemodAdd[T.1986]</th>     <td>    0.1083</td> <td>    0.052</td> <td>    2.088</td> <td> 0.037</td> <td>    0.007</td> <td>    0.210</td>\n",
       "</tr>\n",
       "<tr>\n",
       "  <th>YearRemodAdd[T.1987]</th>     <td>    0.0721</td> <td>    0.040</td> <td>    1.821</td> <td> 0.069</td> <td>   -0.006</td> <td>    0.150</td>\n",
       "</tr>\n",
       "<tr>\n",
       "  <th>YearRemodAdd[T.1988]</th>     <td>    0.0600</td> <td>    0.039</td> <td>    1.523</td> <td> 0.128</td> <td>   -0.017</td> <td>    0.137</td>\n",
       "</tr>\n",
       "<tr>\n",
       "  <th>YearRemodAdd[T.1989]</th>     <td>    0.0404</td> <td>    0.037</td> <td>    1.102</td> <td> 0.271</td> <td>   -0.032</td> <td>    0.112</td>\n",
       "</tr>\n",
       "<tr>\n",
       "  <th>YearRemodAdd[T.1990]</th>     <td>    0.0239</td> <td>    0.031</td> <td>    0.763</td> <td> 0.445</td> <td>   -0.038</td> <td>    0.086</td>\n",
       "</tr>\n",
       "<tr>\n",
       "  <th>YearRemodAdd[T.1991]</th>     <td>    0.0188</td> <td>    0.035</td> <td>    0.542</td> <td> 0.588</td> <td>   -0.049</td> <td>    0.087</td>\n",
       "</tr>\n",
       "<tr>\n",
       "  <th>YearRemodAdd[T.1992]</th>     <td>    0.0057</td> <td>    0.031</td> <td>    0.188</td> <td> 0.851</td> <td>   -0.054</td> <td>    0.066</td>\n",
       "</tr>\n",
       "<tr>\n",
       "  <th>YearRemodAdd[T.1993]</th>     <td>    0.0308</td> <td>    0.030</td> <td>    1.032</td> <td> 0.302</td> <td>   -0.028</td> <td>    0.089</td>\n",
       "</tr>\n",
       "<tr>\n",
       "  <th>YearRemodAdd[T.1994]</th>     <td>    0.0665</td> <td>    0.028</td> <td>    2.398</td> <td> 0.017</td> <td>    0.012</td> <td>    0.121</td>\n",
       "</tr>\n",
       "<tr>\n",
       "  <th>YearRemodAdd[T.1995]</th>     <td>    0.0521</td> <td>    0.024</td> <td>    2.203</td> <td> 0.028</td> <td>    0.006</td> <td>    0.099</td>\n",
       "</tr>\n",
       "<tr>\n",
       "  <th>YearRemodAdd[T.1996]</th>     <td>    0.0536</td> <td>    0.023</td> <td>    2.357</td> <td> 0.019</td> <td>    0.009</td> <td>    0.098</td>\n",
       "</tr>\n",
       "<tr>\n",
       "  <th>YearRemodAdd[T.1997]</th>     <td>    0.0534</td> <td>    0.026</td> <td>    2.078</td> <td> 0.038</td> <td>    0.003</td> <td>    0.104</td>\n",
       "</tr>\n",
       "<tr>\n",
       "  <th>YearRemodAdd[T.1998]</th>     <td>    0.0471</td> <td>    0.024</td> <td>    1.981</td> <td> 0.048</td> <td>    0.000</td> <td>    0.094</td>\n",
       "</tr>\n",
       "<tr>\n",
       "  <th>YearRemodAdd[T.1999]</th>     <td>    0.0632</td> <td>    0.026</td> <td>    2.443</td> <td> 0.015</td> <td>    0.012</td> <td>    0.114</td>\n",
       "</tr>\n",
       "<tr>\n",
       "  <th>YearRemodAdd[T.2000]</th>     <td>    0.0568</td> <td>    0.020</td> <td>    2.834</td> <td> 0.005</td> <td>    0.017</td> <td>    0.096</td>\n",
       "</tr>\n",
       "<tr>\n",
       "  <th>YearRemodAdd[T.2001]</th>     <td>    0.0634</td> <td>    0.027</td> <td>    2.311</td> <td> 0.021</td> <td>    0.010</td> <td>    0.117</td>\n",
       "</tr>\n",
       "<tr>\n",
       "  <th>YearRemodAdd[T.2002]</th>     <td>    0.0584</td> <td>    0.022</td> <td>    2.675</td> <td> 0.008</td> <td>    0.016</td> <td>    0.101</td>\n",
       "</tr>\n",
       "<tr>\n",
       "  <th>YearRemodAdd[T.2003]</th>     <td>    0.0396</td> <td>    0.022</td> <td>    1.833</td> <td> 0.067</td> <td>   -0.003</td> <td>    0.082</td>\n",
       "</tr>\n",
       "<tr>\n",
       "  <th>YearRemodAdd[T.2004]</th>     <td>    0.0497</td> <td>    0.021</td> <td>    2.389</td> <td> 0.017</td> <td>    0.009</td> <td>    0.091</td>\n",
       "</tr>\n",
       "<tr>\n",
       "  <th>YearRemodAdd[T.2005]</th>     <td>    0.0345</td> <td>    0.021</td> <td>    1.671</td> <td> 0.095</td> <td>   -0.006</td> <td>    0.075</td>\n",
       "</tr>\n",
       "<tr>\n",
       "  <th>YearRemodAdd[T.2006]</th>     <td>    0.0382</td> <td>    0.020</td> <td>    1.920</td> <td> 0.055</td> <td>   -0.001</td> <td>    0.077</td>\n",
       "</tr>\n",
       "<tr>\n",
       "  <th>YearRemodAdd[T.2007]</th>     <td>    0.0184</td> <td>    0.021</td> <td>    0.864</td> <td> 0.388</td> <td>   -0.023</td> <td>    0.060</td>\n",
       "</tr>\n",
       "<tr>\n",
       "  <th>YearRemodAdd[T.2008]</th>     <td>    0.0901</td> <td>    0.026</td> <td>    3.493</td> <td> 0.000</td> <td>    0.039</td> <td>    0.141</td>\n",
       "</tr>\n",
       "<tr>\n",
       "  <th>YearRemodAdd[T.2009]</th>     <td>    0.1000</td> <td>    0.031</td> <td>    3.180</td> <td> 0.002</td> <td>    0.038</td> <td>    0.162</td>\n",
       "</tr>\n",
       "<tr>\n",
       "  <th>YearRemodAdd[T.2010]</th>     <td>    0.0988</td> <td>    0.049</td> <td>    2.037</td> <td> 0.042</td> <td>    0.004</td> <td>    0.194</td>\n",
       "</tr>\n",
       "<tr>\n",
       "  <th>YrSold[T.2007]</th>           <td>   -0.0038</td> <td>    0.009</td> <td>   -0.410</td> <td> 0.682</td> <td>   -0.022</td> <td>    0.014</td>\n",
       "</tr>\n",
       "<tr>\n",
       "  <th>YrSold[T.2008]</th>           <td>   -0.0042</td> <td>    0.010</td> <td>   -0.435</td> <td> 0.664</td> <td>   -0.023</td> <td>    0.015</td>\n",
       "</tr>\n",
       "<tr>\n",
       "  <th>YrSold[T.2009]</th>           <td>   -0.0225</td> <td>    0.009</td> <td>   -2.378</td> <td> 0.018</td> <td>   -0.041</td> <td>   -0.004</td>\n",
       "</tr>\n",
       "<tr>\n",
       "  <th>YrSold[T.2010]</th>           <td>   -0.0159</td> <td>    0.012</td> <td>   -1.352</td> <td> 0.177</td> <td>   -0.039</td> <td>    0.007</td>\n",
       "</tr>\n",
       "<tr>\n",
       "  <th>BedroomAbvGr</th>             <td>   -0.0065</td> <td>    0.006</td> <td>   -1.022</td> <td> 0.307</td> <td>   -0.019</td> <td>    0.006</td>\n",
       "</tr>\n",
       "<tr>\n",
       "  <th>BsmtFinSF1</th>               <td>    0.0234</td> <td>    0.005</td> <td>    5.184</td> <td> 0.000</td> <td>    0.015</td> <td>    0.032</td>\n",
       "</tr>\n",
       "<tr>\n",
       "  <th>BsmtFinSF2</th>               <td>   -0.0096</td> <td>    0.023</td> <td>   -0.420</td> <td> 0.675</td> <td>   -0.054</td> <td>    0.035</td>\n",
       "</tr>\n",
       "<tr>\n",
       "  <th>BsmtFullBath</th>             <td>    0.0349</td> <td>    0.008</td> <td>    4.129</td> <td> 0.000</td> <td>    0.018</td> <td>    0.051</td>\n",
       "</tr>\n",
       "<tr>\n",
       "  <th>BsmtHalfBath</th>             <td>    0.0145</td> <td>    0.014</td> <td>    1.053</td> <td> 0.293</td> <td>   -0.013</td> <td>    0.042</td>\n",
       "</tr>\n",
       "<tr>\n",
       "  <th>BsmtUnfSF</th>                <td>   -0.0104</td> <td>    0.005</td> <td>   -1.997</td> <td> 0.046</td> <td>   -0.021</td> <td>   -0.000</td>\n",
       "</tr>\n",
       "<tr>\n",
       "  <th>EnclosedPorch</th>            <td>    0.0066</td> <td>    0.004</td> <td>    1.794</td> <td> 0.073</td> <td>   -0.001</td> <td>    0.014</td>\n",
       "</tr>\n",
       "<tr>\n",
       "  <th>Fireplaces</th>               <td>    0.0273</td> <td>    0.012</td> <td>    2.330</td> <td> 0.020</td> <td>    0.004</td> <td>    0.050</td>\n",
       "</tr>\n",
       "<tr>\n",
       "  <th>FirstFlrSF</th>               <td>   -0.0096</td> <td>    0.015</td> <td>   -0.636</td> <td> 0.525</td> <td>   -0.039</td> <td>    0.020</td>\n",
       "</tr>\n",
       "<tr>\n",
       "  <th>FullBath</th>                 <td>    0.0177</td> <td>    0.009</td> <td>    1.891</td> <td> 0.059</td> <td>   -0.001</td> <td>    0.036</td>\n",
       "</tr>\n",
       "<tr>\n",
       "  <th>GarageArea</th>               <td>    0.0162</td> <td>    0.008</td> <td>    2.064</td> <td> 0.039</td> <td>    0.001</td> <td>    0.032</td>\n",
       "</tr>\n",
       "<tr>\n",
       "  <th>GarageCars</th>               <td>    0.0264</td> <td>    0.010</td> <td>    2.537</td> <td> 0.011</td> <td>    0.006</td> <td>    0.047</td>\n",
       "</tr>\n",
       "<tr>\n",
       "  <th>GarageYrBlt</th>              <td>    0.0001</td> <td>    0.000</td> <td>    0.408</td> <td> 0.683</td> <td>   -0.000</td> <td>    0.001</td>\n",
       "</tr>\n",
       "<tr>\n",
       "  <th>GrLivArea</th>                <td>    0.1455</td> <td>    0.017</td> <td>    8.377</td> <td> 0.000</td> <td>    0.111</td> <td>    0.180</td>\n",
       "</tr>\n",
       "<tr>\n",
       "  <th>KitchenAbvGr</th>             <td>   -0.0498</td> <td>    0.026</td> <td>   -1.895</td> <td> 0.058</td> <td>   -0.101</td> <td>    0.002</td>\n",
       "</tr>\n",
       "<tr>\n",
       "  <th>LotArea</th>                  <td>    0.0493</td> <td>    0.006</td> <td>    7.834</td> <td> 0.000</td> <td>    0.037</td> <td>    0.062</td>\n",
       "</tr>\n",
       "<tr>\n",
       "  <th>LotFrontage</th>              <td>   -0.0009</td> <td>    0.004</td> <td>   -0.245</td> <td> 0.806</td> <td>   -0.008</td> <td>    0.006</td>\n",
       "</tr>\n",
       "<tr>\n",
       "  <th>LowQualFinSF</th>             <td>   -0.0064</td> <td>    0.004</td> <td>   -1.579</td> <td> 0.115</td> <td>   -0.014</td> <td>    0.002</td>\n",
       "</tr>\n",
       "<tr>\n",
       "  <th>MSSubClass</th>               <td>   -0.0004</td> <td>    0.000</td> <td>   -0.891</td> <td> 0.373</td> <td>   -0.001</td> <td>    0.000</td>\n",
       "</tr>\n",
       "<tr>\n",
       "  <th>MasVnrArea</th>               <td>   -0.0006</td> <td>    0.014</td> <td>   -0.044</td> <td> 0.965</td> <td>   -0.029</td> <td>    0.028</td>\n",
       "</tr>\n",
       "<tr>\n",
       "  <th>MiscVal</th>                  <td>   -0.0146</td> <td>    0.017</td> <td>   -0.868</td> <td> 0.386</td> <td>   -0.048</td> <td>    0.018</td>\n",
       "</tr>\n",
       "<tr>\n",
       "  <th>OpenPorchSF</th>              <td>    0.0010</td> <td>    0.004</td> <td>    0.259</td> <td> 0.796</td> <td>   -0.006</td> <td>    0.008</td>\n",
       "</tr>\n",
       "<tr>\n",
       "  <th>OverallCond</th>              <td>    0.0419</td> <td>    0.004</td> <td>   10.504</td> <td> 0.000</td> <td>    0.034</td> <td>    0.050</td>\n",
       "</tr>\n",
       "<tr>\n",
       "  <th>OverallQual</th>              <td>    0.0395</td> <td>    0.005</td> <td>    8.373</td> <td> 0.000</td> <td>    0.030</td> <td>    0.049</td>\n",
       "</tr>\n",
       "<tr>\n",
       "  <th>PoolArea</th>                 <td>    0.5002</td> <td>    0.273</td> <td>    1.831</td> <td> 0.067</td> <td>   -0.036</td> <td>    1.036</td>\n",
       "</tr>\n",
       "<tr>\n",
       "  <th>ScreenPorch</th>              <td>    0.0145</td> <td>    0.003</td> <td>    4.462</td> <td> 0.000</td> <td>    0.008</td> <td>    0.021</td>\n",
       "</tr>\n",
       "<tr>\n",
       "  <th>SecondFlrSF</th>              <td>   -0.0023</td> <td>    0.020</td> <td>   -0.114</td> <td> 0.909</td> <td>   -0.041</td> <td>    0.036</td>\n",
       "</tr>\n",
       "<tr>\n",
       "  <th>ThreeSsnPorch</th>            <td>    0.0018</td> <td>    0.003</td> <td>    0.652</td> <td> 0.515</td> <td>   -0.004</td> <td>    0.007</td>\n",
       "</tr>\n",
       "<tr>\n",
       "  <th>TotRmsAbvGrd</th>             <td>    0.0053</td> <td>    0.004</td> <td>    1.224</td> <td> 0.221</td> <td>   -0.003</td> <td>    0.014</td>\n",
       "</tr>\n",
       "<tr>\n",
       "  <th>TotalBsmtSF</th>              <td>    0.1040</td> <td>    0.023</td> <td>    4.460</td> <td> 0.000</td> <td>    0.058</td> <td>    0.150</td>\n",
       "</tr>\n",
       "<tr>\n",
       "  <th>WoodDeckSF</th>               <td>    0.0114</td> <td>    0.003</td> <td>    3.262</td> <td> 0.001</td> <td>    0.005</td> <td>    0.018</td>\n",
       "</tr>\n",
       "<tr>\n",
       "  <th>YearBuilt</th>                <td>    0.0020</td> <td>    0.000</td> <td>    5.805</td> <td> 0.000</td> <td>    0.001</td> <td>    0.003</td>\n",
       "</tr>\n",
       "</table>\n",
       "<table class=\"simpletable\">\n",
       "<tr>\n",
       "  <th>Omnibus:</th>       <td>313.388</td> <th>  Durbin-Watson:     </th> <td>   1.934</td>\n",
       "</tr>\n",
       "<tr>\n",
       "  <th>Prob(Omnibus):</th> <td> 0.000</td>  <th>  Jarque-Bera (JB):  </th> <td>2601.428</td>\n",
       "</tr>\n",
       "<tr>\n",
       "  <th>Skew:</th>          <td>-0.758</td>  <th>  Prob(JB):          </th> <td>    0.00</td>\n",
       "</tr>\n",
       "<tr>\n",
       "  <th>Kurtosis:</th>      <td> 9.361</td>  <th>  Cond. No.          </th> <td>2.51e+18</td>\n",
       "</tr>\n",
       "</table>"
      ],
      "text/plain": [
       "<class 'statsmodels.iolib.summary.Summary'>\n",
       "\"\"\"\n",
       "                            OLS Regression Results                            \n",
       "==============================================================================\n",
       "Dep. Variable:              SalePrice   R-squared:                       0.949\n",
       "Model:                            OLS   Adj. R-squared:                  0.935\n",
       "Method:                 Least Squares   F-statistic:                     69.19\n",
       "Date:                Fri, 28 Apr 2017   Prob (F-statistic):               0.00\n",
       "Time:                        12:55:44   Log-Likelihood:                 1440.4\n",
       "No. Observations:                1460   AIC:                            -2261.\n",
       "Df Residuals:                    1150   BIC:                            -622.1\n",
       "Df Model:                         309                                         \n",
       "Covariance Type:            nonrobust                                         \n",
       "============================================================================================\n",
       "                               coef    std err          t      P>|t|      [0.025      0.975]\n",
       "--------------------------------------------------------------------------------------------\n",
       "Intercept                   -0.9953      1.835     -0.542      0.588      -4.595       2.605\n",
       "Alley[T.None]               -0.0026      0.019     -0.135      0.892      -0.040       0.035\n",
       "Alley[T.Pave]                0.0287      0.028      1.041      0.298      -0.025       0.083\n",
       "BldgType[T.2fmCon]           0.0189      0.059      0.320      0.749      -0.097       0.135\n",
       "BldgType[T.Duplex]          -0.0172      0.035     -0.492      0.623      -0.086       0.051\n",
       "BldgType[T.Twnhs]           -0.0067      0.047     -0.143      0.887      -0.099       0.085\n",
       "BldgType[T.TwnhsE]           0.0066      0.042      0.156      0.876      -0.076       0.090\n",
       "BsmtCond[T.Gd]               0.0330      0.025      1.341      0.180      -0.015       0.081\n",
       "BsmtCond[T.None]             0.2331      0.404      0.577      0.564      -0.560       1.026\n",
       "BsmtCond[T.Po]               0.1275      0.131      0.971      0.332      -0.130       0.385\n",
       "BsmtCond[T.TA]               0.0390      0.019      2.036      0.042       0.001       0.077\n",
       "BsmtExposure[T.Gd]           0.0420      0.014      3.066      0.002       0.015       0.069\n",
       "BsmtExposure[T.Mn]          -0.0032      0.014     -0.226      0.821      -0.031       0.024\n",
       "BsmtExposure[T.No]          -0.0084      0.010     -0.822      0.411      -0.029       0.012\n",
       "BsmtExposure[T.None]        -0.0829      0.106     -0.785      0.433      -0.290       0.124\n",
       "BsmtFinType2[T.BLQ]         -0.0443      0.035     -1.285      0.199      -0.112       0.023\n",
       "BsmtFinType2[T.GLQ]         -0.0083      0.043     -0.196      0.845      -0.092       0.075\n",
       "BsmtFinType2[T.LwQ]         -0.0177      0.033     -0.532      0.595      -0.083       0.047\n",
       "BsmtFinType2[T.None]         0.0249      0.110      0.227      0.821      -0.191       0.241\n",
       "BsmtFinType2[T.Rec]         -0.0215      0.032     -0.676      0.499      -0.084       0.041\n",
       "BsmtFinType2[T.Unf]         -0.0345      0.079     -0.435      0.664      -0.190       0.121\n",
       "BsmtQual[T.Ex]              -0.2807      0.373     -0.753      0.451      -1.012       0.450\n",
       "BsmtQual[T.Fa]              -0.3060      0.369     -0.829      0.407      -1.030       0.418\n",
       "BsmtQual[T.Gd]              -0.3207      0.371     -0.863      0.388      -1.050       0.408\n",
       "BsmtQual[T.TA]              -0.3210      0.370     -0.868      0.386      -1.047       0.405\n",
       "CentralAir[T.True]          -0.9953      1.835     -0.542      0.588      -4.595       2.605\n",
       "Condition1[T.Feedr]          0.0452      0.023      1.970      0.049       0.000       0.090\n",
       "Condition1[T.Norm]           0.0849      0.019      4.451      0.000       0.047       0.122\n",
       "Condition1[T.PosA]           0.0433      0.046      0.935      0.350      -0.048       0.134\n",
       "Condition1[T.PosN]           0.0795      0.034      2.330      0.020       0.013       0.146\n",
       "Condition1[T.RRAe]          -0.0527      0.042     -1.256      0.209      -0.135       0.030\n",
       "Condition1[T.RRAn]           0.0444      0.032      1.399      0.162      -0.018       0.107\n",
       "Condition1[T.RRNe]           0.0072      0.081      0.089      0.929      -0.151       0.165\n",
       "Condition1[T.RRNn]           0.0793      0.059      1.342      0.180      -0.037       0.195\n",
       "Condition2[T.Feedr]          0.0970      0.105      0.926      0.354      -0.108       0.302\n",
       "Condition2[T.Norm]           0.0348      0.089      0.390      0.697      -0.140       0.210\n",
       "Condition2[T.PosA]           0.2729      0.168      1.622      0.105      -0.057       0.603\n",
       "Condition2[T.PosN]          -0.6542      0.124     -5.269      0.000      -0.898      -0.411\n",
       "Condition2[T.RRAe]          -0.2373      0.234     -1.015      0.310      -0.696       0.221\n",
       "Condition2[T.RRAn]          -0.0825      0.143     -0.577      0.564      -0.363       0.198\n",
       "Condition2[T.RRNn]           0.0083      0.121      0.068      0.945      -0.229       0.245\n",
       "Electrical[T.FuseF]         -0.0217      0.026     -0.839      0.402      -0.072       0.029\n",
       "Electrical[T.FuseP]         -0.1507      0.079     -1.916      0.056      -0.305       0.004\n",
       "Electrical[T.Mix]           -0.0245      0.176     -0.139      0.889      -0.371       0.322\n",
       "Electrical[T.None]           0.0955      0.111      0.857      0.391      -0.123       0.314\n",
       "Electrical[T.SBrkr]         -0.0206      0.014     -1.474      0.141      -0.048       0.007\n",
       "ExterCond[T.Fa]             -0.1054      0.083     -1.274      0.203      -0.268       0.057\n",
       "ExterCond[T.Gd]             -0.0863      0.079     -1.096      0.273      -0.241       0.068\n",
       "ExterCond[T.Po]             -0.0909      0.148     -0.615      0.539      -0.381       0.199\n",
       "ExterCond[T.TA]             -0.0735      0.079     -0.933      0.351      -0.228       0.081\n",
       "ExterQual[T.Fa]              0.0629      0.050      1.251      0.211      -0.036       0.162\n",
       "ExterQual[T.Gd]              0.0038      0.022      0.174      0.862      -0.039       0.047\n",
       "ExterQual[T.TA]              0.0038      0.024      0.155      0.877      -0.044       0.052\n",
       "Exterior1st[T.AsphShn]      -0.0022      0.153     -0.014      0.988      -0.302       0.297\n",
       "Exterior1st[T.BrkComm]      -0.1387      0.131     -1.061      0.289      -0.395       0.118\n",
       "Exterior1st[T.BrkFace]       0.1071      0.058      1.845      0.065      -0.007       0.221\n",
       "Exterior1st[T.CBlock]       -0.0304      0.062     -0.494      0.622      -0.151       0.091\n",
       "Exterior1st[T.CemntBd]      -0.0210      0.088     -0.240      0.811      -0.193       0.151\n",
       "Exterior1st[T.HdBoard]       0.0151      0.059      0.258      0.797      -0.100       0.130\n",
       "Exterior1st[T.ImStucc]      -0.0373      0.129     -0.288      0.773      -0.291       0.217\n",
       "Exterior1st[T.MetalSd]       0.0771      0.067      1.157      0.247      -0.054       0.208\n",
       "Exterior1st[T.Plywood]       0.0165      0.058      0.284      0.776      -0.098       0.131\n",
       "Exterior1st[T.Stone]        -0.0303      0.109     -0.277      0.782      -0.245       0.184\n",
       "Exterior1st[T.Stucco]        0.0304      0.064      0.477      0.633      -0.095       0.155\n",
       "Exterior1st[T.VinylSd]       0.0179      0.061      0.296      0.768      -0.101       0.137\n",
       "Exterior1st[T.Wd Sdng]      -0.0183      0.056     -0.323      0.747      -0.129       0.093\n",
       "Exterior1st[T.WdShing]       0.0264      0.061      0.434      0.665      -0.093       0.146\n",
       "Exterior2nd[T.AsphShn]       0.0144      0.103      0.141      0.888      -0.187       0.216\n",
       "Exterior2nd[T.Brk Cmn]       0.0130      0.094      0.139      0.889      -0.171       0.197\n",
       "Exterior2nd[T.BrkFace]      -0.0501      0.060     -0.831      0.406      -0.168       0.068\n",
       "Exterior2nd[T.CBlock]       -0.0304      0.062     -0.494      0.622      -0.151       0.091\n",
       "Exterior2nd[T.CmentBd]       0.0551      0.086      0.639      0.523      -0.114       0.224\n",
       "Exterior2nd[T.HdBoard]       0.0033      0.057      0.058      0.954      -0.108       0.114\n",
       "Exterior2nd[T.ImStucc]       0.0268      0.067      0.403      0.687      -0.104       0.157\n",
       "Exterior2nd[T.MetalSd]      -0.0387      0.065     -0.596      0.552      -0.166       0.089\n",
       "Exterior2nd[T.Other]        -0.0909      0.124     -0.735      0.462      -0.333       0.152\n",
       "Exterior2nd[T.Plywood]       0.0014      0.055      0.025      0.980      -0.107       0.110\n",
       "Exterior2nd[T.Stone]        -0.0339      0.078     -0.436      0.663      -0.186       0.118\n",
       "Exterior2nd[T.Stucco]       -0.0116      0.061     -0.188      0.851      -0.132       0.109\n",
       "Exterior2nd[T.VinylSd]       0.0071      0.059      0.121      0.904      -0.108       0.122\n",
       "Exterior2nd[T.Wd Sdng]       0.0326      0.054      0.599      0.549      -0.074       0.139\n",
       "Exterior2nd[T.Wd Shng]      -0.0016      0.057     -0.028      0.977      -0.113       0.110\n",
       "Fence[T.GdWo]               -0.0294      0.023     -1.307      0.191      -0.074       0.015\n",
       "Fence[T.MnPrv]               0.0136      0.018      0.749      0.454      -0.022       0.049\n",
       "Fence[T.MnWw]               -0.0173      0.038     -0.453      0.651      -0.092       0.058\n",
       "Fence[T.None]                0.0069      0.017      0.416      0.678      -0.026       0.040\n",
       "FireplaceQu[T.Fa]           -0.0235      0.031     -0.745      0.456      -0.085       0.038\n",
       "FireplaceQu[T.Gd]            0.0113      0.024      0.464      0.642      -0.036       0.059\n",
       "FireplaceQu[T.None]          0.0142      0.028      0.501      0.617      -0.042       0.070\n",
       "FireplaceQu[T.Po]            0.0428      0.036      1.173      0.241      -0.029       0.114\n",
       "FireplaceQu[T.TA]            0.0030      0.025      0.120      0.904      -0.047       0.053\n",
       "Foundation[T.CBlock]         0.0290      0.014      2.033      0.042       0.001       0.057\n",
       "Foundation[T.PConc]          0.0453      0.016      2.916      0.004       0.015       0.076\n",
       "Foundation[T.Slab]           0.0067      0.046      0.145      0.884      -0.084       0.097\n",
       "Foundation[T.Stone]          0.1762      0.050      3.541      0.000       0.079       0.274\n",
       "Foundation[T.Wood]          -0.0953      0.068     -1.410      0.159      -0.228       0.037\n",
       "Functional[T.Maj2]          -0.2371      0.066     -3.569      0.000      -0.367      -0.107\n",
       "Functional[T.Min1]          -0.0084      0.040     -0.212      0.833      -0.087       0.070\n",
       "Functional[T.Min2]          -0.0113      0.040     -0.284      0.776      -0.089       0.067\n",
       "Functional[T.Mod]           -0.0823      0.048     -1.706      0.088      -0.177       0.012\n",
       "Functional[T.Sev]           -0.2251      0.144     -1.567      0.117      -0.507       0.057\n",
       "Functional[T.Typ]            0.0523      0.034      1.528      0.127      -0.015       0.120\n",
       "GarageFinish[T.None]         0.1463      0.263      0.557      0.577      -0.369       0.661\n",
       "GarageFinish[T.RFn]          0.0012      0.009      0.131      0.895      -0.017       0.019\n",
       "GarageFinish[T.Unf]         -0.0111      0.011     -0.981      0.327      -0.033       0.011\n",
       "GarageType[T.Attchd]         0.0930      0.051      1.807      0.071      -0.008       0.194\n",
       "GarageType[T.Basment]        0.0948      0.060      1.589      0.112      -0.022       0.212\n",
       "GarageType[T.BuiltIn]        0.0920      0.053      1.720      0.086      -0.013       0.197\n",
       "GarageType[T.CarPort]        0.0837      0.069      1.219      0.223      -0.051       0.218\n",
       "GarageType[T.Detchd]         0.1070      0.051      2.082      0.038       0.006       0.208\n",
       "GarageType[T.None]           0.1463      0.263      0.557      0.577      -0.369       0.661\n",
       "Heating[T.GasA]              0.1314      0.113      1.167      0.244      -0.090       0.352\n",
       "Heating[T.GasW]              0.2073      0.117      1.776      0.076      -0.022       0.436\n",
       "Heating[T.Grav]             -0.0289      0.123     -0.234      0.815      -0.271       0.213\n",
       "Heating[T.OthW]              0.0578      0.143      0.405      0.685      -0.222       0.338\n",
       "Heating[T.Wall]              0.1620      0.132      1.224      0.221      -0.098       0.422\n",
       "HeatingQC[T.Fa]             -0.0315      0.022     -1.451      0.147      -0.074       0.011\n",
       "HeatingQC[T.Gd]             -0.0271      0.010     -2.826      0.005      -0.046      -0.008\n",
       "HeatingQC[T.Po]             -0.0699      0.119     -0.586      0.558      -0.304       0.164\n",
       "HeatingQC[T.TA]             -0.0399      0.010     -4.157      0.000      -0.059      -0.021\n",
       "HouseStyle[T.1.5Unf]         0.0593      0.044      1.361      0.174      -0.026       0.145\n",
       "HouseStyle[T.1Story]         0.0024      0.031      0.075      0.940      -0.059       0.064\n",
       "HouseStyle[T.2.5Fin]         0.0027      0.053      0.050      0.960      -0.102       0.107\n",
       "HouseStyle[T.2.5Unf]         0.0051      0.041      0.123      0.902      -0.076       0.086\n",
       "HouseStyle[T.2Story]        -0.0230      0.016     -1.445      0.149      -0.054       0.008\n",
       "HouseStyle[T.SFoyer]         0.0276      0.038      0.730      0.466      -0.047       0.102\n",
       "HouseStyle[T.SLvl]           0.0172      0.032      0.539      0.590      -0.046       0.080\n",
       "KitchenQual[T.Fa]           -0.0711      0.028     -2.494      0.013      -0.127      -0.015\n",
       "KitchenQual[T.Gd]           -0.0792      0.016     -4.974      0.000      -0.110      -0.048\n",
       "KitchenQual[T.TA]           -0.0760      0.018     -4.214      0.000      -0.111      -0.041\n",
       "LandContour[T.HLS]           0.0384      0.024      1.622      0.105      -0.008       0.085\n",
       "LandContour[T.Low]          -0.0146      0.029     -0.501      0.616      -0.072       0.043\n",
       "LandContour[T.Lvl]           0.0249      0.017      1.460      0.145      -0.009       0.058\n",
       "LandSlope[T.Mod]             0.0280      0.018      1.523      0.128      -0.008       0.064\n",
       "LandSlope[T.Sev]            -0.0959      0.045     -2.115      0.035      -0.185      -0.007\n",
       "LotConfig[T.CulDSac]         0.0190      0.015      1.272      0.204      -0.010       0.048\n",
       "LotConfig[T.FR2]            -0.0462      0.018     -2.505      0.012      -0.082      -0.010\n",
       "LotConfig[T.FR3]            -0.1148      0.057     -2.002      0.045      -0.227      -0.002\n",
       "LotConfig[T.Inside]         -0.0126      0.008     -1.566      0.118      -0.028       0.003\n",
       "LotShape[T.IR2]              0.0240      0.019      1.250      0.212      -0.014       0.062\n",
       "LotShape[T.IR3]              0.0441      0.040      1.113      0.266      -0.034       0.122\n",
       "LotShape[T.Reg]              0.0120      0.008      1.577      0.115      -0.003       0.027\n",
       "MSZoning[T.FV]               0.4661      0.055      8.472      0.000       0.358       0.574\n",
       "MSZoning[T.RH]               0.4246      0.054      7.791      0.000       0.318       0.532\n",
       "MSZoning[T.RL]               0.4295      0.047      9.161      0.000       0.338       0.521\n",
       "MSZoning[T.RM]               0.4089      0.044      9.302      0.000       0.323       0.495\n",
       "MasVnrType[T.BrkFace]        0.0510      0.032      1.575      0.115      -0.013       0.115\n",
       "MasVnrType[T.None]           0.0422      0.043      0.978      0.328      -0.042       0.127\n",
       "MasVnrType[T.Stone]          0.0556      0.034      1.621      0.105      -0.012       0.123\n",
       "MiscFeature[T.None]         -0.1400      0.168     -0.831      0.406      -0.470       0.191\n",
       "MiscFeature[T.Othr]         -0.1707      0.160     -1.066      0.287      -0.485       0.144\n",
       "MiscFeature[T.Shed]         -0.0695      0.118     -0.591      0.554      -0.300       0.161\n",
       "MiscFeature[T.TenC]          0.0865      0.245      0.352      0.725      -0.395       0.568\n",
       "MoSold[T.2]                  0.0047      0.022      0.218      0.827      -0.038       0.047\n",
       "MoSold[T.3]                  0.0016      0.019      0.086      0.932      -0.036       0.039\n",
       "MoSold[T.4]                  0.0130      0.018      0.725      0.469      -0.022       0.048\n",
       "MoSold[T.5]                  0.0191      0.017      1.119      0.263      -0.014       0.053\n",
       "MoSold[T.6]                  0.0251      0.017      1.484      0.138      -0.008       0.058\n",
       "MoSold[T.7]                  0.0175      0.017      1.020      0.308      -0.016       0.051\n",
       "MoSold[T.8]                 -0.0021      0.018     -0.113      0.910      -0.038       0.034\n",
       "MoSold[T.9]                 -0.0027      0.021     -0.130      0.897      -0.044       0.038\n",
       "MoSold[T.10]                -0.0078      0.020     -0.391      0.696      -0.047       0.031\n",
       "MoSold[T.11]                 0.0042      0.020      0.209      0.835      -0.035       0.043\n",
       "MoSold[T.12]                 0.0032      0.021      0.150      0.881      -0.038       0.045\n",
       "Neighborhood[T.Blueste]     -0.0135      0.094     -0.144      0.886      -0.198       0.171\n",
       "Neighborhood[T.BrDale]      -0.0257      0.053     -0.482      0.630      -0.130       0.079\n",
       "Neighborhood[T.BrkSide]     -0.0184      0.045     -0.410      0.682      -0.106       0.070\n",
       "Neighborhood[T.ClearCr]     -0.0366      0.044     -0.825      0.409      -0.124       0.050\n",
       "Neighborhood[T.CollgCr]     -0.0527      0.035     -1.494      0.136      -0.122       0.017\n",
       "Neighborhood[T.Crawfor]      0.0642      0.041      1.565      0.118      -0.016       0.145\n",
       "Neighborhood[T.Edwards]     -0.1361      0.038     -3.547      0.000      -0.211      -0.061\n",
       "Neighborhood[T.Gilbert]     -0.0600      0.038     -1.600      0.110      -0.134       0.014\n",
       "Neighborhood[T.IDOTRR]      -0.0848      0.051     -1.672      0.095      -0.184       0.015\n",
       "Neighborhood[T.MeadowV]     -0.0972      0.054     -1.795      0.073      -0.204       0.009\n",
       "Neighborhood[T.Mitchel]     -0.1087      0.040     -2.747      0.006      -0.186      -0.031\n",
       "Neighborhood[T.NAmes]       -0.0775      0.038     -2.046      0.041      -0.152      -0.003\n",
       "Neighborhood[T.NPkVill]      0.0104      0.066      0.157      0.875      -0.119       0.140\n",
       "Neighborhood[T.NWAmes]      -0.0909      0.039     -2.327      0.020      -0.168      -0.014\n",
       "Neighborhood[T.NoRidge]      0.0370      0.040      0.916      0.360      -0.042       0.116\n",
       "Neighborhood[T.NridgHt]      0.0376      0.037      1.031      0.303      -0.034       0.109\n",
       "Neighborhood[T.OldTown]     -0.0929      0.046     -2.019      0.044      -0.183      -0.003\n",
       "Neighborhood[T.SWISU]       -0.0335      0.046     -0.736      0.462      -0.123       0.056\n",
       "Neighborhood[T.Sawyer]      -0.0831      0.039     -2.108      0.035      -0.160      -0.006\n",
       "Neighborhood[T.SawyerW]     -0.0434      0.038     -1.137      0.256      -0.118       0.031\n",
       "Neighborhood[T.Somerst]     -0.0183      0.042     -0.431      0.666      -0.102       0.065\n",
       "Neighborhood[T.StoneBr]      0.0954      0.040      2.414      0.016       0.018       0.173\n",
       "Neighborhood[T.Timber]      -0.0546      0.039     -1.383      0.167      -0.132       0.023\n",
       "Neighborhood[T.Veenker]     -0.0486      0.050     -0.970      0.332      -0.147       0.050\n",
       "PoolQC[T.Fa]                -0.4034      0.193     -2.085      0.037      -0.783      -0.024\n",
       "PoolQC[T.Gd]                -0.1996      0.172     -1.162      0.245      -0.536       0.137\n",
       "PoolQC[T.None]               7.4200      4.183      1.774      0.076      -0.787      15.627\n",
       "RoofMatl[T.CompShg]          1.5246      0.245      6.220      0.000       1.044       2.006\n",
       "RoofMatl[T.Membran]          1.7558      0.286      6.133      0.000       1.194       2.317\n",
       "RoofMatl[T.Metal]            1.6457      0.287      5.741      0.000       1.083       2.208\n",
       "RoofMatl[T.Roll]             1.4890      0.269      5.542      0.000       0.962       2.016\n",
       "RoofMatl[T.Tar&Grv]          1.4338      0.263      5.457      0.000       0.918       1.949\n",
       "RoofMatl[T.WdShake]          1.5426      0.255      6.048      0.000       1.042       2.043\n",
       "RoofMatl[T.WdShngl]          1.7096      0.250      6.833      0.000       1.219       2.201\n",
       "RoofStyle[T.Gable]          -0.0450      0.087     -0.515      0.607      -0.217       0.127\n",
       "RoofStyle[T.Gambrel]        -0.0865      0.095     -0.910      0.363      -0.273       0.100\n",
       "RoofStyle[T.Hip]            -0.0401      0.088     -0.457      0.648      -0.213       0.132\n",
       "RoofStyle[T.Mansard]        -0.0132      0.101     -0.130      0.896      -0.212       0.186\n",
       "RoofStyle[T.Shed]            0.1478      0.166      0.888      0.375      -0.179       0.474\n",
       "SaleCondition[T.AdjLand]     0.1422      0.067      2.119      0.034       0.011       0.274\n",
       "SaleCondition[T.Alloca]      0.0142      0.044      0.323      0.747      -0.072       0.100\n",
       "SaleCondition[T.Family]     -0.0084      0.028     -0.301      0.763      -0.063       0.046\n",
       "SaleCondition[T.Normal]      0.0539      0.013      4.011      0.000       0.028       0.080\n",
       "SaleCondition[T.Partial]    -0.0400      0.067     -0.595      0.552      -0.172       0.092\n",
       "SaleType[T.CWD]              0.0557      0.060      0.926      0.354      -0.062       0.174\n",
       "SaleType[T.Con]              0.0612      0.082      0.748      0.455      -0.099       0.222\n",
       "SaleType[T.ConLD]            0.1002      0.044      2.265      0.024       0.013       0.187\n",
       "SaleType[T.ConLI]           -0.0115      0.054     -0.214      0.831      -0.117       0.094\n",
       "SaleType[T.ConLw]           -0.0118      0.055     -0.213      0.831      -0.121       0.097\n",
       "SaleType[T.New]              0.1184      0.071      1.680      0.093      -0.020       0.257\n",
       "SaleType[T.Oth]              0.0534      0.074      0.724      0.469      -0.091       0.198\n",
       "SaleType[T.WD]              -0.0211      0.020     -1.069      0.286      -0.060       0.018\n",
       "Street[T.Pave]               0.0702      0.057      1.224      0.221      -0.042       0.183\n",
       "Utilities[T.NoSeWa]         -0.1559      0.123     -1.270      0.204      -0.397       0.085\n",
       "YearRemodAdd[T.1951]         0.0304      0.057      0.535      0.593      -0.081       0.142\n",
       "YearRemodAdd[T.1952]         0.0419      0.057      0.739      0.460      -0.069       0.153\n",
       "YearRemodAdd[T.1953]        -0.0285      0.038     -0.752      0.452      -0.103       0.046\n",
       "YearRemodAdd[T.1954]         0.0333      0.032      1.052      0.293      -0.029       0.095\n",
       "YearRemodAdd[T.1955]         0.0515      0.040      1.296      0.195      -0.026       0.129\n",
       "YearRemodAdd[T.1956]         0.0308      0.037      0.845      0.398      -0.041       0.102\n",
       "YearRemodAdd[T.1957]         0.0012      0.039      0.031      0.975      -0.075       0.077\n",
       "YearRemodAdd[T.1958]        -0.0291      0.033     -0.883      0.377      -0.094       0.036\n",
       "YearRemodAdd[T.1959]         0.0121      0.029      0.412      0.681      -0.046       0.070\n",
       "YearRemodAdd[T.1960]        -0.0169      0.035     -0.485      0.627      -0.085       0.051\n",
       "YearRemodAdd[T.1961]         0.0714      0.042      1.688      0.092      -0.012       0.154\n",
       "YearRemodAdd[T.1962]         0.0959      0.033      2.906      0.004       0.031       0.161\n",
       "YearRemodAdd[T.1963]        -0.0193      0.035     -0.557      0.578      -0.087       0.049\n",
       "YearRemodAdd[T.1964]        -0.0009      0.037     -0.023      0.981      -0.074       0.072\n",
       "YearRemodAdd[T.1965]        -0.0322      0.030     -1.085      0.278      -0.091       0.026\n",
       "YearRemodAdd[T.1966]         0.0544      0.034      1.598      0.110      -0.012       0.121\n",
       "YearRemodAdd[T.1967]         0.0552      0.036      1.549      0.122      -0.015       0.125\n",
       "YearRemodAdd[T.1968]         0.0765      0.031      2.503      0.012       0.017       0.136\n",
       "YearRemodAdd[T.1969]         0.0026      0.034      0.074      0.941      -0.065       0.070\n",
       "YearRemodAdd[T.1970]         0.0378      0.027      1.389      0.165      -0.016       0.091\n",
       "YearRemodAdd[T.1971]         0.0429      0.032      1.346      0.179      -0.020       0.105\n",
       "YearRemodAdd[T.1972]         0.0142      0.028      0.502      0.616      -0.041       0.070\n",
       "YearRemodAdd[T.1973]        -0.0154      0.038     -0.405      0.686      -0.090       0.059\n",
       "YearRemodAdd[T.1974]         0.1073      0.044      2.416      0.016       0.020       0.194\n",
       "YearRemodAdd[T.1975]         0.0040      0.040      0.100      0.920      -0.075       0.083\n",
       "YearRemodAdd[T.1976]         0.0411      0.027      1.540      0.124      -0.011       0.093\n",
       "YearRemodAdd[T.1977]         0.0025      0.029      0.087      0.930      -0.054       0.059\n",
       "YearRemodAdd[T.1978]         0.0524      0.033      1.593      0.111      -0.012       0.117\n",
       "YearRemodAdd[T.1979]         0.0468      0.047      0.988      0.323      -0.046       0.140\n",
       "YearRemodAdd[T.1980]         0.0357      0.038      0.940      0.347      -0.039       0.110\n",
       "YearRemodAdd[T.1981]        -0.0107      0.042     -0.255      0.799      -0.093       0.072\n",
       "YearRemodAdd[T.1982]         0.0676      0.045      1.508      0.132      -0.020       0.155\n",
       "YearRemodAdd[T.1983]         0.0374      0.051      0.735      0.463      -0.063       0.137\n",
       "YearRemodAdd[T.1984]         0.0384      0.046      0.841      0.401      -0.051       0.128\n",
       "YearRemodAdd[T.1985]         0.0572      0.040      1.431      0.153      -0.021       0.136\n",
       "YearRemodAdd[T.1986]         0.1083      0.052      2.088      0.037       0.007       0.210\n",
       "YearRemodAdd[T.1987]         0.0721      0.040      1.821      0.069      -0.006       0.150\n",
       "YearRemodAdd[T.1988]         0.0600      0.039      1.523      0.128      -0.017       0.137\n",
       "YearRemodAdd[T.1989]         0.0404      0.037      1.102      0.271      -0.032       0.112\n",
       "YearRemodAdd[T.1990]         0.0239      0.031      0.763      0.445      -0.038       0.086\n",
       "YearRemodAdd[T.1991]         0.0188      0.035      0.542      0.588      -0.049       0.087\n",
       "YearRemodAdd[T.1992]         0.0057      0.031      0.188      0.851      -0.054       0.066\n",
       "YearRemodAdd[T.1993]         0.0308      0.030      1.032      0.302      -0.028       0.089\n",
       "YearRemodAdd[T.1994]         0.0665      0.028      2.398      0.017       0.012       0.121\n",
       "YearRemodAdd[T.1995]         0.0521      0.024      2.203      0.028       0.006       0.099\n",
       "YearRemodAdd[T.1996]         0.0536      0.023      2.357      0.019       0.009       0.098\n",
       "YearRemodAdd[T.1997]         0.0534      0.026      2.078      0.038       0.003       0.104\n",
       "YearRemodAdd[T.1998]         0.0471      0.024      1.981      0.048       0.000       0.094\n",
       "YearRemodAdd[T.1999]         0.0632      0.026      2.443      0.015       0.012       0.114\n",
       "YearRemodAdd[T.2000]         0.0568      0.020      2.834      0.005       0.017       0.096\n",
       "YearRemodAdd[T.2001]         0.0634      0.027      2.311      0.021       0.010       0.117\n",
       "YearRemodAdd[T.2002]         0.0584      0.022      2.675      0.008       0.016       0.101\n",
       "YearRemodAdd[T.2003]         0.0396      0.022      1.833      0.067      -0.003       0.082\n",
       "YearRemodAdd[T.2004]         0.0497      0.021      2.389      0.017       0.009       0.091\n",
       "YearRemodAdd[T.2005]         0.0345      0.021      1.671      0.095      -0.006       0.075\n",
       "YearRemodAdd[T.2006]         0.0382      0.020      1.920      0.055      -0.001       0.077\n",
       "YearRemodAdd[T.2007]         0.0184      0.021      0.864      0.388      -0.023       0.060\n",
       "YearRemodAdd[T.2008]         0.0901      0.026      3.493      0.000       0.039       0.141\n",
       "YearRemodAdd[T.2009]         0.1000      0.031      3.180      0.002       0.038       0.162\n",
       "YearRemodAdd[T.2010]         0.0988      0.049      2.037      0.042       0.004       0.194\n",
       "YrSold[T.2007]              -0.0038      0.009     -0.410      0.682      -0.022       0.014\n",
       "YrSold[T.2008]              -0.0042      0.010     -0.435      0.664      -0.023       0.015\n",
       "YrSold[T.2009]              -0.0225      0.009     -2.378      0.018      -0.041      -0.004\n",
       "YrSold[T.2010]              -0.0159      0.012     -1.352      0.177      -0.039       0.007\n",
       "BedroomAbvGr                -0.0065      0.006     -1.022      0.307      -0.019       0.006\n",
       "BsmtFinSF1                   0.0234      0.005      5.184      0.000       0.015       0.032\n",
       "BsmtFinSF2                  -0.0096      0.023     -0.420      0.675      -0.054       0.035\n",
       "BsmtFullBath                 0.0349      0.008      4.129      0.000       0.018       0.051\n",
       "BsmtHalfBath                 0.0145      0.014      1.053      0.293      -0.013       0.042\n",
       "BsmtUnfSF                   -0.0104      0.005     -1.997      0.046      -0.021      -0.000\n",
       "EnclosedPorch                0.0066      0.004      1.794      0.073      -0.001       0.014\n",
       "Fireplaces                   0.0273      0.012      2.330      0.020       0.004       0.050\n",
       "FirstFlrSF                  -0.0096      0.015     -0.636      0.525      -0.039       0.020\n",
       "FullBath                     0.0177      0.009      1.891      0.059      -0.001       0.036\n",
       "GarageArea                   0.0162      0.008      2.064      0.039       0.001       0.032\n",
       "GarageCars                   0.0264      0.010      2.537      0.011       0.006       0.047\n",
       "GarageYrBlt                  0.0001      0.000      0.408      0.683      -0.000       0.001\n",
       "GrLivArea                    0.1455      0.017      8.377      0.000       0.111       0.180\n",
       "KitchenAbvGr                -0.0498      0.026     -1.895      0.058      -0.101       0.002\n",
       "LotArea                      0.0493      0.006      7.834      0.000       0.037       0.062\n",
       "LotFrontage                 -0.0009      0.004     -0.245      0.806      -0.008       0.006\n",
       "LowQualFinSF                -0.0064      0.004     -1.579      0.115      -0.014       0.002\n",
       "MSSubClass                  -0.0004      0.000     -0.891      0.373      -0.001       0.000\n",
       "MasVnrArea                  -0.0006      0.014     -0.044      0.965      -0.029       0.028\n",
       "MiscVal                     -0.0146      0.017     -0.868      0.386      -0.048       0.018\n",
       "OpenPorchSF                  0.0010      0.004      0.259      0.796      -0.006       0.008\n",
       "OverallCond                  0.0419      0.004     10.504      0.000       0.034       0.050\n",
       "OverallQual                  0.0395      0.005      8.373      0.000       0.030       0.049\n",
       "PoolArea                     0.5002      0.273      1.831      0.067      -0.036       1.036\n",
       "ScreenPorch                  0.0145      0.003      4.462      0.000       0.008       0.021\n",
       "SecondFlrSF                 -0.0023      0.020     -0.114      0.909      -0.041       0.036\n",
       "ThreeSsnPorch                0.0018      0.003      0.652      0.515      -0.004       0.007\n",
       "TotRmsAbvGrd                 0.0053      0.004      1.224      0.221      -0.003       0.014\n",
       "TotalBsmtSF                  0.1040      0.023      4.460      0.000       0.058       0.150\n",
       "WoodDeckSF                   0.0114      0.003      3.262      0.001       0.005       0.018\n",
       "YearBuilt                    0.0020      0.000      5.805      0.000       0.001       0.003\n",
       "==============================================================================\n",
       "Omnibus:                      313.388   Durbin-Watson:                   1.934\n",
       "Prob(Omnibus):                  0.000   Jarque-Bera (JB):             2601.428\n",
       "Skew:                          -0.758   Prob(JB):                         0.00\n",
       "Kurtosis:                       9.361   Cond. No.                     2.51e+18\n",
       "==============================================================================\n",
       "\n",
       "Warnings:\n",
       "[1] Standard Errors assume that the covariance matrix of the errors is correctly specified.\n",
       "[2] The smallest eigenvalue is 1.74e-27. This might indicate that there are\n",
       "strong multicollinearity problems or that the design matrix is singular.\n",
       "\"\"\""
      ]
     },
     "execution_count": 422,
     "metadata": {},
     "output_type": "execute_result"
    }
   ],
   "source": [
    "# For the purposes of a multiple regression, let's use statsmodel rather than scikit learn, as it gives us\n",
    "# more information, such as p-values, and hence, which regressors are important.\n",
    "import statsmodels.formula.api as smf\n",
    "\n",
    "# create a fitted model with the features that are floats: \n",
    "#lm = smf.ols(formula='SalePrice ~ LotFrontage + LotArea + MasVnrArea + BsmtFinSF1 + BsmtFinSF2 + BsmtUnfSF + TotalBsmtSF + FirstFlrSF + SecondFlrSF + LowQualFinSF + GrLivArea + GarageArea + WoodDeckSF + OpenPorchSF + EnclosedPorch + ThreeSsnPorch + ScreenPorch + PoolArea + MiscVal + OverallQual + OverallCond + BsmtFullBath + BsmtHalfBath + FullBath + BedroomAbvGr + KitchenAbvGr + TotRmsAbvGrd + Fireplaces', data=train).fit()\n",
    "formula = 'SalePrice ~ ' + ' + '.join(feature_names)\n",
    "lm = smf.ols(formula=formula, data=train).fit()\n",
    "\n",
    "# print the coefficients\n",
    "lm.summary()"
   ]
  },
  {
   "cell_type": "code",
   "execution_count": 424,
   "metadata": {},
   "outputs": [
    {
     "data": {
      "text/plain": [
       "RoofMatl[T.CompShg]    6.967884e-10\n",
       "RoofMatl[T.WdShngl]    1.341959e-11\n",
       "MSZoning[T.RH]         1.480249e-14\n",
       "LotArea                1.069747e-14\n",
       "OverallQual            1.619649e-16\n",
       "GrLivArea              1.562610e-16\n",
       "MSZoning[T.FV]         7.284718e-17\n",
       "MSZoning[T.RL]         2.286502e-19\n",
       "MSZoning[T.RM]         6.723468e-20\n",
       "OverallCond            1.042408e-24\n",
       "dtype: float64"
      ]
     },
     "execution_count": 424,
     "metadata": {},
     "output_type": "execute_result"
    }
   ],
   "source": [
    "# Best features\n",
    "lm.pvalues.sort_values(ascending = False, inplace=False).tail(10)"
   ]
  },
  {
   "cell_type": "code",
   "execution_count": 423,
   "metadata": {},
   "outputs": [
    {
     "data": {
      "text/plain": [
       "Exterior1st[T.AsphShn]    0.988487\n",
       "YearRemodAdd[T.1964]      0.981331\n",
       "Exterior2nd[T.Plywood]    0.980372\n",
       "Exterior2nd[T.Wd Shng]    0.977325\n",
       "YearRemodAdd[T.1957]      0.974978\n",
       "MasVnrArea                0.965292\n",
       "HouseStyle[T.2.5Fin]      0.960406\n",
       "Exterior2nd[T.HdBoard]    0.953849\n",
       "Condition2[T.RRNn]        0.945483\n",
       "YearRemodAdd[T.1969]      0.940640\n",
       "dtype: float64"
      ]
     },
     "execution_count": 423,
     "metadata": {},
     "output_type": "execute_result"
    }
   ],
   "source": [
    "# Worst features\n",
    "lm.pvalues.sort_values(ascending = False, inplace=False).head(10)"
   ]
  },
  {
   "cell_type": "markdown",
   "metadata": {},
   "source": [
    "It looks like the most important predictors relate to the type of roofing material (perhaps correlated with certain neighbourhoods, or architecture styles, that are in turn correlated with demographic factors), and features related to the size of the house (LotArea, GrLivArea, OverallQual).  This intuitively makes sense.  \n",
    "\n",
    "On the other hand, features that are fairly useless relate to remodelling of the house, and exterior surface features.\n",
    "\n",
    "Since there are so many features, it would make sense to either remove these via principal component analysis, or perform a regularisation to penalise the extra features.  This avoids over-fitting.  In particular, lasso regularisation performs some feature selection for us."
   ]
  },
  {
   "cell_type": "markdown",
   "metadata": {},
   "source": [
    "## Collinearity\n",
    "Let's also check to see which predictors are correlated; there are many features that essentially encode the same information in different way."
   ]
  },
  {
   "cell_type": "code",
   "execution_count": 382,
   "metadata": {
    "scrolled": false
   },
   "outputs": [
    {
     "data": {
      "text/plain": [
       "<matplotlib.axes._subplots.AxesSubplot at 0x13e740a20>"
      ]
     },
     "execution_count": 382,
     "metadata": {},
     "output_type": "execute_result"
    },
    {
     "data": {
      "image/png": "[encoded data removed]",
      "text/plain": [
       "<matplotlib.figure.Figure at 0x12be5a048>"
      ]
     },
     "metadata": {},
     "output_type": "display_data"
    }
   ],
   "source": [
    "# Compute the correlation matrix\n",
    "corr = data_full.corr()\n",
    "\n",
    "# Generate a mask for the upper triangle\n",
    "mask = np.zeros_like(corr, dtype=np.bool)\n",
    "mask[np.triu_indices_from(mask)] = True\n",
    "\n",
    "# Set up the matplotlib figure\n",
    "f, ax = plt.subplots(figsize=(11, 9))\n",
    "\n",
    "# Generate a custom diverging colormap\n",
    "cmap = sns.diverging_palette(220, 10, as_cmap=True)\n",
    "\n",
    "# Draw the heatmap with the mask and correct aspect ratio\n",
    "sns.heatmap(corr, mask=mask, cmap=cmap, vmax=.3,\n",
    "            square=True, xticklabels=5, yticklabels=5,\n",
    "            linewidths=.5, cbar_kws={\"shrink\": .5}, ax=ax)\n",
    "\n",
    "# Simpler version (but too small to be useful)\n",
    "# plt.matshow(data_full.corr())"
   ]
  },
  {
   "cell_type": "markdown",
   "metadata": {},
   "source": [
    "Several predictors seem to be correlated, but the maximum correlation appears to be 0.4, so it's not worth removing these."
   ]
  },
  {
   "cell_type": "markdown",
   "metadata": {},
   "source": [
    "## Splitting the testing and training sets again; define dummy variables for categories"
   ]
  },
  {
   "cell_type": "code",
   "execution_count": 428,
   "metadata": {
    "scrolled": true
   },
   "outputs": [
    {
     "name": "stdout",
     "output_type": "stream",
     "text": [
      "Number of features in original dataset, including categorical fields:  81 \n",
      "Number of features, including dummy variables for categorical fields:  385\n"
     ]
    }
   ],
   "source": [
    "# Features - remove the thing we're trying to predict!\n",
    "features = data_full.drop('SalePrice', axis = 1)\n",
    "\n",
    "# Create dummy variables - for each categorical data, make several boolean flags\n",
    "features = pd.get_dummies(features)\n",
    "\n",
    "# Make matrices to pass to scikit learn:\n",
    "X_train = features[:train.shape[0]]\n",
    "X_test = features[train.shape[0]:]\n",
    "y = train['SalePrice']\n",
    "\n",
    "# Verify that the number of features has been increased due to the dummy variables:\n",
    "print('Number of features in original dataset, including categorical fields: ', train.shape[1], \n",
    "      '\\nNumber of features, including dummy variables for categorical fields: ', X_train.shape[1])"
   ]
  },
  {
   "cell_type": "markdown",
   "metadata": {},
   "source": [
    "## Ridge regularisation (L2 regularisation)"
   ]
  },
  {
   "cell_type": "code",
   "execution_count": 384,
   "metadata": {
    "collapsed": true
   },
   "outputs": [],
   "source": [
    "from sklearn.linear_model import Ridge, RidgeCV, ElasticNet, Lasso, LassoCV\n",
    "from sklearn.model_selection import cross_val_score\n",
    "#from sklearn.metrics import mean_squared_error"
   ]
  },
  {
   "cell_type": "code",
   "execution_count": 385,
   "metadata": {},
   "outputs": [],
   "source": [
    "# Define root-mean-square-error function - use 10-fold cross-validation\n",
    "# You have to use neg_mean_squared_error because mean_squared_error will be deprecated in future\n",
    "def rmse_cv(model):\n",
    "    rmse = np.sqrt(-cross_val_score(model, X_train, y, scoring=\"neg_mean_squared_error\", cv = 5))\n",
    "    return rmse\n",
    "\n",
    "# Invoke Ridge regularisation\n",
    "model_ridge = Ridge()"
   ]
  },
  {
   "cell_type": "code",
   "execution_count": 386,
   "metadata": {
    "scrolled": true
   },
   "outputs": [],
   "source": [
    "# Tune parameters - the only parameter is alpha - the larger alpha, the larger the penalty for extra predictors\n",
    "alphas = [0.1, 0.3, 1, 3, 5, 10, 15, 30, 50, 75]\n",
    "# Work out the RMSE for each value of the alphas above: \n",
    "cv_ridge = [rmse_cv(Ridge(alpha = alpha)).mean() for alpha in alphas]\n",
    "cv_ridge = pd.Series(cv_ridge, index = alphas)"
   ]
  },
  {
   "cell_type": "code",
   "execution_count": 387,
   "metadata": {
    "scrolled": false
   },
   "outputs": [
    {
     "data": {
      "text/plain": [
       "<matplotlib.text.Text at 0x11569ef98>"
      ]
     },
     "execution_count": 387,
     "metadata": {},
     "output_type": "execute_result"
    },
    {
     "data": {
      "image/png": "[encoded data removed]",
      "text/plain": [
       "<matplotlib.figure.Figure at 0x13ed345c0>"
      ]
     },
     "metadata": {},
     "output_type": "display_data"
    }
   ],
   "source": [
    "# Let's plot the RMSE as a function of alpha\n",
    "matplotlib.rcParams['figure.figsize'] = (7,3)\n",
    "cv_ridge.plot(title = 'RMSE as a function of alpha (Ridge regularisation)')\n",
    "plt.xlabel('alpha')\n",
    "plt.ylabel('RMSE')"
   ]
  },
  {
   "cell_type": "markdown",
   "metadata": {},
   "source": [
    "We want to chose the value of $\\alpha$ that minimises the chart above. The extreme cases are $\\alpha = 0$, which corresponds to no penalty for each extra predictor, and $\\alpha\\to\\inf$ which corresponds to a null model.  We want a balance between flexibility and over-fitting, which represents the minimium of this chart."
   ]
  },
  {
   "cell_type": "code",
   "execution_count": 429,
   "metadata": {},
   "outputs": [
    {
     "data": {
      "text/plain": [
       "0.12700475231309477"
      ]
     },
     "execution_count": 429,
     "metadata": {},
     "output_type": "execute_result"
    }
   ],
   "source": [
    "cv_ridge.min()"
   ]
  },
  {
   "cell_type": "code",
   "execution_count": 450,
   "metadata": {},
   "outputs": [
    {
     "data": {
      "text/plain": [
       "Ridge(alpha=30, copy_X=True, fit_intercept=True, max_iter=None,\n",
       "   normalize=False, random_state=None, solver='auto', tol=0.001)"
      ]
     },
     "execution_count": 450,
     "metadata": {},
     "output_type": "execute_result"
    }
   ],
   "source": [
    "# This looks like it correpsonds to alpha = 30, so let's fit the model with that.\n",
    "model_ridge = Ridge(alpha = 30)\n",
    "model_ridge.fit(X_train, y)"
   ]
  },
  {
   "cell_type": "code",
   "execution_count": 490,
   "metadata": {
    "scrolled": true
   },
   "outputs": [
    {
     "data": {
      "text/plain": [
       "<matplotlib.text.Text at 0x131fb7da0>"
      ]
     },
     "execution_count": 490,
     "metadata": {},
     "output_type": "execute_result"
    },
    {
     "data": {
      "image/png": "[encoded data removed]",
      "text/plain": [
       "<matplotlib.figure.Figure at 0x129bcc470>"
      ]
     },
     "metadata": {},
     "output_type": "display_data"
    }
   ],
   "source": [
    "# What are the important coefficients here?\n",
    "coef_ridge = pd.Series(model_ridge.coef_, index = X_train.columns)\n",
    "important_coef_ridge = pd.concat([coef_ridge.sort_values().head(10), coef.sort_values().tail(10)])\n",
    "matplotlib.rcParams['figure.figsize'] = (8.0, 10.0)\n",
    "important_coef_ridge.plot(kind = \"barh\")\n",
    "plt.title('Important coefficients in the Lasso Model')"
   ]
  },
  {
   "cell_type": "code",
   "execution_count": 492,
   "metadata": {},
   "outputs": [
    {
     "name": "stdout",
     "output_type": "stream",
     "text": [
      "Ridge picked 377 features and eliminated the other 8 features\n"
     ]
    }
   ],
   "source": [
    "# How many features were eliminated? \n",
    "print(\"Ridge picked \" + str(sum(coef_ridge != 0)) + \" features and eliminated the other \" + str(sum(coef_ridge == 0)) + \" features\")"
   ]
  },
  {
   "cell_type": "code",
   "execution_count": 451,
   "metadata": {
    "scrolled": false
   },
   "outputs": [],
   "source": [
    "#let's look at the residuals as well:\n",
    "def plot_residuals(model, X_train, y):\n",
    "    matplotlib.rcParams['figure.figsize'] = (6.0, 6.0)\n",
    "    preds = pd.DataFrame({\"preds\":model.predict(X_train), \"true\":y})\n",
    "    preds[\"residuals\"] = preds[\"true\"] - preds[\"preds\"]\n",
    "    preds.plot(x = \"preds\", y = \"residuals\",kind = \"scatter\")"
   ]
  },
  {
   "cell_type": "code",
   "execution_count": 453,
   "metadata": {
    "scrolled": true
   },
   "outputs": [
    {
     "data": {
      "image/png": "[encoded data removed]",
      "text/plain": [
       "<matplotlib.figure.Figure at 0x11bab96a0>"
      ]
     },
     "metadata": {},
     "output_type": "display_data"
    }
   ],
   "source": [
    "plot_residuals(model_ridge, X_train, y)"
   ]
  },
  {
   "cell_type": "markdown",
   "metadata": {},
   "source": [
    "These look pretty good - nicely clustered around 0."
   ]
  },
  {
   "cell_type": "markdown",
   "metadata": {},
   "source": [
    "## Lasso regularisation (L1 regularisation)\n",
    "The advantage of Lasso regularisation is that it performs some feature selection.  We'll use Lasso cross-validation to choose the $\\alpha$ for us."
   ]
  },
  {
   "cell_type": "code",
   "execution_count": 487,
   "metadata": {},
   "outputs": [],
   "source": [
    "model_lasso = LassoCV(alphas = [0.0001, 0.0003, 0.0006, 0.001, 0.003, 0.006, 0.01, 0.03, 0.06, 0.1, 0.3, 0.6, 1],\n",
    "                     max_iter = 50000, cv = 10).fit(X_train, y)\n",
    "# Coefficients of each predictor:\n",
    "coef_lasso = pd.Series(model_lasso.coef_, index = X_train.columns)"
   ]
  },
  {
   "cell_type": "code",
   "execution_count": 488,
   "metadata": {},
   "outputs": [
    {
     "data": {
      "text/plain": [
       "<matplotlib.text.Text at 0x1337730b8>"
      ]
     },
     "execution_count": 488,
     "metadata": {},
     "output_type": "execute_result"
    },
    {
     "data": {
      "image/png": "[encoded data removed]",
      "text/plain": [
       "<matplotlib.figure.Figure at 0x13f0f5e10>"
      ]
     },
     "metadata": {},
     "output_type": "display_data"
    }
   ],
   "source": [
    "# What are the important coefficients here?\n",
    "important_coef_lasso = pd.concat([coef_lasso.sort_values().head(10), coef_lasso.sort_values().tail(10)])\n",
    "matplotlib.rcParams['figure.figsize'] = (8.0, 10.0)\n",
    "important_coef_lasso.plot(kind = \"barh\")\n",
    "plt.title('Important coefficients in the Lasso Model')"
   ]
  },
  {
   "cell_type": "markdown",
   "metadata": {},
   "source": [
    "A lot of these are on the list of features picked out by the normal multiple regression without regularisation. Not the hugely negative coefficient for Clay Tile - there is only one house with this feature, so this is not actually a particuarly important feature."
   ]
  },
  {
   "cell_type": "code",
   "execution_count": 461,
   "metadata": {},
   "outputs": [
    {
     "data": {
      "text/plain": [
       "CompShg    2876\n",
       "Tar&Grv      23\n",
       "WdShake       9\n",
       "WdShngl       7\n",
       "Roll          1\n",
       "Membran       1\n",
       "ClyTile       1\n",
       "Metal         1\n",
       "Name: RoofMatl, dtype: int64"
      ]
     },
     "execution_count": 461,
     "metadata": {},
     "output_type": "execute_result"
    }
   ],
   "source": [
    "data_full['RoofMatl'].value_counts()"
   ]
  },
  {
   "cell_type": "code",
   "execution_count": 462,
   "metadata": {},
   "outputs": [
    {
     "data": {
      "text/plain": [
       "train  1298    11.982935\n",
       "Name: SalePrice, dtype: float64"
      ]
     },
     "execution_count": 462,
     "metadata": {},
     "output_type": "execute_result"
    }
   ],
   "source": [
    "data_full[data_full['RoofMatl'] == 'ClyTile']['SalePrice']"
   ]
  },
  {
   "cell_type": "code",
   "execution_count": 515,
   "metadata": {},
   "outputs": [
    {
     "name": "stdout",
     "output_type": "stream",
     "text": [
      "Lasso picked 106 features and eliminated the other 279 features\n"
     ]
    }
   ],
   "source": [
    "# How many features were eliminated? \n",
    "print(\"Lasso picked \" + str(sum(coef != 0)) + \" features and eliminated the other \" + str(sum(coef == 0)) + \" features\")"
   ]
  },
  {
   "cell_type": "code",
   "execution_count": 457,
   "metadata": {},
   "outputs": [
    {
     "data": {
      "image/png": "[encoded data removed]",
      "text/plain": [
       "<matplotlib.figure.Figure at 0x13e4647b8>"
      ]
     },
     "metadata": {},
     "output_type": "display_data"
    }
   ],
   "source": [
    "# Let's have a look at the residuals of this too.    \n",
    "plot_residuals(model_lasso, X_train, y)"
   ]
  },
  {
   "cell_type": "markdown",
   "metadata": {},
   "source": [
    "## Elastic net regularisation\n"
   ]
  },
  {
   "cell_type": "code",
   "execution_count": 494,
   "metadata": {
    "collapsed": true
   },
   "outputs": [],
   "source": [
    "from sklearn.linear_model import ElasticNetCV"
   ]
  },
  {
   "cell_type": "code",
   "execution_count": 511,
   "metadata": {},
   "outputs": [
    {
     "name": "stdout",
     "output_type": "stream",
     "text": [
      "Best l1_ratio : 0.7\n",
      "Best alpha : 0.0006\n"
     ]
    }
   ],
   "source": [
    "model_elastic = ElasticNetCV(l1_ratio = [0.1, 0.3, 0.5, 0.6, 0.7, 0.8, 0.85, 0.9, 0.95, 1],\n",
    "                          alphas = [0.0001, 0.0003, 0.0006, 0.001, 0.003, 0.006, \n",
    "                                    0.01, 0.03, 0.06, 0.1, 0.3, 0.6, 1, 3, 6], \n",
    "                          max_iter = 50000, cv = 10)\n",
    "model_elastic.fit(X_train, y)\n",
    "alpha = model_elastic.alpha_\n",
    "ratio = model_elastic.l1_ratio_\n",
    "print(\"Best l1_ratio :\", ratio)\n",
    "print(\"Best alpha :\", alpha )"
   ]
  },
  {
   "cell_type": "code",
   "execution_count": 517,
   "metadata": {},
   "outputs": [
    {
     "name": "stdout",
     "output_type": "stream",
     "text": [
      "Elastic picked 133 features and eliminated the other 252 features\n"
     ]
    }
   ],
   "source": [
    "# How many features were eliminated? \n",
    "print(\"Elastic picked \" + str(sum(coef_elastic != 0)) + \" features and eliminated the other \" + str(sum(coef_elastic == 0)) + \" features\")"
   ]
  },
  {
   "cell_type": "code",
   "execution_count": 513,
   "metadata": {},
   "outputs": [],
   "source": [
    "coef_elastic = pd.Series(model_elastic.coef_, index = X_train.columns)"
   ]
  },
  {
   "cell_type": "code",
   "execution_count": 514,
   "metadata": {},
   "outputs": [
    {
     "data": {
      "image/png": "[encoded data removed]",
      "text/plain": [
       "<matplotlib.figure.Figure at 0x138af6fd0>"
      ]
     },
     "metadata": {},
     "output_type": "display_data"
    }
   ],
   "source": [
    "plot_residuals(model_elastic, X_train, y)"
   ]
  },
  {
   "cell_type": "markdown",
   "metadata": {},
   "source": [
    "These look almost identical to the residuals for the Lasso, and the number of features is larger, so it's probalby more prone to over-fitting.  I'm sticking with the Lasso regularisation."
   ]
  },
  {
   "cell_type": "markdown",
   "metadata": {},
   "source": [
    "# Make predictions"
   ]
  },
  {
   "cell_type": "code",
   "execution_count": 533,
   "metadata": {},
   "outputs": [],
   "source": [
    "ridge_preds = np.expm1(model_ridge.predict(X_train))\n",
    "lasso_preds = np.expm1(model_lasso.predict(X_train))\n",
    "elastic_preds = np.expm1(model_elastic.predict(X_train))"
   ]
  },
  {
   "cell_type": "code",
   "execution_count": 535,
   "metadata": {},
   "outputs": [
    {
     "data": {
      "text/plain": [
       "1459"
      ]
     },
     "execution_count": 535,
     "metadata": {},
     "output_type": "execute_result"
    }
   ],
   "source": []
  },
  {
   "cell_type": "code",
   "execution_count": 532,
   "metadata": {},
   "outputs": [
    {
     "ename": "ValueError",
     "evalue": "array length 1460 does not match index length 1459",
     "output_type": "error",
     "traceback": [
      "\u001b[0;31m---------------------------------------------------------------------------\u001b[0m",
      "\u001b[0;31mValueError\u001b[0m                                Traceback (most recent call last)",
      "\u001b[0;32m<ipython-input-532-37e18291b11c>\u001b[0m in \u001b[0;36m<module>\u001b[0;34m()\u001b[0m\n\u001b[1;32m      3\u001b[0m     \u001b[0;34m'SalePrice'\u001b[0m\u001b[0;34m:\u001b[0m \u001b[0mlasso_preds\u001b[0m\u001b[0;34m\u001b[0m\u001b[0m\n\u001b[1;32m      4\u001b[0m },\n\u001b[0;32m----> 5\u001b[0;31m columns = ['id', 'SalePrice'])\n\u001b[0m",
      "\u001b[0;32m/Users/chris/anaconda/lib/python3.5/site-packages/pandas/core/frame.py\u001b[0m in \u001b[0;36m__init__\u001b[0;34m(self, data, index, columns, dtype, copy)\u001b[0m\n\u001b[1;32m    264\u001b[0m                                  dtype=dtype, copy=copy)\n\u001b[1;32m    265\u001b[0m         \u001b[0;32melif\u001b[0m \u001b[0misinstance\u001b[0m\u001b[0;34m(\u001b[0m\u001b[0mdata\u001b[0m\u001b[0;34m,\u001b[0m \u001b[0mdict\u001b[0m\u001b[0;34m)\u001b[0m\u001b[0;34m:\u001b[0m\u001b[0;34m\u001b[0m\u001b[0m\n\u001b[0;32m--> 266\u001b[0;31m             \u001b[0mmgr\u001b[0m \u001b[0;34m=\u001b[0m \u001b[0mself\u001b[0m\u001b[0;34m.\u001b[0m\u001b[0m_init_dict\u001b[0m\u001b[0;34m(\u001b[0m\u001b[0mdata\u001b[0m\u001b[0;34m,\u001b[0m \u001b[0mindex\u001b[0m\u001b[0;34m,\u001b[0m \u001b[0mcolumns\u001b[0m\u001b[0;34m,\u001b[0m \u001b[0mdtype\u001b[0m\u001b[0;34m=\u001b[0m\u001b[0mdtype\u001b[0m\u001b[0;34m)\u001b[0m\u001b[0;34m\u001b[0m\u001b[0m\n\u001b[0m\u001b[1;32m    267\u001b[0m         \u001b[0;32melif\u001b[0m \u001b[0misinstance\u001b[0m\u001b[0;34m(\u001b[0m\u001b[0mdata\u001b[0m\u001b[0;34m,\u001b[0m \u001b[0mma\u001b[0m\u001b[0;34m.\u001b[0m\u001b[0mMaskedArray\u001b[0m\u001b[0;34m)\u001b[0m\u001b[0;34m:\u001b[0m\u001b[0;34m\u001b[0m\u001b[0m\n\u001b[1;32m    268\u001b[0m             \u001b[0;32mimport\u001b[0m \u001b[0mnumpy\u001b[0m\u001b[0;34m.\u001b[0m\u001b[0mma\u001b[0m\u001b[0;34m.\u001b[0m\u001b[0mmrecords\u001b[0m \u001b[0;32mas\u001b[0m \u001b[0mmrecords\u001b[0m\u001b[0;34m\u001b[0m\u001b[0m\n",
      "\u001b[0;32m/Users/chris/anaconda/lib/python3.5/site-packages/pandas/core/frame.py\u001b[0m in \u001b[0;36m_init_dict\u001b[0;34m(self, data, index, columns, dtype)\u001b[0m\n\u001b[1;32m    358\u001b[0m             \u001b[0;31m# raise ValueError if only scalars in dict\u001b[0m\u001b[0;34m\u001b[0m\u001b[0;34m\u001b[0m\u001b[0m\n\u001b[1;32m    359\u001b[0m             \u001b[0;32mif\u001b[0m \u001b[0mindex\u001b[0m \u001b[0;32mis\u001b[0m \u001b[0;32mNone\u001b[0m\u001b[0;34m:\u001b[0m\u001b[0;34m\u001b[0m\u001b[0m\n\u001b[0;32m--> 360\u001b[0;31m                 \u001b[0mextract_index\u001b[0m\u001b[0;34m(\u001b[0m\u001b[0mlist\u001b[0m\u001b[0;34m(\u001b[0m\u001b[0mdata\u001b[0m\u001b[0;34m.\u001b[0m\u001b[0mvalues\u001b[0m\u001b[0;34m(\u001b[0m\u001b[0;34m)\u001b[0m\u001b[0;34m)\u001b[0m\u001b[0;34m)\u001b[0m\u001b[0;34m\u001b[0m\u001b[0m\n\u001b[0m\u001b[1;32m    361\u001b[0m \u001b[0;34m\u001b[0m\u001b[0m\n\u001b[1;32m    362\u001b[0m             \u001b[0;31m# prefilter if columns passed\u001b[0m\u001b[0;34m\u001b[0m\u001b[0;34m\u001b[0m\u001b[0m\n",
      "\u001b[0;32m/Users/chris/anaconda/lib/python3.5/site-packages/pandas/core/frame.py\u001b[0m in \u001b[0;36mextract_index\u001b[0;34m(data)\u001b[0m\n\u001b[1;32m   5454\u001b[0m                     msg = ('array length %d does not match index length %d' %\n\u001b[1;32m   5455\u001b[0m                            (lengths[0], len(index)))\n\u001b[0;32m-> 5456\u001b[0;31m                     \u001b[0;32mraise\u001b[0m \u001b[0mValueError\u001b[0m\u001b[0;34m(\u001b[0m\u001b[0mmsg\u001b[0m\u001b[0;34m)\u001b[0m\u001b[0;34m\u001b[0m\u001b[0m\n\u001b[0m\u001b[1;32m   5457\u001b[0m             \u001b[0;32melse\u001b[0m\u001b[0;34m:\u001b[0m\u001b[0;34m\u001b[0m\u001b[0m\n\u001b[1;32m   5458\u001b[0m                 \u001b[0mindex\u001b[0m \u001b[0;34m=\u001b[0m \u001b[0m_default_index\u001b[0m\u001b[0;34m(\u001b[0m\u001b[0mlengths\u001b[0m\u001b[0;34m[\u001b[0m\u001b[0;36m0\u001b[0m\u001b[0;34m]\u001b[0m\u001b[0;34m)\u001b[0m\u001b[0;34m\u001b[0m\u001b[0m\n",
      "\u001b[0;31mValueError\u001b[0m: array length 1460 does not match index length 1459"
     ]
    }
   ],
   "source": [
    "kaggle_export = pd.DataFrame({\n",
    "    'id': test['Id'],\n",
    "    'SalePrice': lasso_preds\n",
    "},\n",
    "columns = ['id', 'SalePrice'])"
   ]
  },
  {
   "cell_type": "code",
   "execution_count": 528,
   "metadata": {
    "collapsed": true
   },
   "outputs": [],
   "source": [
    "def make_export_table(preds):\n",
    "    kaggle_export = pd.DataFrame({\n",
    "        'id': test['Id'],\n",
    "        'SalePrice': preds\n",
    "    },\n",
    "    columns = ['id', 'SalePrice'])\n",
    "    return kaggle_export"
   ]
  },
  {
   "cell_type": "code",
   "execution_count": 530,
   "metadata": {},
   "outputs": [
    {
     "data": {
      "text/plain": [
       "1460"
      ]
     },
     "execution_count": 530,
     "metadata": {},
     "output_type": "execute_result"
    }
   ],
   "source": [
    "#make_export_table(elastic_preds)\n",
    "len(elastic_preds)"
   ]
  },
  {
   "cell_type": "code",
   "execution_count": null,
   "metadata": {
    "collapsed": true
   },
   "outputs": [],
   "source": []
  },
  {
   "cell_type": "code",
   "execution_count": 396,
   "metadata": {
    "collapsed": true
   },
   "outputs": [],
   "source": [
    "# Export with timestamp in filename so we can save results from different runs\n"
   ]
  },
  {
   "cell_type": "code",
   "execution_count": 520,
   "metadata": {},
   "outputs": [],
   "source": [
    "for model in ['ridge', 'lasso', 'elastic']:\n",
    "    filebasename = 'kaggle_export'\n",
    "    timestamp = datetime.today().strftime('%Y%m%d-%H%M%S')\n",
    "    filename = filebasename + timestamp + model\n",
    "    kaggle_export.to_csv(filename, index = False)"
   ]
  }
 ],
 "metadata": {
  "kernelspec": {
   "display_name": "Python [conda root]",
   "language": "python",
   "name": "conda-root-py"
  },
  "language_info": {
   "codemirror_mode": {
    "name": "ipython",
    "version": 3
   },
   "file_extension": ".py",
   "mimetype": "text/x-python",
   "name": "python",
   "nbconvert_exporter": "python",
   "pygments_lexer": "ipython3",
   "version": "3.5.2"
  }
 },
 "nbformat": 4,
 "nbformat_minor": 2
}
