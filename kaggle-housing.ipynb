{
 "cells": [
  {
   "cell_type": "markdown",
   "metadata": {},
   "source": [
    "# Kaggle: house prices\n",
    "https://www.kaggle.com/c/house-prices-advanced-regression-techniques"
   ]
  },
  {
   "cell_type": "markdown",
   "metadata": {},
   "source": [
    "## Import packages"
   ]
  },
  {
   "cell_type": "code",
   "execution_count": 36,
   "metadata": {
    "collapsed": true
   },
   "outputs": [],
   "source": [
    "# data analysis and wrangling\n",
    "import pandas as pd\n",
    "import numpy as np\n",
    "\n",
    "# visualization\n",
    "import seaborn as sns\n",
    "import matplotlib\n",
    "import matplotlib.pyplot as plt\n",
    "%matplotlib inline\n",
    "\n",
    "# machine learning\n",
    "from scipy.stats.stats import skew\n",
    "from scipy.stats.stats import pearsonr"
   ]
  },
  {
   "cell_type": "markdown",
   "metadata": {},
   "source": [
    "## Import data"
   ]
  },
  {
   "cell_type": "code",
   "execution_count": 37,
   "metadata": {},
   "outputs": [],
   "source": [
    "# Test and training set\n",
    "train = pd.read_csv('train.csv')\n",
    "test = pd.read_csv('test.csv')\n",
    "# Combine into one dataset for the purposes of cleaning, and make sure that index continues\n",
    "data_full = pd.concat([train, test], keys = ['train', 'test'])#ignore_index = True)"
   ]
  },
  {
   "cell_type": "code",
   "execution_count": 38,
   "metadata": {},
   "outputs": [
    {
     "data": {
      "text/html": [
       "<div>\n",
       "<table border=\"1\" class=\"dataframe\">\n",
       "  <thead>\n",
       "    <tr style=\"text-align: right;\">\n",
       "      <th></th>\n",
       "      <th>Id</th>\n",
       "      <th>MSSubClass</th>\n",
       "      <th>MSZoning</th>\n",
       "      <th>LotFrontage</th>\n",
       "      <th>LotArea</th>\n",
       "      <th>Street</th>\n",
       "      <th>Alley</th>\n",
       "      <th>LotShape</th>\n",
       "      <th>LandContour</th>\n",
       "      <th>Utilities</th>\n",
       "      <th>...</th>\n",
       "      <th>PoolArea</th>\n",
       "      <th>PoolQC</th>\n",
       "      <th>Fence</th>\n",
       "      <th>MiscFeature</th>\n",
       "      <th>MiscVal</th>\n",
       "      <th>MoSold</th>\n",
       "      <th>YrSold</th>\n",
       "      <th>SaleType</th>\n",
       "      <th>SaleCondition</th>\n",
       "      <th>SalePrice</th>\n",
       "    </tr>\n",
       "  </thead>\n",
       "  <tbody>\n",
       "    <tr>\n",
       "      <th>0</th>\n",
       "      <td>1</td>\n",
       "      <td>60</td>\n",
       "      <td>RL</td>\n",
       "      <td>65.0</td>\n",
       "      <td>8450</td>\n",
       "      <td>Pave</td>\n",
       "      <td>NaN</td>\n",
       "      <td>Reg</td>\n",
       "      <td>Lvl</td>\n",
       "      <td>AllPub</td>\n",
       "      <td>...</td>\n",
       "      <td>0</td>\n",
       "      <td>NaN</td>\n",
       "      <td>NaN</td>\n",
       "      <td>NaN</td>\n",
       "      <td>0</td>\n",
       "      <td>2</td>\n",
       "      <td>2008</td>\n",
       "      <td>WD</td>\n",
       "      <td>Normal</td>\n",
       "      <td>208500</td>\n",
       "    </tr>\n",
       "    <tr>\n",
       "      <th>1</th>\n",
       "      <td>2</td>\n",
       "      <td>20</td>\n",
       "      <td>RL</td>\n",
       "      <td>80.0</td>\n",
       "      <td>9600</td>\n",
       "      <td>Pave</td>\n",
       "      <td>NaN</td>\n",
       "      <td>Reg</td>\n",
       "      <td>Lvl</td>\n",
       "      <td>AllPub</td>\n",
       "      <td>...</td>\n",
       "      <td>0</td>\n",
       "      <td>NaN</td>\n",
       "      <td>NaN</td>\n",
       "      <td>NaN</td>\n",
       "      <td>0</td>\n",
       "      <td>5</td>\n",
       "      <td>2007</td>\n",
       "      <td>WD</td>\n",
       "      <td>Normal</td>\n",
       "      <td>181500</td>\n",
       "    </tr>\n",
       "    <tr>\n",
       "      <th>2</th>\n",
       "      <td>3</td>\n",
       "      <td>60</td>\n",
       "      <td>RL</td>\n",
       "      <td>68.0</td>\n",
       "      <td>11250</td>\n",
       "      <td>Pave</td>\n",
       "      <td>NaN</td>\n",
       "      <td>IR1</td>\n",
       "      <td>Lvl</td>\n",
       "      <td>AllPub</td>\n",
       "      <td>...</td>\n",
       "      <td>0</td>\n",
       "      <td>NaN</td>\n",
       "      <td>NaN</td>\n",
       "      <td>NaN</td>\n",
       "      <td>0</td>\n",
       "      <td>9</td>\n",
       "      <td>2008</td>\n",
       "      <td>WD</td>\n",
       "      <td>Normal</td>\n",
       "      <td>223500</td>\n",
       "    </tr>\n",
       "  </tbody>\n",
       "</table>\n",
       "<p>3 rows × 81 columns</p>\n",
       "</div>"
      ],
      "text/plain": [
       "   Id  MSSubClass MSZoning  LotFrontage  LotArea Street Alley LotShape  \\\n",
       "0   1          60       RL         65.0     8450   Pave   NaN      Reg   \n",
       "1   2          20       RL         80.0     9600   Pave   NaN      Reg   \n",
       "2   3          60       RL         68.0    11250   Pave   NaN      IR1   \n",
       "\n",
       "  LandContour Utilities    ...     PoolArea PoolQC Fence MiscFeature MiscVal  \\\n",
       "0         Lvl    AllPub    ...            0    NaN   NaN         NaN       0   \n",
       "1         Lvl    AllPub    ...            0    NaN   NaN         NaN       0   \n",
       "2         Lvl    AllPub    ...            0    NaN   NaN         NaN       0   \n",
       "\n",
       "  MoSold YrSold  SaleType  SaleCondition  SalePrice  \n",
       "0      2   2008        WD         Normal     208500  \n",
       "1      5   2007        WD         Normal     181500  \n",
       "2      9   2008        WD         Normal     223500  \n",
       "\n",
       "[3 rows x 81 columns]"
      ]
     },
     "execution_count": 38,
     "metadata": {},
     "output_type": "execute_result"
    }
   ],
   "source": [
    "# What does the dataset look like?\n",
    "train.head(3)"
   ]
  },
  {
   "cell_type": "markdown",
   "metadata": {},
   "source": [
    "## Data cleansing"
   ]
  },
  {
   "cell_type": "markdown",
   "metadata": {},
   "source": [
    "### Dealing with nulls"
   ]
  },
  {
   "cell_type": "code",
   "execution_count": 39,
   "metadata": {
    "scrolled": true
   },
   "outputs": [
    {
     "name": "stdout",
     "output_type": "stream",
     "text": [
      "Col name, Number of nulls, Number of unique values % of nulls\n"
     ]
    },
    {
     "data": {
      "text/plain": [
       "[['PoolQC', 1453, 4, '0.995'],\n",
       " ['MiscFeature', 1406, 5, '0.963'],\n",
       " ['Alley', 1369, 3, '0.938'],\n",
       " ['Fence', 1179, 5, '0.808'],\n",
       " ['FireplaceQu', 690, 6, '0.473'],\n",
       " ['LotFrontage', 259, 111, '0.177'],\n",
       " ['GarageType', 81, 7, '0.055'],\n",
       " ['GarageYrBlt', 81, 98, '0.055'],\n",
       " ['GarageFinish', 81, 4, '0.055'],\n",
       " ['GarageQual', 81, 6, '0.055'],\n",
       " ['GarageCond', 81, 6, '0.055'],\n",
       " ['BsmtExposure', 38, 5, '0.026'],\n",
       " ['BsmtFinType2', 38, 7, '0.026'],\n",
       " ['BsmtQual', 37, 5, '0.025'],\n",
       " ['BsmtCond', 37, 5, '0.025'],\n",
       " ['BsmtFinType1', 37, 7, '0.025'],\n",
       " ['MasVnrType', 8, 5, '0.005'],\n",
       " ['MasVnrArea', 8, 328, '0.005'],\n",
       " ['Electrical', 1, 6, '0.001'],\n",
       " ['Id', 0, 1460, '0.000'],\n",
       " ['MSSubClass', 0, 15, '0.000'],\n",
       " ['MSZoning', 0, 5, '0.000'],\n",
       " ['LotArea', 0, 1073, '0.000'],\n",
       " ['Street', 0, 2, '0.000'],\n",
       " ['LotShape', 0, 4, '0.000'],\n",
       " ['LandContour', 0, 4, '0.000'],\n",
       " ['Utilities', 0, 2, '0.000'],\n",
       " ['LotConfig', 0, 5, '0.000'],\n",
       " ['LandSlope', 0, 3, '0.000'],\n",
       " ['Neighborhood', 0, 25, '0.000'],\n",
       " ['Condition1', 0, 9, '0.000'],\n",
       " ['Condition2', 0, 8, '0.000'],\n",
       " ['BldgType', 0, 5, '0.000'],\n",
       " ['HouseStyle', 0, 8, '0.000'],\n",
       " ['OverallQual', 0, 10, '0.000'],\n",
       " ['OverallCond', 0, 9, '0.000'],\n",
       " ['YearBuilt', 0, 112, '0.000'],\n",
       " ['YearRemodAdd', 0, 61, '0.000'],\n",
       " ['RoofStyle', 0, 6, '0.000'],\n",
       " ['RoofMatl', 0, 8, '0.000'],\n",
       " ['Exterior1st', 0, 15, '0.000'],\n",
       " ['Exterior2nd', 0, 16, '0.000'],\n",
       " ['ExterQual', 0, 4, '0.000'],\n",
       " ['ExterCond', 0, 5, '0.000'],\n",
       " ['Foundation', 0, 6, '0.000'],\n",
       " ['BsmtFinSF1', 0, 637, '0.000'],\n",
       " ['BsmtFinSF2', 0, 144, '0.000'],\n",
       " ['BsmtUnfSF', 0, 780, '0.000'],\n",
       " ['TotalBsmtSF', 0, 721, '0.000'],\n",
       " ['Heating', 0, 6, '0.000'],\n",
       " ['HeatingQC', 0, 5, '0.000'],\n",
       " ['CentralAir', 0, 2, '0.000'],\n",
       " ['1stFlrSF', 0, 753, '0.000'],\n",
       " ['2ndFlrSF', 0, 417, '0.000'],\n",
       " ['LowQualFinSF', 0, 24, '0.000'],\n",
       " ['GrLivArea', 0, 861, '0.000'],\n",
       " ['BsmtFullBath', 0, 4, '0.000'],\n",
       " ['BsmtHalfBath', 0, 3, '0.000'],\n",
       " ['FullBath', 0, 4, '0.000'],\n",
       " ['HalfBath', 0, 3, '0.000'],\n",
       " ['BedroomAbvGr', 0, 8, '0.000'],\n",
       " ['KitchenAbvGr', 0, 4, '0.000'],\n",
       " ['KitchenQual', 0, 4, '0.000'],\n",
       " ['TotRmsAbvGrd', 0, 12, '0.000'],\n",
       " ['Functional', 0, 7, '0.000'],\n",
       " ['Fireplaces', 0, 4, '0.000'],\n",
       " ['GarageCars', 0, 5, '0.000'],\n",
       " ['GarageArea', 0, 441, '0.000'],\n",
       " ['PavedDrive', 0, 3, '0.000'],\n",
       " ['WoodDeckSF', 0, 274, '0.000'],\n",
       " ['OpenPorchSF', 0, 202, '0.000'],\n",
       " ['EnclosedPorch', 0, 120, '0.000'],\n",
       " ['3SsnPorch', 0, 20, '0.000'],\n",
       " ['ScreenPorch', 0, 76, '0.000'],\n",
       " ['PoolArea', 0, 8, '0.000'],\n",
       " ['MiscVal', 0, 21, '0.000'],\n",
       " ['MoSold', 0, 12, '0.000'],\n",
       " ['YrSold', 0, 5, '0.000'],\n",
       " ['SaleType', 0, 9, '0.000'],\n",
       " ['SaleCondition', 0, 6, '0.000'],\n",
       " ['SalePrice', 0, 663, '0.000']]"
      ]
     },
     "execution_count": 39,
     "metadata": {},
     "output_type": "execute_result"
    }
   ],
   "source": [
    "# Count the uniques for each column for a given dataframe\n",
    "def df_uniques(df):\n",
    "    print('Col name,', 'Number of nulls,', 'Number of unique values', '% of nulls')\n",
    "    list_of_features = []\n",
    "    for col in df:\n",
    "        l = [col, df[col].shape[0] - df[col].count(), df[col].unique().shape[0], '%.3f' %((df[col].shape[0] - df[col].count()) / df[col].shape[0])]\n",
    "        list_of_features.append(l)\n",
    "    # Sort by the number of NULLs: \n",
    "    list_of_features = sorted(list_of_features, key = lambda x: x[1], reverse = True)\n",
    "    return list_of_features\n",
    "\n",
    "df_uniques(train)"
   ]
  },
  {
   "cell_type": "code",
   "execution_count": 40,
   "metadata": {
    "collapsed": true
   },
   "outputs": [],
   "source": [
    "# The following features have a crazy number of nulls \n",
    "# PoolQC, MiscFeature, Alley, Fence, FireplaceQu, LotFrontage \n",
    "\n",
    "# From looking at the data dictionary, these NAs are not necessarily a problem - but \"NA\" or nUll is misleading, so let's replace them\n",
    "# Alley: NA = no alley -> replace with \"None\"\n",
    "# MiscFeature: other features (e.g. tennis court) - NA = no other feature -> replace with \"None\"\n",
    "# Fence: NA = no fence -> replace with \"None\"\n",
    "# FireplaceQu: you guessed it -> replace with \"None\""
   ]
  },
  {
   "cell_type": "code",
   "execution_count": 41,
   "metadata": {
    "scrolled": true
   },
   "outputs": [
    {
     "name": "stdout",
     "output_type": "stream",
     "text": [
      "['Alley', 'BsmtCond', 'BsmtExposure', 'BsmtFinSF1', 'BsmtFinSF2', 'BsmtFinType1', 'BsmtFinType2', 'BsmtFullBath', 'BsmtHalfBath', 'BsmtQual', 'BsmtUnfSF', 'Electrical', 'Exterior1st', 'Exterior2nd', 'Fence', 'FireplaceQu', 'Functional', 'GarageArea', 'GarageCars', 'GarageCond', 'GarageFinish', 'GarageQual', 'GarageType', 'GarageYrBlt', 'KitchenQual', 'LotFrontage', 'MSZoning', 'MasVnrArea', 'MasVnrType', 'MiscFeature', 'PoolQC', 'SalePrice', 'SaleType', 'TotalBsmtSF', 'Utilities']\n"
     ]
    }
   ],
   "source": [
    "# Let's get a neat list of the null columns - need to combine both datasets for this\n",
    "null_columns = [col for col in data_full.columns if data_full[col].isnull().any()]\n",
    "print(null_columns)"
   ]
  },
  {
   "cell_type": "code",
   "execution_count": 42,
   "metadata": {},
   "outputs": [],
   "source": [
    "# Define a function to replace nulls for many columns: \n",
    "def fill_nulls(df, col_list, na_val):\n",
    "    for col in col_list:\n",
    "        df[col].fillna(value = na_val, inplace = True)\n",
    "    return df"
   ]
  },
  {
   "cell_type": "code",
   "execution_count": 43,
   "metadata": {},
   "outputs": [],
   "source": [
    "# Categorical fields with an obvious meaning NA -> 'None'\n",
    "nulls_to_none = ['PoolQC', 'Fence', 'MiscFeature', 'Alley', 'FireplaceQu', 'MasVnrType', 'BsmtCond', \n",
    "                 'BsmtExposure', 'BsmtFinType1', 'BsmtFinType2', 'Electrical', 'GarageType', 'GarageFinish', \n",
    "                 'GarageQual', 'GarageCond', 'KitchenQual']\n",
    "# Numerical fields with an obvious meaning NA -> 0\n",
    "nulls_to_zero = ['LotFrontage', 'MasVnrArea', 'BsmtQual', 'GarageYrBlt', 'BsmtFinSF1', 'BsmtFinSF2', 'BsmtFullBath', \n",
    "                 'BsmtHalfBath', 'BsmtUnfSF', 'GarageArea', 'GarageCars', 'TotalBsmtSF']\n",
    "\n",
    "# Categorical fields with a less obvious interpretation - guessing that NA means 'None' (there are very few anyway)\n",
    "nulls_to_zero_2 = ['MSZoning', 'Utilities', 'Exterior1st', 'Exterior2nd']\n",
    "nulls_to_other = ['SaleType', 'Functional']\n",
    "\n",
    "# Apply to both test and training sets:\n",
    "for df in [train, test]: \n",
    "    fill_nulls(df, nulls_to_none, 'None')\n",
    "    fill_nulls(df, nulls_to_zero, 0)\n",
    "    fill_nulls(df, nulls_to_zero_2, 0)\n",
    "    fill_nulls(df, nulls_to_other, 'Other')\n",
    "# NB we still have 'data_full' which has not been updated yet"
   ]
  },
  {
   "cell_type": "code",
   "execution_count": 44,
   "metadata": {
    "collapsed": true
   },
   "outputs": [],
   "source": [
    "# Add more here about infilling with median values for some fields...."
   ]
  },
  {
   "cell_type": "markdown",
   "metadata": {},
   "source": [
    "### Data types\n",
    "Let's make sure everything is in the correct data type.  Pandas will have a go at importing things correctly, but this is good practice to make sure that things haven't gone awry. Ultimately we'll want to use dummy variables for categorical data anyway."
   ]
  },
  {
   "cell_type": "code",
   "execution_count": 45,
   "metadata": {
    "scrolled": true
   },
   "outputs": [],
   "source": [
    "# Print out data types\n",
    "def data_types(df):\n",
    "    for col in df:\n",
    "        print(col, type(df[col][1]))   "
   ]
  },
  {
   "cell_type": "code",
   "execution_count": 46,
   "metadata": {
    "scrolled": true
   },
   "outputs": [
    {
     "name": "stdout",
     "output_type": "stream",
     "text": [
      "Id <class 'numpy.int64'>\n",
      "MSSubClass <class 'numpy.int64'>\n",
      "MSZoning <class 'str'>\n",
      "LotFrontage <class 'numpy.float64'>\n",
      "LotArea <class 'numpy.int64'>\n",
      "Street <class 'str'>\n",
      "Alley <class 'str'>\n",
      "LotShape <class 'str'>\n",
      "LandContour <class 'str'>\n",
      "Utilities <class 'str'>\n",
      "LotConfig <class 'str'>\n",
      "LandSlope <class 'str'>\n",
      "Neighborhood <class 'str'>\n",
      "Condition1 <class 'str'>\n",
      "Condition2 <class 'str'>\n",
      "BldgType <class 'str'>\n",
      "HouseStyle <class 'str'>\n",
      "OverallQual <class 'numpy.int64'>\n",
      "OverallCond <class 'numpy.int64'>\n",
      "YearBuilt <class 'numpy.int64'>\n",
      "YearRemodAdd <class 'numpy.int64'>\n",
      "RoofStyle <class 'str'>\n",
      "RoofMatl <class 'str'>\n",
      "Exterior1st <class 'str'>\n",
      "Exterior2nd <class 'str'>\n",
      "MasVnrType <class 'str'>\n",
      "MasVnrArea <class 'numpy.float64'>\n",
      "ExterQual <class 'str'>\n",
      "ExterCond <class 'str'>\n",
      "Foundation <class 'str'>\n",
      "BsmtQual <class 'str'>\n",
      "BsmtCond <class 'str'>\n",
      "BsmtExposure <class 'str'>\n",
      "BsmtFinType1 <class 'str'>\n",
      "BsmtFinSF1 <class 'numpy.int64'>\n",
      "BsmtFinType2 <class 'str'>\n",
      "BsmtFinSF2 <class 'numpy.int64'>\n",
      "BsmtUnfSF <class 'numpy.int64'>\n",
      "TotalBsmtSF <class 'numpy.int64'>\n",
      "Heating <class 'str'>\n",
      "HeatingQC <class 'str'>\n",
      "CentralAir <class 'str'>\n",
      "Electrical <class 'str'>\n",
      "1stFlrSF <class 'numpy.int64'>\n",
      "2ndFlrSF <class 'numpy.int64'>\n",
      "LowQualFinSF <class 'numpy.int64'>\n",
      "GrLivArea <class 'numpy.int64'>\n",
      "BsmtFullBath <class 'numpy.int64'>\n",
      "BsmtHalfBath <class 'numpy.int64'>\n",
      "FullBath <class 'numpy.int64'>\n",
      "HalfBath <class 'numpy.int64'>\n",
      "BedroomAbvGr <class 'numpy.int64'>\n",
      "KitchenAbvGr <class 'numpy.int64'>\n",
      "KitchenQual <class 'str'>\n",
      "TotRmsAbvGrd <class 'numpy.int64'>\n",
      "Functional <class 'str'>\n",
      "Fireplaces <class 'numpy.int64'>\n",
      "FireplaceQu <class 'str'>\n",
      "GarageType <class 'str'>\n",
      "GarageYrBlt <class 'numpy.float64'>\n",
      "GarageFinish <class 'str'>\n",
      "GarageCars <class 'numpy.int64'>\n",
      "GarageArea <class 'numpy.int64'>\n",
      "GarageQual <class 'str'>\n",
      "GarageCond <class 'str'>\n",
      "PavedDrive <class 'str'>\n",
      "WoodDeckSF <class 'numpy.int64'>\n",
      "OpenPorchSF <class 'numpy.int64'>\n",
      "EnclosedPorch <class 'numpy.int64'>\n",
      "3SsnPorch <class 'numpy.int64'>\n",
      "ScreenPorch <class 'numpy.int64'>\n",
      "PoolArea <class 'numpy.int64'>\n",
      "PoolQC <class 'str'>\n",
      "Fence <class 'str'>\n",
      "MiscFeature <class 'str'>\n",
      "MiscVal <class 'numpy.int64'>\n",
      "MoSold <class 'numpy.int64'>\n",
      "YrSold <class 'numpy.int64'>\n",
      "SaleType <class 'str'>\n",
      "SaleCondition <class 'str'>\n",
      "SalePrice <class 'numpy.int64'>\n"
     ]
    }
   ],
   "source": [
    "data_types(train)"
   ]
  },
  {
   "cell_type": "code",
   "execution_count": 47,
   "metadata": {},
   "outputs": [],
   "source": [
    "# By pasting the above list into a spreadsheet and cross checking with the data dictionary, we can \n",
    "# see which category each field should be\n",
    "\n",
    "# Makes lists of each type\n",
    "categories = ['MSSubClass', 'MSZoning', 'Street', 'Alley', 'LotShape', 'LandContour', 'Utilities', 'LotConfig', \n",
    "              'LandSlope', 'Neighborhood', 'Condition1', 'Condition2', 'BldgType', 'HouseStyle', 'YearBuilt', \n",
    "              'YearRemodAdd', 'RoofStyle', 'RoofMatl', 'Exterior1st', 'Exterior2nd', 'MasVnrType', 'ExterQual', \n",
    "              'ExterCond', 'Foundation', 'BsmtQual', 'BsmtCond', 'BsmtExposure', 'BsmtFinType2', 'Heating', \n",
    "              'HeatingQC', 'Electrical', 'KitchenQual', 'Functional', 'FireplaceQu', 'GarageType', 'GarageYrBlt', \n",
    "              'GarageFinish', 'GarageCars', 'PoolQC', 'Fence', 'MiscFeature', 'MoSold', 'YrSold', 'SaleType', \n",
    "              'SaleCondition']\n",
    "floats = ['LotFrontage', 'LotArea', 'MasVnrArea', 'BsmtFinSF1', 'BsmtFinSF2', 'BsmtUnfSF', 'TotalBsmtSF', \n",
    "          '1stFlrSF', '2ndFlrSF', 'LowQualFinSF', 'GrLivArea', 'GarageArea', 'WoodDeckSF', 'OpenPorchSF', \n",
    "          'EnclosedPorch', '3SsnPorch', 'ScreenPorch', 'PoolArea', 'MiscVal']\n",
    "\n",
    "ints = ['OverallQual', 'OverallCond', 'BsmtFullBath', 'BsmtHalfBath', 'FullBath', \n",
    "         'BedroomAbvGr', 'KitchenAbvGr', 'TotRmsAbvGrd', 'Fireplaces']\n",
    "\n",
    "bools = ['CentralAir']\n",
    "\n",
    "# Define a function for converting a list of columns to a particular type: \n",
    "def convert_col_type(df, cols, type):\n",
    "    for col in cols:\n",
    "        df[col] = df[col].astype(type)"
   ]
  },
  {
   "cell_type": "code",
   "execution_count": 48,
   "metadata": {
    "scrolled": true
   },
   "outputs": [],
   "source": [
    "# Convert each column for both test and training sets:\n",
    "for df in [train, test]:\n",
    "    convert_col_type(df, categories, 'category')\n",
    "    convert_col_type(df, floats, 'float')\n",
    "    convert_col_type(df, ints, 'int')\n",
    "    convert_col_type(df, bools, 'bool')\n",
    "    \n",
    "# Re-define the full dataset\n",
    "data_full = pd.concat([train, test], keys = ['train', 'test'])"
   ]
  },
  {
   "cell_type": "code",
   "execution_count": 49,
   "metadata": {
    "scrolled": true
   },
   "outputs": [
    {
     "name": "stdout",
     "output_type": "stream",
     "text": [
      "Id <class 'numpy.int64'>\n",
      "MSSubClass <class 'numpy.int64'>\n",
      "MSZoning <class 'str'>\n",
      "LotFrontage <class 'numpy.float64'>\n",
      "LotArea <class 'numpy.float64'>\n",
      "Street <class 'str'>\n",
      "Alley <class 'str'>\n",
      "LotShape <class 'str'>\n",
      "LandContour <class 'str'>\n",
      "Utilities <class 'str'>\n",
      "LotConfig <class 'str'>\n",
      "LandSlope <class 'str'>\n",
      "Neighborhood <class 'str'>\n",
      "Condition1 <class 'str'>\n",
      "Condition2 <class 'str'>\n",
      "BldgType <class 'str'>\n",
      "HouseStyle <class 'str'>\n",
      "OverallQual <class 'numpy.int64'>\n",
      "OverallCond <class 'numpy.int64'>\n",
      "YearBuilt <class 'numpy.int64'>\n",
      "YearRemodAdd <class 'numpy.int64'>\n",
      "RoofStyle <class 'str'>\n",
      "RoofMatl <class 'str'>\n",
      "Exterior1st <class 'str'>\n",
      "Exterior2nd <class 'str'>\n",
      "MasVnrType <class 'str'>\n",
      "MasVnrArea <class 'numpy.float64'>\n",
      "ExterQual <class 'str'>\n",
      "ExterCond <class 'str'>\n",
      "Foundation <class 'str'>\n",
      "BsmtQual <class 'str'>\n",
      "BsmtCond <class 'str'>\n",
      "BsmtExposure <class 'str'>\n",
      "BsmtFinType1 <class 'str'>\n",
      "BsmtFinSF1 <class 'numpy.float64'>\n",
      "BsmtFinType2 <class 'str'>\n",
      "BsmtFinSF2 <class 'numpy.float64'>\n",
      "BsmtUnfSF <class 'numpy.float64'>\n",
      "TotalBsmtSF <class 'numpy.float64'>\n",
      "Heating <class 'str'>\n",
      "HeatingQC <class 'str'>\n",
      "CentralAir <class 'numpy.bool_'>\n",
      "Electrical <class 'str'>\n",
      "1stFlrSF <class 'numpy.float64'>\n",
      "2ndFlrSF <class 'numpy.float64'>\n",
      "LowQualFinSF <class 'numpy.float64'>\n",
      "GrLivArea <class 'numpy.float64'>\n",
      "BsmtFullBath <class 'numpy.int64'>\n",
      "BsmtHalfBath <class 'numpy.int64'>\n",
      "FullBath <class 'numpy.int64'>\n",
      "HalfBath <class 'numpy.int64'>\n",
      "BedroomAbvGr <class 'numpy.int64'>\n",
      "KitchenAbvGr <class 'numpy.int64'>\n",
      "KitchenQual <class 'str'>\n",
      "TotRmsAbvGrd <class 'numpy.int64'>\n",
      "Functional <class 'str'>\n",
      "Fireplaces <class 'numpy.int64'>\n",
      "FireplaceQu <class 'str'>\n",
      "GarageType <class 'str'>\n",
      "GarageYrBlt <class 'numpy.float64'>\n",
      "GarageFinish <class 'str'>\n",
      "GarageCars <class 'numpy.int64'>\n",
      "GarageArea <class 'numpy.float64'>\n",
      "GarageQual <class 'str'>\n",
      "GarageCond <class 'str'>\n",
      "PavedDrive <class 'str'>\n",
      "WoodDeckSF <class 'numpy.float64'>\n",
      "OpenPorchSF <class 'numpy.float64'>\n",
      "EnclosedPorch <class 'numpy.float64'>\n",
      "3SsnPorch <class 'numpy.float64'>\n",
      "ScreenPorch <class 'numpy.float64'>\n",
      "PoolArea <class 'numpy.float64'>\n",
      "PoolQC <class 'str'>\n",
      "Fence <class 'str'>\n",
      "MiscFeature <class 'str'>\n",
      "MiscVal <class 'numpy.float64'>\n",
      "MoSold <class 'numpy.int64'>\n",
      "YrSold <class 'numpy.int64'>\n",
      "SaleType <class 'str'>\n",
      "SaleCondition <class 'str'>\n",
      "SalePrice <class 'numpy.int64'>\n"
     ]
    }
   ],
   "source": [
    "# Print out data types\n",
    "def data_types(df):\n",
    "    for col in df:\n",
    "        print(col, type(df[col][1]))   \n",
    "data_types(train)"
   ]
  },
  {
   "cell_type": "markdown",
   "metadata": {},
   "source": [
    "## Motivating plots"
   ]
  },
  {
   "cell_type": "code",
   "execution_count": 50,
   "metadata": {
    "scrolled": false
   },
   "outputs": [
    {
     "data": {
      "image/png": "[encoded data removed]",
      "text/plain": [
       "<matplotlib.figure.Figure at 0x10f61e668>"
      ]
     },
     "metadata": {},
     "output_type": "display_data"
    }
   ],
   "source": [
    "sales_price = train['SalePrice']\n",
    "graph = sns.distplot(sales_price)"
   ]
  },
  {
   "cell_type": "code",
   "execution_count": 51,
   "metadata": {},
   "outputs": [
    {
     "data": {
      "image/png": "[encoded data removed]",
      "text/plain": [
       "<matplotlib.figure.Figure at 0x117c7ac50>"
      ]
     },
     "metadata": {},
     "output_type": "display_data"
    }
   ],
   "source": [
    "# Let's log-tranform this: \n",
    "sales_prices_log = np.log1p(sales_price)\n",
    "graph = sns.distplot(sales_prices_log)"
   ]
  },
  {
   "cell_type": "code",
   "execution_count": 52,
   "metadata": {},
   "outputs": [],
   "source": [
    "# Let's replace the SalePrice with the log-transformed version (will need to exponentiate predictions)\n",
    "train['SalePrice'] = np.log1p(train['SalePrice'])"
   ]
  },
  {
   "cell_type": "code",
   "execution_count": 53,
   "metadata": {
    "collapsed": true
   },
   "outputs": [],
   "source": [
    "# Re-define the full dataset - and work on this until we are ready to split out test and train sets again\n",
    "data_full = pd.concat([train, test], keys = ['train', 'test'])"
   ]
  },
  {
   "cell_type": "code",
   "execution_count": 54,
   "metadata": {},
   "outputs": [],
   "source": [
    "# Let's see if any other features are skewed and replace these with log-transformed versions if so  \n",
    "skewed_features = data_full[floats].apply(lambda x: skew(x.dropna()))\n",
    "skewed_features = skewed_features[skewed_features > 0.75]\n",
    "skewed_features"
   ]
  },
  {
   "cell_type": "code",
   "execution_count": 55,
   "metadata": {
    "collapsed": true
   },
   "outputs": [],
   "source": [
    "skewed_features = skewed_features.index\n",
    "data_full[skewed_features] = np.log1p(data_full[skewed_features])"
   ]
  },
  {
   "cell_type": "markdown",
   "metadata": {},
   "source": [
    "## Standardising numeric features"
   ]
  },
  {
   "cell_type": "code",
   "execution_count": 56,
   "metadata": {
    "scrolled": true
   },
   "outputs": [],
   "source": [
    "# Standardise numeric features (normalise)\n",
    "numeric_features = data_full.loc[:,floats]\n",
    "numeric_features_standardized = (numeric_features - numeric_features.mean())/numeric_features.std()\n",
    "ax = sns.pairplot(numeric_features_standardized)"
   ]
  },
  {
   "cell_type": "code",
   "execution_count": 57,
   "metadata": {
    "collapsed": true
   },
   "outputs": [],
   "source": [
    "ax.savefig('charts_complete.png')"
   ]
  },
  {
   "cell_type": "code",
   "execution_count": 58,
   "metadata": {},
   "outputs": [],
   "source": [
    "# Too many variables!  "
   ]
  },
  {
   "cell_type": "code",
   "execution_count": null,
   "metadata": {},
   "outputs": [],
   "source": []
  },
  {
   "cell_type": "markdown",
   "metadata": {},
   "source": [
    "### Split test-train sets again"
   ]
  },
  {
   "cell_type": "code",
   "execution_count": 59,
   "metadata": {},
   "outputs": [],
   "source": [
    "# First, create dummy variables for categorical variables\n",
    "dummy = pd.get_dummies(train)\n",
    "# split out the test and train sets again\n",
    "train = data_full.ix['train']\n",
    "test = data_full.ix['test']"
   ]
  },
  {
   "cell_type": "markdown",
   "metadata": {},
   "source": [
    "## Linear regression, backward elimination"
   ]
  },
  {
   "cell_type": "code",
   "execution_count": 60,
   "metadata": {},
   "outputs": [],
   "source": [
    "# statsmodel requires all fieldsnames to begin with letters\n",
    "train = train.rename(columns = {'1stFlrSF': 'FirstFlrSF','2ndFlrSF': 'SecondFlrSF','3SsnPorch': 'ThreeSsnPorch'})\n",
    "test = test.rename(columns = {'1stFlrSF': 'FirstFlrSF','2ndFlrSF': 'SecondFlrSF','3SsnPorch': 'ThreeSsnPorch'})\n",
    "data_full = pd.concat([train, test], keys = ['train', 'test'])"
   ]
  },
  {
   "cell_type": "code",
   "execution_count": 61,
   "metadata": {
    "scrolled": true
   },
   "outputs": [],
   "source": [
    "# this is the standard import if you're using \"formula notation\" (similar to R)\n",
    "import statsmodels.formula.api as smf\n",
    "\n",
    "# create a fitted model with all three features\n",
    "lm = smf.ols(formula='SalePrice ~ LotFrontage + LotArea + MasVnrArea + BsmtFinSF1 + BsmtFinSF2 + BsmtUnfSF + TotalBsmtSF + FirstFlrSF + SecondFlrSF + LowQualFinSF + GrLivArea + GarageArea + WoodDeckSF + OpenPorchSF + EnclosedPorch + ThreeSsnPorch + ScreenPorch + PoolArea + MiscVal + OverallQual + OverallCond + BsmtFullBath + BsmtHalfBath + FullBath + BedroomAbvGr + KitchenAbvGr + TotRmsAbvGrd + Fireplaces', data=train).fit()\n",
    "\n",
    "# print the coefficients\n",
    "lm.summary()"
   ]
  },
  {
   "cell_type": "code",
   "execution_count": 62,
   "metadata": {
    "collapsed": true
   },
   "outputs": [],
   "source": [
    "# pick out some variables to drop\n",
    "# plot charts for best predictors\n",
    "# put back in the categorical variables?\n",
    "# OpenPorchSF\n",
    "# MiscVal\n",
    "# BedroomAbvGr\n",
    "\n"
   ]
  },
  {
   "cell_type": "code",
   "execution_count": 63,
   "metadata": {
    "scrolled": true
   },
   "outputs": [],
   "source": [
    "p = lm.pvalues.sort(ascending = False, inplace=False)\n",
    "p"
   ]
  },
  {
   "cell_type": "markdown",
   "metadata": {},
   "source": [
    "## Collinearity\n",
    "Let's check to see which predictors are correlated - many features are essentially the same thing."
   ]
  },
  {
   "cell_type": "code",
   "execution_count": 83,
   "metadata": {
    "scrolled": false
   },
   "outputs": [
    {
     "data": {
      "text/plain": [
       "<matplotlib.axes._subplots.AxesSubplot at 0x1107a5198>"
      ]
     },
     "execution_count": 83,
     "metadata": {},
     "output_type": "execute_result"
    },
    {
     "data": {
      "image/png": "[encoded data removed]",
      "text/plain": [
       "<matplotlib.figure.Figure at 0x10fb2b940>"
      ]
     },
     "metadata": {},
     "output_type": "display_data"
    }
   ],
   "source": [
    "# Compute the correlation matrix\n",
    "corr = data_full.corr()\n",
    "\n",
    "# Generate a mask for the upper triangle\n",
    "mask = np.zeros_like(corr, dtype=np.bool)\n",
    "mask[np.triu_indices_from(mask)] = True\n",
    "\n",
    "# Set up the matplotlib figure\n",
    "f, ax = plt.subplots(figsize=(11, 9))\n",
    "\n",
    "# Generate a custom diverging colormap\n",
    "cmap = sns.diverging_palette(220, 10, as_cmap=True)\n",
    "\n",
    "# Draw the heatmap with the mask and correct aspect ratio\n",
    "sns.heatmap(corr, mask=mask, cmap=cmap, vmax=.3,\n",
    "            square=True, xticklabels=5, yticklabels=5,\n",
    "            linewidths=.5, cbar_kws={\"shrink\": .5}, ax=ax)\n",
    "\n",
    "# Simpler version (but too small to be useful)\n",
    "# plt.matshow(data_full.corr())"
   ]
  },
  {
   "cell_type": "markdown",
   "metadata": {},
   "source": [
    "Several predictors seem to be correlated, but the maximum correlation appears to be 0.4, so it's not worth removing these."
   ]
  },
  {
   "cell_type": "markdown",
   "metadata": {},
   "source": [
    "## Modelling: splitting the testing and training sets again"
   ]
  },
  {
   "cell_type": "code",
   "execution_count": 79,
   "metadata": {},
   "outputs": [
    {
     "name": "stdout",
     "output_type": "stream",
     "text": [
      "(1460, 81) (1460,)\n"
     ]
    }
   ],
   "source": [
    "# Features - remove the thing we're trying to predict!\n",
    "features = data_full.pop('SalePrice')\n",
    "\n",
    "# Create dummy variables - for each categorical data, make several booleans\n",
    "data_full = pd.get_dummies(data_full)\n",
    "\n",
    "#creating matrices for sklearn:\n",
    "X_train = features[:train.shape[0]]\n",
    "X_test = features[train.shape[0]:]\n",
    "# X_train = train\n",
    "# X_test = test\n",
    "y = train['SalePrice']\n",
    "\n",
    "# Verify that the \n",
    "print(train.shape, X_train.shape)"
   ]
  },
  {
   "cell_type": "markdown",
   "metadata": {},
   "source": [
    "## Ridge regularisation (L2 regularisation)"
   ]
  },
  {
   "cell_type": "code",
   "execution_count": 66,
   "metadata": {},
   "outputs": [],
   "source": [
    "from sklearn.linear_model import Ridge, RidgeCV, ElasticNet, LassoCV, LassoLarsCV\n",
    "from sklearn.model_selection import cross_val_score"
   ]
  },
  {
   "cell_type": "code",
   "execution_count": 71,
   "metadata": {
    "collapsed": true
   },
   "outputs": [],
   "source": [
    "# Define root-mean-square-error function - use 10-fold cross-validation\n",
    "# You have to use neg_mean_squared_error because mean_squared_error will be deprecated in future\n",
    "def rmse_cv(model):\n",
    "    rmse = np.sqrt(-cross_val_score(model, X_train, y, scoring=\"neg_mean_squared_error\", cv = 5))\n",
    "    return rmse\n",
    "# Invoke Ridge regularisation\n",
    "model_ridge = Ridge()"
   ]
  },
  {
   "cell_type": "code",
   "execution_count": 81,
   "metadata": {},
   "outputs": [],
   "source": [
    "# Tune parameters - the only parameter is alpha - the larger alpha, the larger the penalty for extra predictors\n",
    "alphas = [0.1, 0.3, 1, 3, 5, 10, 15, 30, 50, 75]\n",
    "# Work out the RMSE for each value of the alphas above: \n",
    "cv_ridge = [rmse_cv(Ridge(alpha = alpha)).mean() for alpha in alphas]\n",
    "cv_ridge = pd.Series(cv_ridge, index = alphas)"
   ]
  },
  {
   "cell_type": "code",
   "execution_count": 82,
   "metadata": {
    "scrolled": true
   },
   "outputs": [
    {
     "data": {
      "text/plain": [
       "<matplotlib.text.Text at 0x1106b1a20>"
      ]
     },
     "execution_count": 82,
     "metadata": {},
     "output_type": "execute_result"
    },
    {
     "data": {
      "image/png": "[encoded data removed]",
      "text/plain": [
       "<matplotlib.figure.Figure at 0x1107a5b00>"
      ]
     },
     "metadata": {},
     "output_type": "display_data"
    }
   ],
   "source": [
    "# Let's plot this\n",
    "cv_ridge.plot(title = 'RMSE as a function of alpha (Ridge regularisation)')\n",
    "plt.xlabel('alpha')\n",
    "plt.ylabel('RMSE')"
   ]
  },
  {
   "cell_type": "markdown",
   "metadata": {},
   "source": [
    "%%latex \n",
    "We want to chose the value of $\\alpha$ that minimises the chart above. The extreme cases are $alpha = 0$, which corresponds to no penalty for each extra predictor, and $\\alpha\\to\\inf$ which corresponds to a null model.  We want a balance between flexibility and over-fitting, which represents the minimium of this chart."
   ]
  },
  {
   "cell_type": "code",
   "execution_count": 70,
   "metadata": {},
   "outputs": [
    {
     "name": "stderr",
     "output_type": "stream",
     "text": [
      "UsageError: %%latex is a cell magic, but the cell body is empty.\n"
     ]
    }
   ],
   "source": [
    "%%latex"
   ]
  },
  {
   "cell_type": "code",
   "execution_count": null,
   "metadata": {},
   "outputs": [],
   "source": [
    "cv_ridge.min()"
   ]
  },
  {
   "cell_type": "code",
   "execution_count": null,
   "metadata": {},
   "outputs": [],
   "source": [
    "#let's look at the residuals as well:\n",
    "model_ridge = Ridge()\n",
    "model_ridge(alpha = 10)\n",
    "matplotlib.rcParams['figure.figsize'] = (6.0, 6.0)\n",
    "\n",
    "preds = pd.DataFrame({\"preds\":model_ridge.predict(X_train), \"true\":y})\n",
    "preds[\"residuals\"] = preds[\"true\"] - preds[\"preds\"]\n",
    "preds.plot(x = \"preds\", y = \"residuals\",kind = \"scatter\")"
   ]
  },
  {
   "cell_type": "markdown",
   "metadata": {},
   "source": [
    "## Lasso regularisation (L1 regularisation)\n",
    "The advantage of Lasso regularisation is that it performs some feature selection"
   ]
  },
  {
   "cell_type": "code",
   "execution_count": null,
   "metadata": {},
   "outputs": [],
   "source": [
    "n_alphas = 200\n",
    "alphas = np.logspace(-10, -2, n_alphas)\n",
    "clf = Ridge(fit_intercept=False)\n",
    "\n",
    "coefs = []\n",
    "for a in alphas:\n",
    "    clf.set_params(alpha=a)\n",
    "    clf.fit(X_train, y)\n",
    "    coefs.append(clf.coef_)"
   ]
  },
  {
   "cell_type": "code",
   "execution_count": null,
   "metadata": {
    "scrolled": true
   },
   "outputs": [],
   "source": [
    "model_lasso = LassoCV(alphas = [1, 0.1, 0.001, 0.0005]).fit(X_train, y)\n",
    "print(rmse_cv(model_lasso).mean())\n",
    "coef = pd.Series(model_lasso.coef_, index = X_train.columns)\n",
    "print(\"Lasso picked \" + str(sum(coef != 0)) + \" variables and eliminated the other \" +  str(sum(coef == 0)) + \" variables\")"
   ]
  },
  {
   "cell_type": "code",
   "execution_count": null,
   "metadata": {
    "collapsed": true
   },
   "outputs": [],
   "source": [
    "# trying to do the same thing is v inefficient ... takes forever ... what is going on?"
   ]
  },
  {
   "cell_type": "code",
   "execution_count": null,
   "metadata": {},
   "outputs": [],
   "source": [
    "ax = plt.gca()\n",
    "\n",
    "ax.plot(alphas, coefs)\n",
    "ax.set_xscale('log')\n",
    "ax.set_xlim(ax.get_xlim()[::-1])  # reverse axis\n",
    "plt.xlabel('alpha')\n",
    "plt.ylabel('weights')\n",
    "plt.title('Ridge coefficients as a function of the regularization')\n",
    "plt.axis('tight')\n",
    "plt.show()"
   ]
  },
  {
   "cell_type": "code",
   "execution_count": null,
   "metadata": {},
   "outputs": [],
   "source": [
    "imp_coef = pd.concat([coef.sort_values().head(10),\n",
    "                     coef.sort_values().tail(10)])\n",
    "matplotlib.rcParams['figure.figsize'] = (8.0, 10.0)\n",
    "imp_coef.plot(kind = \"barh\")\n",
    "plt.title(\"Coefficients in the Lasso Model\")\n",
    "\n",
    "# we need to bootstrap this and do it on a few random samples"
   ]
  },
  {
   "cell_type": "code",
   "execution_count": null,
   "metadata": {},
   "outputs": [],
   "source": [
    "#let's look at the residuals as well:\n",
    "matplotlib.rcParams['figure.figsize'] = (6.0, 6.0)\n",
    "\n",
    "preds = pd.DataFrame({\"preds\":model_lasso.predict(X_train), \"true\":y})\n",
    "preds[\"residuals\"] = preds[\"true\"] - preds[\"preds\"]\n",
    "preds.plot(x = \"preds\", y = \"residuals\",kind = \"scatter\")"
   ]
  },
  {
   "cell_type": "code",
   "execution_count": null,
   "metadata": {
    "collapsed": true
   },
   "outputs": [],
   "source": [
    "# These look gash because we have not removed the skew"
   ]
  },
  {
   "cell_type": "code",
   "execution_count": null,
   "metadata": {
    "collapsed": true
   },
   "outputs": [],
   "source": []
  }
 ],
 "metadata": {
  "kernelspec": {
   "display_name": "Python [conda root]",
   "language": "python",
   "name": "conda-root-py"
  },
  "language_info": {
   "codemirror_mode": {
    "name": "ipython",
    "version": 3
   },
   "file_extension": ".py",
   "mimetype": "text/x-python",
   "name": "python",
   "nbconvert_exporter": "python",
   "pygments_lexer": "ipython3",
   "version": "3.5.2"
  }
 },
 "nbformat": 4,
 "nbformat_minor": 2
}
