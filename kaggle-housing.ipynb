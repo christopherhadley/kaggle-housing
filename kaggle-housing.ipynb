{
 "cells": [
  {
   "cell_type": "markdown",
   "metadata": {},
   "source": [
    "# Kaggle: house prices\n",
    "https://www.kaggle.com/c/house-prices-advanced-regression-techniques"
   ]
  },
  {
   "cell_type": "markdown",
   "metadata": {},
   "source": [
    "## Import packages"
   ]
  },
  {
   "cell_type": "code",
   "execution_count": 233,
   "metadata": {
    "collapsed": true
   },
   "outputs": [],
   "source": [
    "# data analysis and wrangling\n",
    "import pandas as pd\n",
    "import numpy as np\n",
    "\n",
    "# visualization\n",
    "import seaborn as sns\n",
    "import matplotlib\n",
    "import matplotlib.pyplot as plt\n",
    "%matplotlib inline\n",
    "\n",
    "# machine learning\n",
    "from scipy.stats.stats import skew\n",
    "from scipy.stats.stats import pearsonr"
   ]
  },
  {
   "cell_type": "markdown",
   "metadata": {},
   "source": [
    "## Import data"
   ]
  },
  {
   "cell_type": "code",
   "execution_count": 234,
   "metadata": {},
   "outputs": [],
   "source": [
    "# Test and training set\n",
    "train = pd.read_csv('train.csv')\n",
    "test = pd.read_csv('test.csv')\n",
    "# Combine into one dataset for the purposes of cleaning, and make sure that index continues\n",
    "data_full = pd.concat([train, test], keys = ['train', 'test'])#ignore_index = True)"
   ]
  },
  {
   "cell_type": "code",
   "execution_count": 235,
   "metadata": {},
   "outputs": [
    {
     "data": {
      "text/html": [
       "<div>\n",
       "<table border=\"1\" class=\"dataframe\">\n",
       "  <thead>\n",
       "    <tr style=\"text-align: right;\">\n",
       "      <th></th>\n",
       "      <th>Id</th>\n",
       "      <th>MSSubClass</th>\n",
       "      <th>MSZoning</th>\n",
       "      <th>LotFrontage</th>\n",
       "      <th>LotArea</th>\n",
       "      <th>Street</th>\n",
       "      <th>Alley</th>\n",
       "      <th>LotShape</th>\n",
       "      <th>LandContour</th>\n",
       "      <th>Utilities</th>\n",
       "      <th>...</th>\n",
       "      <th>PoolArea</th>\n",
       "      <th>PoolQC</th>\n",
       "      <th>Fence</th>\n",
       "      <th>MiscFeature</th>\n",
       "      <th>MiscVal</th>\n",
       "      <th>MoSold</th>\n",
       "      <th>YrSold</th>\n",
       "      <th>SaleType</th>\n",
       "      <th>SaleCondition</th>\n",
       "      <th>SalePrice</th>\n",
       "    </tr>\n",
       "  </thead>\n",
       "  <tbody>\n",
       "    <tr>\n",
       "      <th>0</th>\n",
       "      <td>1</td>\n",
       "      <td>60</td>\n",
       "      <td>RL</td>\n",
       "      <td>65.0</td>\n",
       "      <td>8450</td>\n",
       "      <td>Pave</td>\n",
       "      <td>NaN</td>\n",
       "      <td>Reg</td>\n",
       "      <td>Lvl</td>\n",
       "      <td>AllPub</td>\n",
       "      <td>...</td>\n",
       "      <td>0</td>\n",
       "      <td>NaN</td>\n",
       "      <td>NaN</td>\n",
       "      <td>NaN</td>\n",
       "      <td>0</td>\n",
       "      <td>2</td>\n",
       "      <td>2008</td>\n",
       "      <td>WD</td>\n",
       "      <td>Normal</td>\n",
       "      <td>208500</td>\n",
       "    </tr>\n",
       "    <tr>\n",
       "      <th>1</th>\n",
       "      <td>2</td>\n",
       "      <td>20</td>\n",
       "      <td>RL</td>\n",
       "      <td>80.0</td>\n",
       "      <td>9600</td>\n",
       "      <td>Pave</td>\n",
       "      <td>NaN</td>\n",
       "      <td>Reg</td>\n",
       "      <td>Lvl</td>\n",
       "      <td>AllPub</td>\n",
       "      <td>...</td>\n",
       "      <td>0</td>\n",
       "      <td>NaN</td>\n",
       "      <td>NaN</td>\n",
       "      <td>NaN</td>\n",
       "      <td>0</td>\n",
       "      <td>5</td>\n",
       "      <td>2007</td>\n",
       "      <td>WD</td>\n",
       "      <td>Normal</td>\n",
       "      <td>181500</td>\n",
       "    </tr>\n",
       "    <tr>\n",
       "      <th>2</th>\n",
       "      <td>3</td>\n",
       "      <td>60</td>\n",
       "      <td>RL</td>\n",
       "      <td>68.0</td>\n",
       "      <td>11250</td>\n",
       "      <td>Pave</td>\n",
       "      <td>NaN</td>\n",
       "      <td>IR1</td>\n",
       "      <td>Lvl</td>\n",
       "      <td>AllPub</td>\n",
       "      <td>...</td>\n",
       "      <td>0</td>\n",
       "      <td>NaN</td>\n",
       "      <td>NaN</td>\n",
       "      <td>NaN</td>\n",
       "      <td>0</td>\n",
       "      <td>9</td>\n",
       "      <td>2008</td>\n",
       "      <td>WD</td>\n",
       "      <td>Normal</td>\n",
       "      <td>223500</td>\n",
       "    </tr>\n",
       "  </tbody>\n",
       "</table>\n",
       "<p>3 rows × 81 columns</p>\n",
       "</div>"
      ],
      "text/plain": [
       "   Id  MSSubClass MSZoning  LotFrontage  LotArea Street Alley LotShape  \\\n",
       "0   1          60       RL         65.0     8450   Pave   NaN      Reg   \n",
       "1   2          20       RL         80.0     9600   Pave   NaN      Reg   \n",
       "2   3          60       RL         68.0    11250   Pave   NaN      IR1   \n",
       "\n",
       "  LandContour Utilities    ...     PoolArea PoolQC Fence MiscFeature MiscVal  \\\n",
       "0         Lvl    AllPub    ...            0    NaN   NaN         NaN       0   \n",
       "1         Lvl    AllPub    ...            0    NaN   NaN         NaN       0   \n",
       "2         Lvl    AllPub    ...            0    NaN   NaN         NaN       0   \n",
       "\n",
       "  MoSold YrSold  SaleType  SaleCondition  SalePrice  \n",
       "0      2   2008        WD         Normal     208500  \n",
       "1      5   2007        WD         Normal     181500  \n",
       "2      9   2008        WD         Normal     223500  \n",
       "\n",
       "[3 rows x 81 columns]"
      ]
     },
     "execution_count": 235,
     "metadata": {},
     "output_type": "execute_result"
    }
   ],
   "source": [
    "# What does the dataset look like?\n",
    "train.head(3)"
   ]
  },
  {
   "cell_type": "markdown",
   "metadata": {},
   "source": [
    "## Data cleansing"
   ]
  },
  {
   "cell_type": "markdown",
   "metadata": {},
   "source": [
    "### Dealing with nulls"
   ]
  },
  {
   "cell_type": "code",
   "execution_count": 236,
   "metadata": {
    "scrolled": true
   },
   "outputs": [
    {
     "name": "stdout",
     "output_type": "stream",
     "text": [
      "Col name, Number of nulls, Number of unique values % of nulls\n"
     ]
    },
    {
     "data": {
      "text/plain": [
       "[['PoolQC', 1453, 4, '0.995'],\n",
       " ['MiscFeature', 1406, 5, '0.963'],\n",
       " ['Alley', 1369, 3, '0.938'],\n",
       " ['Fence', 1179, 5, '0.808'],\n",
       " ['FireplaceQu', 690, 6, '0.473'],\n",
       " ['LotFrontage', 259, 111, '0.177'],\n",
       " ['GarageType', 81, 7, '0.055'],\n",
       " ['GarageYrBlt', 81, 98, '0.055'],\n",
       " ['GarageFinish', 81, 4, '0.055'],\n",
       " ['GarageQual', 81, 6, '0.055'],\n",
       " ['GarageCond', 81, 6, '0.055'],\n",
       " ['BsmtExposure', 38, 5, '0.026'],\n",
       " ['BsmtFinType2', 38, 7, '0.026'],\n",
       " ['BsmtQual', 37, 5, '0.025'],\n",
       " ['BsmtCond', 37, 5, '0.025'],\n",
       " ['BsmtFinType1', 37, 7, '0.025'],\n",
       " ['MasVnrType', 8, 5, '0.005'],\n",
       " ['MasVnrArea', 8, 328, '0.005'],\n",
       " ['Electrical', 1, 6, '0.001'],\n",
       " ['Id', 0, 1460, '0.000'],\n",
       " ['MSSubClass', 0, 15, '0.000'],\n",
       " ['MSZoning', 0, 5, '0.000'],\n",
       " ['LotArea', 0, 1073, '0.000'],\n",
       " ['Street', 0, 2, '0.000'],\n",
       " ['LotShape', 0, 4, '0.000'],\n",
       " ['LandContour', 0, 4, '0.000'],\n",
       " ['Utilities', 0, 2, '0.000'],\n",
       " ['LotConfig', 0, 5, '0.000'],\n",
       " ['LandSlope', 0, 3, '0.000'],\n",
       " ['Neighborhood', 0, 25, '0.000'],\n",
       " ['Condition1', 0, 9, '0.000'],\n",
       " ['Condition2', 0, 8, '0.000'],\n",
       " ['BldgType', 0, 5, '0.000'],\n",
       " ['HouseStyle', 0, 8, '0.000'],\n",
       " ['OverallQual', 0, 10, '0.000'],\n",
       " ['OverallCond', 0, 9, '0.000'],\n",
       " ['YearBuilt', 0, 112, '0.000'],\n",
       " ['YearRemodAdd', 0, 61, '0.000'],\n",
       " ['RoofStyle', 0, 6, '0.000'],\n",
       " ['RoofMatl', 0, 8, '0.000'],\n",
       " ['Exterior1st', 0, 15, '0.000'],\n",
       " ['Exterior2nd', 0, 16, '0.000'],\n",
       " ['ExterQual', 0, 4, '0.000'],\n",
       " ['ExterCond', 0, 5, '0.000'],\n",
       " ['Foundation', 0, 6, '0.000'],\n",
       " ['BsmtFinSF1', 0, 637, '0.000'],\n",
       " ['BsmtFinSF2', 0, 144, '0.000'],\n",
       " ['BsmtUnfSF', 0, 780, '0.000'],\n",
       " ['TotalBsmtSF', 0, 721, '0.000'],\n",
       " ['Heating', 0, 6, '0.000'],\n",
       " ['HeatingQC', 0, 5, '0.000'],\n",
       " ['CentralAir', 0, 2, '0.000'],\n",
       " ['1stFlrSF', 0, 753, '0.000'],\n",
       " ['2ndFlrSF', 0, 417, '0.000'],\n",
       " ['LowQualFinSF', 0, 24, '0.000'],\n",
       " ['GrLivArea', 0, 861, '0.000'],\n",
       " ['BsmtFullBath', 0, 4, '0.000'],\n",
       " ['BsmtHalfBath', 0, 3, '0.000'],\n",
       " ['FullBath', 0, 4, '0.000'],\n",
       " ['HalfBath', 0, 3, '0.000'],\n",
       " ['BedroomAbvGr', 0, 8, '0.000'],\n",
       " ['KitchenAbvGr', 0, 4, '0.000'],\n",
       " ['KitchenQual', 0, 4, '0.000'],\n",
       " ['TotRmsAbvGrd', 0, 12, '0.000'],\n",
       " ['Functional', 0, 7, '0.000'],\n",
       " ['Fireplaces', 0, 4, '0.000'],\n",
       " ['GarageCars', 0, 5, '0.000'],\n",
       " ['GarageArea', 0, 441, '0.000'],\n",
       " ['PavedDrive', 0, 3, '0.000'],\n",
       " ['WoodDeckSF', 0, 274, '0.000'],\n",
       " ['OpenPorchSF', 0, 202, '0.000'],\n",
       " ['EnclosedPorch', 0, 120, '0.000'],\n",
       " ['3SsnPorch', 0, 20, '0.000'],\n",
       " ['ScreenPorch', 0, 76, '0.000'],\n",
       " ['PoolArea', 0, 8, '0.000'],\n",
       " ['MiscVal', 0, 21, '0.000'],\n",
       " ['MoSold', 0, 12, '0.000'],\n",
       " ['YrSold', 0, 5, '0.000'],\n",
       " ['SaleType', 0, 9, '0.000'],\n",
       " ['SaleCondition', 0, 6, '0.000'],\n",
       " ['SalePrice', 0, 663, '0.000']]"
      ]
     },
     "execution_count": 236,
     "metadata": {},
     "output_type": "execute_result"
    }
   ],
   "source": [
    "# Count the uniques for each column for a given dataframe\n",
    "def df_uniques(df):\n",
    "    print('Col name,', 'Number of nulls,', 'Number of unique values', '% of nulls')\n",
    "    list_of_features = []\n",
    "    for col in df:\n",
    "        l = [col, df[col].shape[0] - df[col].count(), df[col].unique().shape[0], '%.3f' %((df[col].shape[0] - df[col].count()) / df[col].shape[0])]\n",
    "        list_of_features.append(l)\n",
    "    # Sort by the number of NULLs: \n",
    "    list_of_features = sorted(list_of_features, key = lambda x: x[1], reverse = True)\n",
    "    return list_of_features\n",
    "\n",
    "df_uniques(train)"
   ]
  },
  {
   "cell_type": "code",
   "execution_count": 237,
   "metadata": {
    "collapsed": true
   },
   "outputs": [],
   "source": [
    "# The following features have a crazy number of nulls \n",
    "# PoolQC, MiscFeature, Alley, Fence, FireplaceQu, LotFrontage \n",
    "\n",
    "# From looking at the data dictionary, these NAs are not necessarily a problem - but \"NA\" or nUll is misleading, so let's replace them\n",
    "# Alley: NA = no alley -> replace with \"None\"\n",
    "# MiscFeature: other features (e.g. tennis court) - NA = no other feature -> replace with \"None\"\n",
    "# Fence: NA = no fence -> replace with \"None\"\n",
    "# FireplaceQu: you guessed it -> replace with \"None\""
   ]
  },
  {
   "cell_type": "code",
   "execution_count": 238,
   "metadata": {
    "scrolled": true
   },
   "outputs": [
    {
     "name": "stdout",
     "output_type": "stream",
     "text": [
      "['Alley', 'BsmtCond', 'BsmtExposure', 'BsmtFinSF1', 'BsmtFinSF2', 'BsmtFinType1', 'BsmtFinType2', 'BsmtFullBath', 'BsmtHalfBath', 'BsmtQual', 'BsmtUnfSF', 'Electrical', 'Exterior1st', 'Exterior2nd', 'Fence', 'FireplaceQu', 'Functional', 'GarageArea', 'GarageCars', 'GarageCond', 'GarageFinish', 'GarageQual', 'GarageType', 'GarageYrBlt', 'KitchenQual', 'LotFrontage', 'MSZoning', 'MasVnrArea', 'MasVnrType', 'MiscFeature', 'PoolQC', 'SalePrice', 'SaleType', 'TotalBsmtSF', 'Utilities']\n"
     ]
    }
   ],
   "source": [
    "# Let's get a neat list of the null columns - need to combine both datasets for this\n",
    "null_columns = [col for col in data_full.columns if data_full[col].isnull().any()]\n",
    "print(null_columns)"
   ]
  },
  {
   "cell_type": "code",
   "execution_count": 239,
   "metadata": {},
   "outputs": [],
   "source": [
    "# Define a function to replace nulls for many columns: \n",
    "def fill_nulls(df, col_list, na_val):\n",
    "    for col in col_list:\n",
    "        df[col].fillna(value = na_val, inplace = True)\n",
    "    return df"
   ]
  },
  {
   "cell_type": "code",
   "execution_count": 240,
   "metadata": {},
   "outputs": [],
   "source": [
    "# Categorical fields with an obvious meaning NA -> 'None'\n",
    "nulls_to_none = ['PoolQC', 'Fence', 'MiscFeature', 'Alley', 'FireplaceQu', 'MasVnrType', 'BsmtCond', \n",
    "                 'BsmtExposure', 'BsmtFinType1', 'BsmtFinType2', 'Electrical', 'GarageType', 'GarageFinish', \n",
    "                 'GarageQual', 'GarageCond', 'KitchenQual']\n",
    "# Numerical fields with an obvious meaning NA -> 0\n",
    "nulls_to_zero = ['LotFrontage', 'MasVnrArea', 'BsmtQual', 'GarageYrBlt', 'BsmtFinSF1', 'BsmtFinSF2', 'BsmtFullBath', \n",
    "                 'BsmtHalfBath', 'BsmtUnfSF', 'GarageArea', 'GarageCars', 'TotalBsmtSF']\n",
    "\n",
    "# Categorical fields with a less obvious interpretation - guessing that NA means 'None' (there are very few anyway)\n",
    "nulls_to_zero_2 = ['MSZoning', 'Utilities', 'Exterior1st', 'Exterior2nd']\n",
    "nulls_to_other = ['SaleType', 'Functional']\n",
    "\n",
    "# Apply to both test and training sets:\n",
    "for df in [train, test]: \n",
    "    fill_nulls(df, nulls_to_none, 'None')\n",
    "    fill_nulls(df, nulls_to_zero, 0)\n",
    "    fill_nulls(df, nulls_to_zero_2, 0)\n",
    "    fill_nulls(df, nulls_to_other, 'Other')\n",
    "# NB we still have 'data_full' which has not been updated yet"
   ]
  },
  {
   "cell_type": "code",
   "execution_count": 241,
   "metadata": {
    "collapsed": true
   },
   "outputs": [],
   "source": [
    "# Add more here about infilling with median values for some fields...."
   ]
  },
  {
   "cell_type": "markdown",
   "metadata": {},
   "source": [
    "### Data types\n",
    "Let's make sure everything is in the correct data type.  Pandas will have a go at importing things correctly, but this is good practice to make sure that things haven't gone awry. Ultimately we'll want to use dummy variables for categorical data anyway."
   ]
  },
  {
   "cell_type": "code",
   "execution_count": 242,
   "metadata": {
    "scrolled": true
   },
   "outputs": [],
   "source": [
    "# Print out data types\n",
    "def data_types(df):\n",
    "    for col in df:\n",
    "        print(col, type(df[col][1]))   "
   ]
  },
  {
   "cell_type": "code",
   "execution_count": 243,
   "metadata": {
    "scrolled": true
   },
   "outputs": [
    {
     "name": "stdout",
     "output_type": "stream",
     "text": [
      "Id <class 'numpy.int64'>\n",
      "MSSubClass <class 'numpy.int64'>\n",
      "MSZoning <class 'str'>\n",
      "LotFrontage <class 'numpy.float64'>\n",
      "LotArea <class 'numpy.int64'>\n",
      "Street <class 'str'>\n",
      "Alley <class 'str'>\n",
      "LotShape <class 'str'>\n",
      "LandContour <class 'str'>\n",
      "Utilities <class 'str'>\n",
      "LotConfig <class 'str'>\n",
      "LandSlope <class 'str'>\n",
      "Neighborhood <class 'str'>\n",
      "Condition1 <class 'str'>\n",
      "Condition2 <class 'str'>\n",
      "BldgType <class 'str'>\n",
      "HouseStyle <class 'str'>\n",
      "OverallQual <class 'numpy.int64'>\n",
      "OverallCond <class 'numpy.int64'>\n",
      "YearBuilt <class 'numpy.int64'>\n",
      "YearRemodAdd <class 'numpy.int64'>\n",
      "RoofStyle <class 'str'>\n",
      "RoofMatl <class 'str'>\n",
      "Exterior1st <class 'str'>\n",
      "Exterior2nd <class 'str'>\n",
      "MasVnrType <class 'str'>\n",
      "MasVnrArea <class 'numpy.float64'>\n",
      "ExterQual <class 'str'>\n",
      "ExterCond <class 'str'>\n",
      "Foundation <class 'str'>\n",
      "BsmtQual <class 'str'>\n",
      "BsmtCond <class 'str'>\n",
      "BsmtExposure <class 'str'>\n",
      "BsmtFinType1 <class 'str'>\n",
      "BsmtFinSF1 <class 'numpy.int64'>\n",
      "BsmtFinType2 <class 'str'>\n",
      "BsmtFinSF2 <class 'numpy.int64'>\n",
      "BsmtUnfSF <class 'numpy.int64'>\n",
      "TotalBsmtSF <class 'numpy.int64'>\n",
      "Heating <class 'str'>\n",
      "HeatingQC <class 'str'>\n",
      "CentralAir <class 'str'>\n",
      "Electrical <class 'str'>\n",
      "1stFlrSF <class 'numpy.int64'>\n",
      "2ndFlrSF <class 'numpy.int64'>\n",
      "LowQualFinSF <class 'numpy.int64'>\n",
      "GrLivArea <class 'numpy.int64'>\n",
      "BsmtFullBath <class 'numpy.int64'>\n",
      "BsmtHalfBath <class 'numpy.int64'>\n",
      "FullBath <class 'numpy.int64'>\n",
      "HalfBath <class 'numpy.int64'>\n",
      "BedroomAbvGr <class 'numpy.int64'>\n",
      "KitchenAbvGr <class 'numpy.int64'>\n",
      "KitchenQual <class 'str'>\n",
      "TotRmsAbvGrd <class 'numpy.int64'>\n",
      "Functional <class 'str'>\n",
      "Fireplaces <class 'numpy.int64'>\n",
      "FireplaceQu <class 'str'>\n",
      "GarageType <class 'str'>\n",
      "GarageYrBlt <class 'numpy.float64'>\n",
      "GarageFinish <class 'str'>\n",
      "GarageCars <class 'numpy.int64'>\n",
      "GarageArea <class 'numpy.int64'>\n",
      "GarageQual <class 'str'>\n",
      "GarageCond <class 'str'>\n",
      "PavedDrive <class 'str'>\n",
      "WoodDeckSF <class 'numpy.int64'>\n",
      "OpenPorchSF <class 'numpy.int64'>\n",
      "EnclosedPorch <class 'numpy.int64'>\n",
      "3SsnPorch <class 'numpy.int64'>\n",
      "ScreenPorch <class 'numpy.int64'>\n",
      "PoolArea <class 'numpy.int64'>\n",
      "PoolQC <class 'str'>\n",
      "Fence <class 'str'>\n",
      "MiscFeature <class 'str'>\n",
      "MiscVal <class 'numpy.int64'>\n",
      "MoSold <class 'numpy.int64'>\n",
      "YrSold <class 'numpy.int64'>\n",
      "SaleType <class 'str'>\n",
      "SaleCondition <class 'str'>\n",
      "SalePrice <class 'numpy.int64'>\n"
     ]
    }
   ],
   "source": [
    "data_types(train)"
   ]
  },
  {
   "cell_type": "code",
   "execution_count": 244,
   "metadata": {},
   "outputs": [],
   "source": [
    "# By pasting the above list into a spreadsheet and cross checking with the data dictionary, we can \n",
    "# see which category each field should be\n",
    "\n",
    "# statsmodel requires all fieldsnames to begin with letters, so let's sort this out now.\n",
    "train = train.rename(columns = {'1stFlrSF': 'FirstFlrSF','2ndFlrSF': 'SecondFlrSF','3SsnPorch': 'ThreeSsnPorch'})\n",
    "test = test.rename(columns = {'1stFlrSF': 'FirstFlrSF','2ndFlrSF': 'SecondFlrSF','3SsnPorch': 'ThreeSsnPorch'})\n",
    "data_full = pd.concat([train, test], keys = ['train', 'test'])\n",
    "\n",
    "# Makes lists of each type\n",
    "categories = ['MSSubClass', 'MSZoning', 'Street', 'Alley', 'LotShape', 'LandContour', 'Utilities', 'LotConfig', \n",
    "              'LandSlope', 'Neighborhood', 'Condition1', 'Condition2', 'BldgType', 'HouseStyle', 'YearBuilt', \n",
    "              'YearRemodAdd', 'RoofStyle', 'RoofMatl', 'Exterior1st', 'Exterior2nd', 'MasVnrType', 'ExterQual', \n",
    "              'ExterCond', 'Foundation', 'BsmtQual', 'BsmtCond', 'BsmtExposure', 'BsmtFinType2', 'Heating', \n",
    "              'HeatingQC', 'Electrical', 'KitchenQual', 'Functional', 'FireplaceQu', 'GarageType', 'GarageYrBlt', \n",
    "              'GarageFinish', 'GarageCars', 'PoolQC', 'Fence', 'MiscFeature', 'MoSold', 'YrSold', 'SaleType', \n",
    "              'SaleCondition']\n",
    "floats = ['LotFrontage', 'LotArea', 'MasVnrArea', 'BsmtFinSF1', 'BsmtFinSF2', 'BsmtUnfSF', 'TotalBsmtSF', \n",
    "          'FirstFlrSF', 'SecondFlrSF', 'LowQualFinSF', 'GrLivArea', 'GarageArea', 'WoodDeckSF', 'OpenPorchSF', \n",
    "          'EnclosedPorch', 'ThreeSsnPorch', 'ScreenPorch', 'PoolArea', 'MiscVal']\n",
    "\n",
    "ints = ['OverallQual', 'OverallCond', 'BsmtFullBath', 'BsmtHalfBath', 'FullBath', \n",
    "         'BedroomAbvGr', 'KitchenAbvGr', 'TotRmsAbvGrd', 'Fireplaces']\n",
    "\n",
    "bools = ['CentralAir']\n",
    "\n",
    "# Define a function for converting a list of columns to a particular type: \n",
    "def convert_col_type(df, cols, type):\n",
    "    for col in cols:\n",
    "        df[col] = df[col].astype(type)"
   ]
  },
  {
   "cell_type": "code",
   "execution_count": 245,
   "metadata": {
    "scrolled": true
   },
   "outputs": [],
   "source": [
    "# Convert each column for both test and training sets:\n",
    "for df in [train, test]:\n",
    "    convert_col_type(df, categories, 'category')\n",
    "    convert_col_type(df, floats, 'float')\n",
    "    convert_col_type(df, ints, 'int')\n",
    "    convert_col_type(df, bools, 'bool')\n",
    "    \n",
    "# Re-define the full dataset\n",
    "data_full = pd.concat([train, test], keys = ['train', 'test'])"
   ]
  },
  {
   "cell_type": "code",
   "execution_count": 246,
   "metadata": {
    "scrolled": true
   },
   "outputs": [
    {
     "name": "stdout",
     "output_type": "stream",
     "text": [
      "Id <class 'numpy.int64'>\n",
      "MSSubClass <class 'numpy.int64'>\n",
      "MSZoning <class 'str'>\n",
      "LotFrontage <class 'numpy.float64'>\n",
      "LotArea <class 'numpy.float64'>\n",
      "Street <class 'str'>\n",
      "Alley <class 'str'>\n",
      "LotShape <class 'str'>\n",
      "LandContour <class 'str'>\n",
      "Utilities <class 'str'>\n",
      "LotConfig <class 'str'>\n",
      "LandSlope <class 'str'>\n",
      "Neighborhood <class 'str'>\n",
      "Condition1 <class 'str'>\n",
      "Condition2 <class 'str'>\n",
      "BldgType <class 'str'>\n",
      "HouseStyle <class 'str'>\n",
      "OverallQual <class 'numpy.int64'>\n",
      "OverallCond <class 'numpy.int64'>\n",
      "YearBuilt <class 'numpy.int64'>\n",
      "YearRemodAdd <class 'numpy.int64'>\n",
      "RoofStyle <class 'str'>\n",
      "RoofMatl <class 'str'>\n",
      "Exterior1st <class 'str'>\n",
      "Exterior2nd <class 'str'>\n",
      "MasVnrType <class 'str'>\n",
      "MasVnrArea <class 'numpy.float64'>\n",
      "ExterQual <class 'str'>\n",
      "ExterCond <class 'str'>\n",
      "Foundation <class 'str'>\n",
      "BsmtQual <class 'str'>\n",
      "BsmtCond <class 'str'>\n",
      "BsmtExposure <class 'str'>\n",
      "BsmtFinType1 <class 'str'>\n",
      "BsmtFinSF1 <class 'numpy.float64'>\n",
      "BsmtFinType2 <class 'str'>\n",
      "BsmtFinSF2 <class 'numpy.float64'>\n",
      "BsmtUnfSF <class 'numpy.float64'>\n",
      "TotalBsmtSF <class 'numpy.float64'>\n",
      "Heating <class 'str'>\n",
      "HeatingQC <class 'str'>\n",
      "CentralAir <class 'numpy.bool_'>\n",
      "Electrical <class 'str'>\n",
      "FirstFlrSF <class 'numpy.float64'>\n",
      "SecondFlrSF <class 'numpy.float64'>\n",
      "LowQualFinSF <class 'numpy.float64'>\n",
      "GrLivArea <class 'numpy.float64'>\n",
      "BsmtFullBath <class 'numpy.int64'>\n",
      "BsmtHalfBath <class 'numpy.int64'>\n",
      "FullBath <class 'numpy.int64'>\n",
      "HalfBath <class 'numpy.int64'>\n",
      "BedroomAbvGr <class 'numpy.int64'>\n",
      "KitchenAbvGr <class 'numpy.int64'>\n",
      "KitchenQual <class 'str'>\n",
      "TotRmsAbvGrd <class 'numpy.int64'>\n",
      "Functional <class 'str'>\n",
      "Fireplaces <class 'numpy.int64'>\n",
      "FireplaceQu <class 'str'>\n",
      "GarageType <class 'str'>\n",
      "GarageYrBlt <class 'numpy.float64'>\n",
      "GarageFinish <class 'str'>\n",
      "GarageCars <class 'numpy.int64'>\n",
      "GarageArea <class 'numpy.float64'>\n",
      "GarageQual <class 'str'>\n",
      "GarageCond <class 'str'>\n",
      "PavedDrive <class 'str'>\n",
      "WoodDeckSF <class 'numpy.float64'>\n",
      "OpenPorchSF <class 'numpy.float64'>\n",
      "EnclosedPorch <class 'numpy.float64'>\n",
      "ThreeSsnPorch <class 'numpy.float64'>\n",
      "ScreenPorch <class 'numpy.float64'>\n",
      "PoolArea <class 'numpy.float64'>\n",
      "PoolQC <class 'str'>\n",
      "Fence <class 'str'>\n",
      "MiscFeature <class 'str'>\n",
      "MiscVal <class 'numpy.float64'>\n",
      "MoSold <class 'numpy.int64'>\n",
      "YrSold <class 'numpy.int64'>\n",
      "SaleType <class 'str'>\n",
      "SaleCondition <class 'str'>\n",
      "SalePrice <class 'numpy.int64'>\n"
     ]
    }
   ],
   "source": [
    "# Print out data types\n",
    "def data_types(df):\n",
    "    for col in df:\n",
    "        print(col, type(df[col][1]))   \n",
    "data_types(train)"
   ]
  },
  {
   "cell_type": "markdown",
   "metadata": {},
   "source": [
    "## Motivating plots"
   ]
  },
  {
   "cell_type": "code",
   "execution_count": 247,
   "metadata": {
    "scrolled": false
   },
   "outputs": [
    {
     "data": {
      "image/png": "[encoded data removed]",
      "text/plain": [
       "<matplotlib.figure.Figure at 0x1184df9b0>"
      ]
     },
     "metadata": {},
     "output_type": "display_data"
    }
   ],
   "source": [
    "sales_price = train['SalePrice']\n",
    "graph = sns.distplot(sales_price)"
   ]
  },
  {
   "cell_type": "code",
   "execution_count": 248,
   "metadata": {},
   "outputs": [
    {
     "data": {
      "image/png": "[encoded data removed]",
      "text/plain": [
       "<matplotlib.figure.Figure at 0x1205f5e10>"
      ]
     },
     "metadata": {},
     "output_type": "display_data"
    }
   ],
   "source": [
    "# Let's log-tranform this: \n",
    "sales_prices_log = np.log1p(sales_price)\n",
    "graph = sns.distplot(sales_prices_log)"
   ]
  },
  {
   "cell_type": "code",
   "execution_count": 249,
   "metadata": {},
   "outputs": [],
   "source": [
    "# Let's replace the SalePrice with the log-transformed version (will need to exponentiate predictions)\n",
    "train['SalePrice'] = np.log1p(train['SalePrice'])"
   ]
  },
  {
   "cell_type": "code",
   "execution_count": 250,
   "metadata": {
    "collapsed": true
   },
   "outputs": [],
   "source": [
    "# Re-define the full dataset - and work on this until we are ready to split out test and train sets again\n",
    "data_full = pd.concat([train, test], keys = ['train', 'test'])"
   ]
  },
  {
   "cell_type": "code",
   "execution_count": 251,
   "metadata": {},
   "outputs": [
    {
     "data": {
      "text/plain": [
       "LotArea          12.822431\n",
       "MasVnrArea        2.613592\n",
       "BsmtFinSF1        1.425230\n",
       "BsmtFinSF2        4.146143\n",
       "BsmtUnfSF         0.919339\n",
       "TotalBsmtSF       1.156894\n",
       "FirstFlrSF        1.469604\n",
       "SecondFlrSF       0.861675\n",
       "LowQualFinSF     12.088761\n",
       "GrLivArea         1.269358\n",
       "WoodDeckSF        1.842433\n",
       "OpenPorchSF       2.535114\n",
       "EnclosedPorch     4.003891\n",
       "ThreeSsnPorch    11.376065\n",
       "ScreenPorch       3.946694\n",
       "PoolArea         16.898328\n",
       "MiscVal          21.947195\n",
       "dtype: float64"
      ]
     },
     "execution_count": 251,
     "metadata": {},
     "output_type": "execute_result"
    }
   ],
   "source": [
    "# Let's see if any other features are skewed and replace these with log-transformed versions if so  \n",
    "skewed_features = data_full[floats].apply(lambda x: skew(x.dropna()))\n",
    "skewed_features = skewed_features[skewed_features > 0.75]\n",
    "skewed_features"
   ]
  },
  {
   "cell_type": "code",
   "execution_count": 252,
   "metadata": {},
   "outputs": [],
   "source": [
    "skewed_features = skewed_features.index"
   ]
  },
  {
   "cell_type": "code",
   "execution_count": 253,
   "metadata": {},
   "outputs": [
    {
     "name": "stdout",
     "output_type": "stream",
     "text": [
      "LotArea\n",
      "MasVnrArea\n",
      "BsmtFinSF1\n",
      "BsmtFinSF2\n",
      "BsmtUnfSF\n",
      "TotalBsmtSF\n",
      "FirstFlrSF\n",
      "SecondFlrSF\n",
      "LowQualFinSF\n",
      "GrLivArea\n",
      "WoodDeckSF\n",
      "OpenPorchSF\n",
      "EnclosedPorch\n",
      "ThreeSsnPorch\n",
      "ScreenPorch\n",
      "PoolArea\n",
      "MiscVal\n"
     ]
    }
   ],
   "source": [
    "#data_full[skewed_features] = np.log1p(data_full[skewed_features])\n",
    "for col in skewed_features:\n",
    "    print(col)\n",
    "    data_full[col] = np.log1p(data_full[col])"
   ]
  },
  {
   "cell_type": "code",
   "execution_count": 255,
   "metadata": {},
   "outputs": [
    {
     "data": {
      "text/plain": [
       "train  0       0.000000\n",
       "       1       0.000000\n",
       "       2       0.000000\n",
       "       3       0.000000\n",
       "       4       0.000000\n",
       "       5       6.552508\n",
       "       6       0.000000\n",
       "       7       5.860786\n",
       "       8       0.000000\n",
       "       9       0.000000\n",
       "       10      0.000000\n",
       "       11      0.000000\n",
       "       12      0.000000\n",
       "       13      0.000000\n",
       "       14      0.000000\n",
       "       15      0.000000\n",
       "       16      6.552508\n",
       "       17      6.216606\n",
       "       18      0.000000\n",
       "       19      0.000000\n",
       "       20      0.000000\n",
       "       21      0.000000\n",
       "       22      0.000000\n",
       "       23      0.000000\n",
       "       24      0.000000\n",
       "       25      0.000000\n",
       "       26      0.000000\n",
       "       27      0.000000\n",
       "       28      0.000000\n",
       "       29      0.000000\n",
       "                 ...   \n",
       "test   1429    0.000000\n",
       "       1430    0.000000\n",
       "       1431    0.000000\n",
       "       1432    0.000000\n",
       "       1433    0.000000\n",
       "       1434    0.000000\n",
       "       1435    0.000000\n",
       "       1436    0.000000\n",
       "       1437    0.000000\n",
       "       1438    0.000000\n",
       "       1439    0.000000\n",
       "       1440    0.000000\n",
       "       1441    0.000000\n",
       "       1442    0.000000\n",
       "       1443    0.000000\n",
       "       1444    0.000000\n",
       "       1445    0.000000\n",
       "       1446    0.000000\n",
       "       1447    0.000000\n",
       "       1448    0.000000\n",
       "       1449    0.000000\n",
       "       1450    0.000000\n",
       "       1451    0.000000\n",
       "       1452    0.000000\n",
       "       1453    0.000000\n",
       "       1454    0.000000\n",
       "       1455    0.000000\n",
       "       1456    0.000000\n",
       "       1457    6.552508\n",
       "       1458    0.000000\n",
       "Name: MiscVal, dtype: float64"
      ]
     },
     "execution_count": 255,
     "metadata": {},
     "output_type": "execute_result"
    }
   ],
   "source": [
    "data_full['MiscVal']"
   ]
  },
  {
   "cell_type": "markdown",
   "metadata": {},
   "source": [
    "## Standardising numeric features"
   ]
  },
  {
   "cell_type": "code",
   "execution_count": 256,
   "metadata": {
    "scrolled": true
   },
   "outputs": [],
   "source": [
    "# Standardise numeric features (normalise)\n",
    "numeric_features = data_full.loc[:,floats]\n",
    "numeric_features_st = (numeric_features - numeric_features.mean())/numeric_features.std()"
   ]
  },
  {
   "cell_type": "code",
   "execution_count": 257,
   "metadata": {
    "collapsed": true
   },
   "outputs": [],
   "source": [
    "data_full.loc[:,floats] = numeric_features_st"
   ]
  },
  {
   "cell_type": "code",
   "execution_count": 258,
   "metadata": {},
   "outputs": [
    {
     "name": "stderr",
     "output_type": "stream",
     "text": [
      "IOPub data rate exceeded.\n",
      "The notebook server will temporarily stop sending output\n",
      "to the client in order to avoid crashing it.\n",
      "To change this limit, set the config variable\n",
      "`--NotebookApp.iopub_data_rate_limit`.\n"
     ]
    }
   ],
   "source": [
    "ax = sns.pairplot(numeric_features_st)\n",
    "# ax.savefig('charts_complete.png')"
   ]
  },
  {
   "cell_type": "code",
   "execution_count": 259,
   "metadata": {},
   "outputs": [],
   "source": [
    "# Too many variables!  "
   ]
  },
  {
   "cell_type": "markdown",
   "metadata": {},
   "source": [
    "### Split test-train sets again"
   ]
  },
  {
   "cell_type": "code",
   "execution_count": 260,
   "metadata": {},
   "outputs": [],
   "source": [
    "# First, create dummy variables for categorical variables\n",
    "dummy = pd.get_dummies(train)\n",
    "# split out the test and train sets again\n",
    "train = data_full.ix['train']\n",
    "test = data_full.ix['test']"
   ]
  },
  {
   "cell_type": "markdown",
   "metadata": {},
   "source": [
    "## Linear regression, backward elimination"
   ]
  },
  {
   "cell_type": "code",
   "execution_count": 261,
   "metadata": {
    "scrolled": true
   },
   "outputs": [
    {
     "data": {
      "text/html": [
       "<table class=\"simpletable\">\n",
       "<caption>OLS Regression Results</caption>\n",
       "<tr>\n",
       "  <th>Dep. Variable:</th>        <td>SalePrice</td>    <th>  R-squared:         </th> <td>   0.861</td>\n",
       "</tr>\n",
       "<tr>\n",
       "  <th>Model:</th>                   <td>OLS</td>       <th>  Adj. R-squared:    </th> <td>   0.859</td>\n",
       "</tr>\n",
       "<tr>\n",
       "  <th>Method:</th>             <td>Least Squares</td>  <th>  F-statistic:       </th> <td>   317.8</td>\n",
       "</tr>\n",
       "<tr>\n",
       "  <th>Date:</th>             <td>Thu, 27 Apr 2017</td> <th>  Prob (F-statistic):</th>  <td>  0.00</td> \n",
       "</tr>\n",
       "<tr>\n",
       "  <th>Time:</th>                 <td>15:26:30</td>     <th>  Log-Likelihood:    </th> <td>  711.65</td>\n",
       "</tr>\n",
       "<tr>\n",
       "  <th>No. Observations:</th>      <td>  1460</td>      <th>  AIC:               </th> <td>  -1365.</td>\n",
       "</tr>\n",
       "<tr>\n",
       "  <th>Df Residuals:</th>          <td>  1431</td>      <th>  BIC:               </th> <td>  -1212.</td>\n",
       "</tr>\n",
       "<tr>\n",
       "  <th>Df Model:</th>              <td>    28</td>      <th>                     </th>     <td> </td>   \n",
       "</tr>\n",
       "<tr>\n",
       "  <th>Covariance Type:</th>      <td>nonrobust</td>    <th>                     </th>     <td> </td>   \n",
       "</tr>\n",
       "</table>\n",
       "<table class=\"simpletable\">\n",
       "<tr>\n",
       "        <td></td>           <th>coef</th>     <th>std err</th>      <th>t</th>      <th>P>|t|</th>  <th>[0.025</th>    <th>0.975]</th>  \n",
       "</tr>\n",
       "<tr>\n",
       "  <th>Intercept</th>     <td>   11.1741</td> <td>    0.053</td> <td>  210.516</td> <td> 0.000</td> <td>   11.070</td> <td>   11.278</td>\n",
       "</tr>\n",
       "<tr>\n",
       "  <th>LotFrontage</th>   <td>   -0.0055</td> <td>    0.004</td> <td>   -1.346</td> <td> 0.179</td> <td>   -0.014</td> <td>    0.003</td>\n",
       "</tr>\n",
       "<tr>\n",
       "  <th>LotArea</th>       <td>    0.0407</td> <td>    0.005</td> <td>    8.332</td> <td> 0.000</td> <td>    0.031</td> <td>    0.050</td>\n",
       "</tr>\n",
       "<tr>\n",
       "  <th>MasVnrArea</th>    <td>    0.0009</td> <td>    0.005</td> <td>    0.200</td> <td> 0.841</td> <td>   -0.008</td> <td>    0.010</td>\n",
       "</tr>\n",
       "<tr>\n",
       "  <th>BsmtFinSF1</th>    <td>    0.0302</td> <td>    0.006</td> <td>    5.378</td> <td> 0.000</td> <td>    0.019</td> <td>    0.041</td>\n",
       "</tr>\n",
       "<tr>\n",
       "  <th>BsmtFinSF2</th>    <td>   -0.0074</td> <td>    0.004</td> <td>   -1.657</td> <td> 0.098</td> <td>   -0.016</td> <td>    0.001</td>\n",
       "</tr>\n",
       "<tr>\n",
       "  <th>BsmtUnfSF</th>     <td>   -0.0016</td> <td>    0.006</td> <td>   -0.262</td> <td> 0.793</td> <td>   -0.013</td> <td>    0.010</td>\n",
       "</tr>\n",
       "<tr>\n",
       "  <th>TotalBsmtSF</th>   <td>    0.0141</td> <td>    0.006</td> <td>    2.291</td> <td> 0.022</td> <td>    0.002</td> <td>    0.026</td>\n",
       "</tr>\n",
       "<tr>\n",
       "  <th>FirstFlrSF</th>    <td>   -0.0585</td> <td>    0.016</td> <td>   -3.697</td> <td> 0.000</td> <td>   -0.090</td> <td>   -0.027</td>\n",
       "</tr>\n",
       "<tr>\n",
       "  <th>SecondFlrSF</th>   <td>   -0.0966</td> <td>    0.016</td> <td>   -6.126</td> <td> 0.000</td> <td>   -0.128</td> <td>   -0.066</td>\n",
       "</tr>\n",
       "<tr>\n",
       "  <th>LowQualFinSF</th>  <td>   -0.0211</td> <td>    0.004</td> <td>   -5.446</td> <td> 0.000</td> <td>   -0.029</td> <td>   -0.013</td>\n",
       "</tr>\n",
       "<tr>\n",
       "  <th>GrLivArea</th>     <td>    0.2034</td> <td>    0.020</td> <td>   10.206</td> <td> 0.000</td> <td>    0.164</td> <td>    0.242</td>\n",
       "</tr>\n",
       "<tr>\n",
       "  <th>GarageArea</th>    <td>    0.0495</td> <td>    0.005</td> <td>    9.211</td> <td> 0.000</td> <td>    0.039</td> <td>    0.060</td>\n",
       "</tr>\n",
       "<tr>\n",
       "  <th>WoodDeckSF</th>    <td>    0.0195</td> <td>    0.004</td> <td>    4.519</td> <td> 0.000</td> <td>    0.011</td> <td>    0.028</td>\n",
       "</tr>\n",
       "<tr>\n",
       "  <th>OpenPorchSF</th>   <td>    0.0108</td> <td>    0.005</td> <td>    2.338</td> <td> 0.020</td> <td>    0.002</td> <td>    0.020</td>\n",
       "</tr>\n",
       "<tr>\n",
       "  <th>EnclosedPorch</th> <td>   -0.0193</td> <td>    0.004</td> <td>   -4.483</td> <td> 0.000</td> <td>   -0.028</td> <td>   -0.011</td>\n",
       "</tr>\n",
       "<tr>\n",
       "  <th>ThreeSsnPorch</th> <td>    0.0029</td> <td>    0.004</td> <td>    0.836</td> <td> 0.404</td> <td>   -0.004</td> <td>    0.010</td>\n",
       "</tr>\n",
       "<tr>\n",
       "  <th>ScreenPorch</th>   <td>    0.0091</td> <td>    0.004</td> <td>    2.133</td> <td> 0.033</td> <td>    0.001</td> <td>    0.018</td>\n",
       "</tr>\n",
       "<tr>\n",
       "  <th>PoolArea</th>      <td>   -0.0098</td> <td>    0.004</td> <td>   -2.585</td> <td> 0.010</td> <td>   -0.017</td> <td>   -0.002</td>\n",
       "</tr>\n",
       "<tr>\n",
       "  <th>MiscVal</th>       <td>   -0.0083</td> <td>    0.004</td> <td>   -2.038</td> <td> 0.042</td> <td>   -0.016</td> <td>   -0.000</td>\n",
       "</tr>\n",
       "<tr>\n",
       "  <th>OverallQual</th>   <td>    0.1089</td> <td>    0.005</td> <td>   22.781</td> <td> 0.000</td> <td>    0.100</td> <td>    0.118</td>\n",
       "</tr>\n",
       "<tr>\n",
       "  <th>OverallCond</th>   <td>    0.0331</td> <td>    0.004</td> <td>    8.802</td> <td> 0.000</td> <td>    0.026</td> <td>    0.041</td>\n",
       "</tr>\n",
       "<tr>\n",
       "  <th>BsmtFullBath</th>  <td>    0.0495</td> <td>    0.011</td> <td>    4.696</td> <td> 0.000</td> <td>    0.029</td> <td>    0.070</td>\n",
       "</tr>\n",
       "<tr>\n",
       "  <th>BsmtHalfBath</th>  <td>    0.0104</td> <td>    0.018</td> <td>    0.593</td> <td> 0.553</td> <td>   -0.024</td> <td>    0.045</td>\n",
       "</tr>\n",
       "<tr>\n",
       "  <th>FullBath</th>      <td>    0.0784</td> <td>    0.011</td> <td>    7.393</td> <td> 0.000</td> <td>    0.058</td> <td>    0.099</td>\n",
       "</tr>\n",
       "<tr>\n",
       "  <th>BedroomAbvGr</th>  <td>   -0.0241</td> <td>    0.007</td> <td>   -3.309</td> <td> 0.001</td> <td>   -0.038</td> <td>   -0.010</td>\n",
       "</tr>\n",
       "<tr>\n",
       "  <th>KitchenAbvGr</th>  <td>   -0.1377</td> <td>    0.021</td> <td>   -6.478</td> <td> 0.000</td> <td>   -0.179</td> <td>   -0.096</td>\n",
       "</tr>\n",
       "<tr>\n",
       "  <th>TotRmsAbvGrd</th>  <td>    0.0082</td> <td>    0.005</td> <td>    1.591</td> <td> 0.112</td> <td>   -0.002</td> <td>    0.018</td>\n",
       "</tr>\n",
       "<tr>\n",
       "  <th>Fireplaces</th>    <td>    0.0204</td> <td>    0.008</td> <td>    2.681</td> <td> 0.007</td> <td>    0.005</td> <td>    0.035</td>\n",
       "</tr>\n",
       "</table>\n",
       "<table class=\"simpletable\">\n",
       "<tr>\n",
       "  <th>Omnibus:</th>       <td>669.449</td> <th>  Durbin-Watson:     </th> <td>   1.972</td>\n",
       "</tr>\n",
       "<tr>\n",
       "  <th>Prob(Omnibus):</th> <td> 0.000</td>  <th>  Jarque-Bera (JB):  </th> <td>9437.068</td>\n",
       "</tr>\n",
       "<tr>\n",
       "  <th>Skew:</th>          <td>-1.760</td>  <th>  Prob(JB):          </th> <td>    0.00</td>\n",
       "</tr>\n",
       "<tr>\n",
       "  <th>Kurtosis:</th>      <td>14.948</td>  <th>  Cond. No.          </th> <td>    157.</td>\n",
       "</tr>\n",
       "</table>"
      ],
      "text/plain": [
       "<class 'statsmodels.iolib.summary.Summary'>\n",
       "\"\"\"\n",
       "                            OLS Regression Results                            \n",
       "==============================================================================\n",
       "Dep. Variable:              SalePrice   R-squared:                       0.861\n",
       "Model:                            OLS   Adj. R-squared:                  0.859\n",
       "Method:                 Least Squares   F-statistic:                     317.8\n",
       "Date:                Thu, 27 Apr 2017   Prob (F-statistic):               0.00\n",
       "Time:                        15:26:30   Log-Likelihood:                 711.65\n",
       "No. Observations:                1460   AIC:                            -1365.\n",
       "Df Residuals:                    1431   BIC:                            -1212.\n",
       "Df Model:                          28                                         \n",
       "Covariance Type:            nonrobust                                         \n",
       "=================================================================================\n",
       "                    coef    std err          t      P>|t|      [0.025      0.975]\n",
       "---------------------------------------------------------------------------------\n",
       "Intercept        11.1741      0.053    210.516      0.000      11.070      11.278\n",
       "LotFrontage      -0.0055      0.004     -1.346      0.179      -0.014       0.003\n",
       "LotArea           0.0407      0.005      8.332      0.000       0.031       0.050\n",
       "MasVnrArea        0.0009      0.005      0.200      0.841      -0.008       0.010\n",
       "BsmtFinSF1        0.0302      0.006      5.378      0.000       0.019       0.041\n",
       "BsmtFinSF2       -0.0074      0.004     -1.657      0.098      -0.016       0.001\n",
       "BsmtUnfSF        -0.0016      0.006     -0.262      0.793      -0.013       0.010\n",
       "TotalBsmtSF       0.0141      0.006      2.291      0.022       0.002       0.026\n",
       "FirstFlrSF       -0.0585      0.016     -3.697      0.000      -0.090      -0.027\n",
       "SecondFlrSF      -0.0966      0.016     -6.126      0.000      -0.128      -0.066\n",
       "LowQualFinSF     -0.0211      0.004     -5.446      0.000      -0.029      -0.013\n",
       "GrLivArea         0.2034      0.020     10.206      0.000       0.164       0.242\n",
       "GarageArea        0.0495      0.005      9.211      0.000       0.039       0.060\n",
       "WoodDeckSF        0.0195      0.004      4.519      0.000       0.011       0.028\n",
       "OpenPorchSF       0.0108      0.005      2.338      0.020       0.002       0.020\n",
       "EnclosedPorch    -0.0193      0.004     -4.483      0.000      -0.028      -0.011\n",
       "ThreeSsnPorch     0.0029      0.004      0.836      0.404      -0.004       0.010\n",
       "ScreenPorch       0.0091      0.004      2.133      0.033       0.001       0.018\n",
       "PoolArea         -0.0098      0.004     -2.585      0.010      -0.017      -0.002\n",
       "MiscVal          -0.0083      0.004     -2.038      0.042      -0.016      -0.000\n",
       "OverallQual       0.1089      0.005     22.781      0.000       0.100       0.118\n",
       "OverallCond       0.0331      0.004      8.802      0.000       0.026       0.041\n",
       "BsmtFullBath      0.0495      0.011      4.696      0.000       0.029       0.070\n",
       "BsmtHalfBath      0.0104      0.018      0.593      0.553      -0.024       0.045\n",
       "FullBath          0.0784      0.011      7.393      0.000       0.058       0.099\n",
       "BedroomAbvGr     -0.0241      0.007     -3.309      0.001      -0.038      -0.010\n",
       "KitchenAbvGr     -0.1377      0.021     -6.478      0.000      -0.179      -0.096\n",
       "TotRmsAbvGrd      0.0082      0.005      1.591      0.112      -0.002       0.018\n",
       "Fireplaces        0.0204      0.008      2.681      0.007       0.005       0.035\n",
       "==============================================================================\n",
       "Omnibus:                      669.449   Durbin-Watson:                   1.972\n",
       "Prob(Omnibus):                  0.000   Jarque-Bera (JB):             9437.068\n",
       "Skew:                          -1.760   Prob(JB):                         0.00\n",
       "Kurtosis:                      14.948   Cond. No.                         157.\n",
       "==============================================================================\n",
       "\n",
       "Warnings:\n",
       "[1] Standard Errors assume that the covariance matrix of the errors is correctly specified.\n",
       "\"\"\""
      ]
     },
     "execution_count": 261,
     "metadata": {},
     "output_type": "execute_result"
    }
   ],
   "source": [
    "# this is the standard import if you're using \"formula notation\" (similar to R)\n",
    "import statsmodels.formula.api as smf\n",
    "\n",
    "# create a fitted model with all three features\n",
    "lm = smf.ols(formula='SalePrice ~ LotFrontage + LotArea + MasVnrArea + BsmtFinSF1 + BsmtFinSF2 + BsmtUnfSF + TotalBsmtSF + FirstFlrSF + SecondFlrSF + LowQualFinSF + GrLivArea + GarageArea + WoodDeckSF + OpenPorchSF + EnclosedPorch + ThreeSsnPorch + ScreenPorch + PoolArea + MiscVal + OverallQual + OverallCond + BsmtFullBath + BsmtHalfBath + FullBath + BedroomAbvGr + KitchenAbvGr + TotRmsAbvGrd + Fireplaces', data=train).fit()\n",
    "\n",
    "# print the coefficients\n",
    "lm.summary()"
   ]
  },
  {
   "cell_type": "code",
   "execution_count": 262,
   "metadata": {
    "scrolled": true
   },
   "outputs": [
    {
     "data": {
      "text/plain": [
       "MasVnrArea       8.414271e-01\n",
       "BsmtUnfSF        7.931320e-01\n",
       "BsmtHalfBath     5.529802e-01\n",
       "ThreeSsnPorch    4.035445e-01\n",
       "LotFrontage      1.786190e-01\n",
       "TotRmsAbvGrd     1.118334e-01\n",
       "BsmtFinSF2       9.777473e-02\n",
       "MiscVal          4.176936e-02\n",
       "ScreenPorch      3.310422e-02\n",
       "TotalBsmtSF      2.210066e-02\n",
       "OpenPorchSF      1.952980e-02\n",
       "PoolArea         9.842564e-03\n",
       "Fireplaces       7.433182e-03\n",
       "BedroomAbvGr     9.600875e-04\n",
       "FirstFlrSF       2.260827e-04\n",
       "EnclosedPorch    7.955633e-06\n",
       "WoodDeckSF       6.709543e-06\n",
       "BsmtFullBath     2.909035e-06\n",
       "BsmtFinSF1       8.793188e-08\n",
       "LowQualFinSF     6.050539e-08\n",
       "SecondFlrSF      1.162495e-09\n",
       "KitchenAbvGr     1.274979e-10\n",
       "FullBath         2.424824e-13\n",
       "LotArea          1.838430e-16\n",
       "OverallCond      3.797195e-18\n",
       "GarageArea       1.111225e-19\n",
       "GrLivArea        1.175387e-23\n",
       "OverallQual      2.842494e-98\n",
       "Intercept        0.000000e+00\n",
       "dtype: float64"
      ]
     },
     "execution_count": 262,
     "metadata": {},
     "output_type": "execute_result"
    }
   ],
   "source": [
    "lm.pvalues.sort_values(ascending = False, inplace=False)"
   ]
  },
  {
   "cell_type": "code",
   "execution_count": 263,
   "metadata": {},
   "outputs": [
    {
     "data": {
      "text/plain": [
       "MasVnrArea       0.841427\n",
       "BsmtUnfSF        0.793132\n",
       "BsmtHalfBath     0.552980\n",
       "ThreeSsnPorch    0.403544\n",
       "LotFrontage      0.178619\n",
       "TotRmsAbvGrd     0.111833\n",
       "BsmtFinSF2       0.097775\n",
       "MiscVal          0.041769\n",
       "ScreenPorch      0.033104\n",
       "TotalBsmtSF      0.022101\n",
       "dtype: float64"
      ]
     },
     "execution_count": 263,
     "metadata": {},
     "output_type": "execute_result"
    }
   ],
   "source": [
    "# Best features\n",
    "lm.pvalues.sort_values(ascending = False, inplace=False).head(10)"
   ]
  },
  {
   "cell_type": "code",
   "execution_count": 264,
   "metadata": {},
   "outputs": [
    {
     "data": {
      "text/plain": [
       "LowQualFinSF    6.050539e-08\n",
       "SecondFlrSF     1.162495e-09\n",
       "KitchenAbvGr    1.274979e-10\n",
       "FullBath        2.424824e-13\n",
       "LotArea         1.838430e-16\n",
       "OverallCond     3.797195e-18\n",
       "GarageArea      1.111225e-19\n",
       "GrLivArea       1.175387e-23\n",
       "OverallQual     2.842494e-98\n",
       "Intercept       0.000000e+00\n",
       "dtype: float64"
      ]
     },
     "execution_count": 264,
     "metadata": {},
     "output_type": "execute_result"
    }
   ],
   "source": [
    "# Worse features\n",
    "lm.pvalues.sort_values(ascending = False, inplace=False).tail(10)"
   ]
  },
  {
   "cell_type": "markdown",
   "metadata": {},
   "source": [
    "## Collinearity\n",
    "Let's check to see which predictors are correlated - many features are essentially the same thing."
   ]
  },
  {
   "cell_type": "code",
   "execution_count": 265,
   "metadata": {
    "scrolled": false
   },
   "outputs": [
    {
     "data": {
      "text/plain": [
       "<matplotlib.axes._subplots.AxesSubplot at 0x1214005f8>"
      ]
     },
     "execution_count": 265,
     "metadata": {},
     "output_type": "execute_result"
    },
    {
     "data": {
      "image/png": "[encoded data removed]",
      "text/plain": [
       "<matplotlib.figure.Figure at 0x1411b84e0>"
      ]
     },
     "metadata": {},
     "output_type": "display_data"
    }
   ],
   "source": [
    "# Compute the correlation matrix\n",
    "corr = data_full.corr()\n",
    "\n",
    "# Generate a mask for the upper triangle\n",
    "mask = np.zeros_like(corr, dtype=np.bool)\n",
    "mask[np.triu_indices_from(mask)] = True\n",
    "\n",
    "# Set up the matplotlib figure\n",
    "f, ax = plt.subplots(figsize=(11, 9))\n",
    "\n",
    "# Generate a custom diverging colormap\n",
    "cmap = sns.diverging_palette(220, 10, as_cmap=True)\n",
    "\n",
    "# Draw the heatmap with the mask and correct aspect ratio\n",
    "sns.heatmap(corr, mask=mask, cmap=cmap, vmax=.3,\n",
    "            square=True, xticklabels=5, yticklabels=5,\n",
    "            linewidths=.5, cbar_kws={\"shrink\": .5}, ax=ax)\n",
    "\n",
    "# Simpler version (but too small to be useful)\n",
    "# plt.matshow(data_full.corr())"
   ]
  },
  {
   "cell_type": "markdown",
   "metadata": {},
   "source": [
    "Several predictors seem to be correlated, but the maximum correlation appears to be 0.4, so it's not worth removing these."
   ]
  },
  {
   "cell_type": "markdown",
   "metadata": {},
   "source": [
    "## Modelling: splitting the testing and training sets again"
   ]
  },
  {
   "cell_type": "code",
   "execution_count": 266,
   "metadata": {
    "scrolled": true
   },
   "outputs": [
    {
     "name": "stdout",
     "output_type": "stream",
     "text": [
      "(1460, 81) (1460, 385)\n"
     ]
    }
   ],
   "source": [
    "# Features - remove the thing we're trying to predict!\n",
    "features = data_full.drop('SalePrice', axis = 1)\n",
    "\n",
    "# Create dummy variables - for each categorical data, make several booleans\n",
    "features = pd.get_dummies(features)\n",
    "\n",
    "#creating matrices for sklearn:\n",
    "X_train = features[:train.shape[0]]\n",
    "X_test = features[train.shape[0]:]\n",
    "y = train['SalePrice']\n",
    "\n",
    "# Verify that the \n",
    "print(train.shape, X_train.shape)"
   ]
  },
  {
   "cell_type": "markdown",
   "metadata": {},
   "source": [
    "## Ridge regularisation (L2 regularisation)"
   ]
  },
  {
   "cell_type": "code",
   "execution_count": 267,
   "metadata": {
    "collapsed": true
   },
   "outputs": [],
   "source": [
    "from sklearn.linear_model import Ridge, RidgeCV, ElasticNet, Lasso, LassoCV, LassoLarsCV\n",
    "from sklearn.model_selection import cross_val_score\n",
    "from sklearn.metrics import mean_squared_error, make_scorer"
   ]
  },
  {
   "cell_type": "code",
   "execution_count": 268,
   "metadata": {},
   "outputs": [],
   "source": [
    "# Define root-mean-square-error function - use 10-fold cross-validation\n",
    "# You have to use neg_mean_squared_error because mean_squared_error will be deprecated in future\n",
    "def rmse_cv(model):\n",
    "    rmse = np.sqrt(-cross_val_score(model, X_train, y, scoring=\"neg_mean_squared_error\", cv = 5))\n",
    "    return rmse\n",
    "\n",
    "# Define error measure for official scoring : RMSE\n",
    "scorer = make_scorer(mean_squared_error, greater_is_better = False)\n",
    "\n",
    "def rmse_cv_train(model):\n",
    "    rmse= np.sqrt(-cross_val_score(model, X_train, y_train, scoring = scorer, cv = 10))\n",
    "    return(rmse)\n",
    "\n",
    "def rmse_cv_test(model):\n",
    "    rmse= np.sqrt(-cross_val_score(model, X_test, y_test, scoring = scorer, cv = 10))\n",
    "    return(rmse)\n",
    "\n",
    "# Invoke Ridge regularisation\n",
    "model_ridge = Ridge()"
   ]
  },
  {
   "cell_type": "code",
   "execution_count": 269,
   "metadata": {
    "scrolled": true
   },
   "outputs": [],
   "source": [
    "# Tune parameters - the only parameter is alpha - the larger alpha, the larger the penalty for extra predictors\n",
    "alphas = [0.1, 0.3, 1, 3, 5, 10, 15, 30, 50, 75]\n",
    "# Work out the RMSE for each value of the alphas above: \n",
    "cv_ridge = [rmse_cv(Ridge(alpha = alpha)).mean() for alpha in alphas]\n",
    "cv_ridge = pd.Series(cv_ridge, index = alphas)"
   ]
  },
  {
   "cell_type": "code",
   "execution_count": 270,
   "metadata": {
    "scrolled": false
   },
   "outputs": [
    {
     "data": {
      "text/plain": [
       "<matplotlib.text.Text at 0x140cd7908>"
      ]
     },
     "execution_count": 270,
     "metadata": {},
     "output_type": "execute_result"
    },
    {
     "data": {
      "image/png": "[encoded data removed]",
      "text/plain": [
       "<matplotlib.figure.Figure at 0x12685ba90>"
      ]
     },
     "metadata": {},
     "output_type": "display_data"
    }
   ],
   "source": [
    "# Let's plot this\n",
    "matplotlib.rcParams['figure.figsize'] = (7,3)\n",
    "cv_ridge.plot(title = 'RMSE as a function of alpha (Ridge regularisation)')\n",
    "plt.xlabel('alpha')\n",
    "plt.ylabel('RMSE')"
   ]
  },
  {
   "cell_type": "markdown",
   "metadata": {},
   "source": [
    "We want to chose the value of $\\alpha$ that minimises the chart above. The extreme cases are $\\alpha = 0$, which corresponds to no penalty for each extra predictor, and $\\alpha\\to\\inf$ which corresponds to a null model.  We want a balance between flexibility and over-fitting, which represents the minimium of this chart."
   ]
  },
  {
   "cell_type": "code",
   "execution_count": 271,
   "metadata": {},
   "outputs": [
    {
     "data": {
      "text/plain": [
       "0.12700475231309477"
      ]
     },
     "execution_count": 271,
     "metadata": {},
     "output_type": "execute_result"
    }
   ],
   "source": [
    "cv_ridge.min()"
   ]
  },
  {
   "cell_type": "code",
   "execution_count": 272,
   "metadata": {
    "scrolled": false
   },
   "outputs": [
    {
     "data": {
      "text/plain": [
       "<matplotlib.axes._subplots.AxesSubplot at 0x119775ac8>"
      ]
     },
     "execution_count": 272,
     "metadata": {},
     "output_type": "execute_result"
    },
    {
     "data": {
      "image/png": "[encoded data removed]",
      "text/plain": [
       "<matplotlib.figure.Figure at 0x11dfd2828>"
      ]
     },
     "metadata": {},
     "output_type": "display_data"
    }
   ],
   "source": [
    "#let's look at the residuals as well:\n",
    "model_ridge = Ridge(alpha = 30)\n",
    "model_ridge.fit(X_train, y)\n",
    "\n",
    "matplotlib.rcParams['figure.figsize'] = (6.0, 6.0)\n",
    "\n",
    "preds = pd.DataFrame({\"preds\":model_ridge.predict(X_train), \"true\":y})\n",
    "preds[\"residuals\"] = preds[\"true\"] - preds[\"preds\"]\n",
    "preds.plot(x = \"preds\", y = \"residuals\",kind = \"scatter\")"
   ]
  },
  {
   "cell_type": "markdown",
   "metadata": {},
   "source": [
    "## Lasso regularisation (L1 regularisation)\n",
    "The advantage of Lasso regularisation is that it performs some feature selection"
   ]
  },
  {
   "cell_type": "code",
   "execution_count": 273,
   "metadata": {},
   "outputs": [],
   "source": [
    "model_lasso = LassoCV(alphas = [0.0001, 0.0003, 0.0006, 0.001, 0.003, 0.006, 0.01, 0.03, 0.06, 0.1, 0.3, 0.6, 1],\n",
    "                     max_iter = 50000, cv = 10).fit(X_train, y)\n",
    "coef = pd.Series(model_lasso.coef_, index = X_train.columns)"
   ]
  },
  {
   "cell_type": "code",
   "execution_count": 274,
   "metadata": {},
   "outputs": [
    {
     "data": {
      "text/plain": [
       "<matplotlib.text.Text at 0x14183e5f8>"
      ]
     },
     "execution_count": 274,
     "metadata": {},
     "output_type": "execute_result"
    },
    {
     "data": {
      "image/png": "[encoded data removed]",
      "text/plain": [
       "<matplotlib.figure.Figure at 0x119a87b00>"
      ]
     },
     "metadata": {},
     "output_type": "display_data"
    }
   ],
   "source": [
    "imp_coef = pd.concat([coef.sort_values().head(10),\n",
    "                     coef.sort_values().tail(10)])\n",
    "matplotlib.rcParams['figure.figsize'] = (8.0, 10.0)\n",
    "imp_coef.plot(kind = \"barh\")\n",
    "plt.title(\"Coefficients in the Lasso Model\")\n",
    "\n",
    "# we need to bootstrap this and do it on a few random samples"
   ]
  },
  {
   "cell_type": "code",
   "execution_count": 275,
   "metadata": {},
   "outputs": [
    {
     "data": {
      "text/plain": [
       "<matplotlib.axes._subplots.AxesSubplot at 0x1154a2a58>"
      ]
     },
     "execution_count": 275,
     "metadata": {},
     "output_type": "execute_result"
    },
    {
     "data": {
      "image/png": "[encoded data removed]",
      "text/plain": [
       "<matplotlib.figure.Figure at 0x13234a390>"
      ]
     },
     "metadata": {},
     "output_type": "display_data"
    }
   ],
   "source": [
    "#let's look at the residuals as well:\n",
    "matplotlib.rcParams['figure.figsize'] = (6.0, 6.0)\n",
    "\n",
    "preds = pd.DataFrame({\"preds\":model_lasso.predict(X_train), \"true\":y})\n",
    "preds[\"residuals\"] = preds[\"true\"] - preds[\"preds\"]\n",
    "preds.plot(x = \"preds\", y = \"residuals\",kind = \"scatter\")"
   ]
  },
  {
   "cell_type": "markdown",
   "metadata": {},
   "source": [
    "# Make predictions"
   ]
  },
  {
   "cell_type": "code",
   "execution_count": 276,
   "metadata": {},
   "outputs": [],
   "source": [
    "lasso_preds = np.expm1(model_lasso.predict(X_test))"
   ]
  },
  {
   "cell_type": "code",
   "execution_count": 278,
   "metadata": {},
   "outputs": [],
   "source": [
    "kaggle_export = pd.DataFrame({\n",
    "    'id': test['Id'],\n",
    "    'SalePrice': lasso_preds\n",
    "},\n",
    "columns = ['id', 'SalePrice'])"
   ]
  },
  {
   "cell_type": "code",
   "execution_count": 293,
   "metadata": {
    "collapsed": true
   },
   "outputs": [],
   "source": [
    "# Export with timestamp in filename so we can save results from different runs\n",
    "filebasename = 'kaggle_export'\n",
    "stamp = datetime.today().strftime('%Y%m%d-%H%M%S')\n",
    "filename = filebasename + stamp\n",
    "kaggle_export.to_csv(filebasename, index = False)"
   ]
  }
 ],
 "metadata": {
  "kernelspec": {
   "display_name": "Python [conda root]",
   "language": "python",
   "name": "conda-root-py"
  },
  "language_info": {
   "codemirror_mode": {
    "name": "ipython",
    "version": 3
   },
   "file_extension": ".py",
   "mimetype": "text/x-python",
   "name": "python",
   "nbconvert_exporter": "python",
   "pygments_lexer": "ipython3",
   "version": "3.5.2"
  }
 },
 "nbformat": 4,
 "nbformat_minor": 2
}
